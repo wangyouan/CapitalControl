{
 "cells": [
  {
   "cell_type": "code",
   "id": "initial_id",
   "metadata": {
    "collapsed": true,
    "ExecuteTime": {
     "end_time": "2024-09-08T12:57:16.160583Z",
     "start_time": "2024-09-08T12:57:16.152348Z"
    }
   },
   "source": [
    "import os\n",
    "import zipfile\n",
    "\n",
    "import numpy as np\n",
    "import pandas as pd\n",
    "from pandas import DataFrame\n",
    "from scipy.stats.mstats import winsorize\n",
    "\n",
    "from Constant import Constants as const\n",
    "from OrganizeData.step02_merge_all_financial_data import sort_csmar_data"
   ],
   "outputs": [],
   "execution_count": 18
  },
  {
   "metadata": {
    "ExecuteTime": {
     "end_time": "2024-09-08T13:31:31.252040Z",
     "start_time": "2024-09-08T13:31:31.064262Z"
    }
   },
   "cell_type": "code",
   "source": [
    "ldx_df: DataFrame = pd.read_pickle(os.path.join(const.TEMP_PATH, '20240905_ldy_china_data.pkl')).rename(columns={'code': const.TICKER, 'year': const.YEAR})\n",
    "er_guarantee_df: DataFrame = pd.read_csv(os.path.join(r'D:\\Onedrive\\Projects\\CapitalControl\\data\\KarXiong', 'df4.csv'), usecols=['Symbol', 'Year', 'TotalLoan', 'NumGuarantee']).rename(columns={\"Symbol\": const.TICKER, 'Year': const.YEAR})\n"
   ],
   "id": "8b8c4490827af21a",
   "outputs": [],
   "execution_count": 38
  },
  {
   "metadata": {
    "ExecuteTime": {
     "end_time": "2024-09-08T13:31:35.496451Z",
     "start_time": "2024-09-08T13:31:35.405168Z"
    }
   },
   "cell_type": "code",
   "source": [
    "for key in ['bsize', 'totalassets', 'firmage', 'fixedassets', 'listage']:\n",
    "    ldx_df[f'ln_{key}'] = np.log(ldx_df[key] + 2)\n",
    "    \n",
    "ldx_df.sort_values(by=[const.TICKER, const.YEAR], ascending=True, inplace=True)\n",
    "ldx_df['lagged_at'] = ldx_df.groupby(const.TICKER)['totalassets'].shift(1)\n",
    "ldx_df['sale_diff'] = ldx_df.groupby(const.TICKER)['sales'].diff(1)\n",
    "ldx_df['sale_growth'] = ldx_df['sale_diff'] / ldx_df['lagged_at']\n",
    "ldx_df['fix_at'] = ldx_df['fixedassets'] / ldx_df['lagged_at']\n",
    "ldx_df['salecost_at'] = ldx_df['cost'] / ldx_df['lagged_at']\n",
    "ldx_df['rev_at'] = ldx_df['revenue'] / ldx_df['lagged_at']\n",
    "\n",
    "ldx_df.replace([np.inf, -np.inf], np.nan, inplace=True)\n",
    "\n",
    "for key in ['zscore', 'tbq3', 'mb', 'incometaxtate', 'tbq2', 'roa', 'growth', 'tbq1', 'lev', 'tbq4', 'sale_growth', 'fix_at', 'salecost_at', 'rev_at']:\n",
    "    ldx_df.loc[ldx_df[key].notnull(), key] = winsorize(ldx_df[key].dropna(), limits=(0.01, 0.01))"
   ],
   "id": "e502cd90e12788eb",
   "outputs": [],
   "execution_count": 40
  },
  {
   "metadata": {},
   "cell_type": "markdown",
   "source": "",
   "id": "455efac78a5e230e"
  },
  {
   "metadata": {
    "ExecuteTime": {
     "end_time": "2024-09-08T13:36:07.819109Z",
     "start_time": "2024-09-08T13:36:07.791349Z"
    }
   },
   "cell_type": "code",
   "source": [
    "reg_df: DataFrame = ldx_df.merge(er_guarantee_df, on=[const.TICKER, const.YEAR], how='left')\n",
    "reg_df.loc[:, 'Post2017'] = (reg_df[const.YEAR] >= 2017).astype(int)\n",
    "\n",
    "# Filter the DataFrame to include only the years 2014 to 2017\n",
    "df5_filtered = er_guarantee_df[(er_guarantee_df[const.YEAR] >= 2014) & (er_guarantee_df[const.YEAR] <= 2017)]\n",
    "\n",
    "# Create a new column \"er_foreign_gua\" and set it to 0 initially\n",
    "reg_df['er_foreign_gua'] = 0\n",
    "\n",
    "# Identify Symbols with at least one \"NumGuarantee\" greater than 0 between 2014 and 2017\n",
    "symbols_with_gua = df5_filtered[df5_filtered['NumGuarantee'] > 0][const.TICKER].unique()\n",
    "\n",
    "reg_df.loc[reg_df[const.TICKER].isin(symbols_with_gua), 'er_foreign_gua'] = 1\n",
    "reg_df['has_guarantee'] = 0\n",
    "reg_df.loc[reg_df['NumGuarantee'] > 0, 'has_guarantee'] = 1"
   ],
   "id": "305461f2abcf1ac0",
   "outputs": [],
   "execution_count": 45
  },
  {
   "metadata": {
    "ExecuteTime": {
     "end_time": "2024-09-08T13:36:36.393546Z",
     "start_time": "2024-09-08T13:36:36.349539Z"
    }
   },
   "cell_type": "code",
   "source": "reg_df.to_pickle(os.path.join(const.TEMP_PATH, '20240908_temp_base_reg_data.pkl'))",
   "id": "9e9fb0c1add0a4df",
   "outputs": [],
   "execution_count": 46
  },
  {
   "metadata": {},
   "cell_type": "markdown",
   "source": "# Construct some financial data from CSMAR",
   "id": "3a692b66c344d3cd"
  },
  {
   "metadata": {
    "ExecuteTime": {
     "end_time": "2024-09-08T12:57:22.229088Z",
     "start_time": "2024-09-08T12:57:19.038017Z"
    }
   },
   "cell_type": "code",
   "source": [
    "with zipfile.ZipFile(os.path.join(const.CSMAR_PATH, '财务指标文件.zip'), 'r') as zip_ref:\n",
    "    with zip_ref.open('CSR_Finidx.csv') as csv_file:\n",
    "        finidx_df: DataFrame = pd.read_csv(csv_file, on_bad_lines='skip', usecols=['Stkcd', 'Accper', 'Outcap', 'Surplus', 'D610000', 'B150101', 'B140204', 'B140101', 'B120101', 'A100000', 'A200000']).rename(columns={'D610000': 'OCF', 'B150101': 'NetIncome', 'B140204': 'TXPD', 'B140101': 'EarningBI', 'B120101': 'OperatingRevenue', 'A100000': 'TotalAssets', 'A200000': 'TotalLiabilities'})\n",
    "        finidx_df: DataFrame = sort_csmar_data(finidx_df)"
   ],
   "id": "2f505bbd0e87fa79",
   "outputs": [
    {
     "name": "stderr",
     "output_type": "stream",
     "text": [
      "C:\\Users\\wangy\\AppData\\Local\\Temp\\ipykernel_27200\\218993644.py:21: DtypeWarning: Columns (5) have mixed types. Specify dtype option on import or set low_memory=False.\n",
      "  gov_grant_df: DataFrame = pd.read_csv(csv_file, on_bad_lines='skip', usecols=['Stkcd', 'Accper', 'Item', 'Amount']).rename(\n"
     ]
    },
    {
     "ename": "ValueError",
     "evalue": "Usecols do not match columns, columns expected but not found: ['RDInvest', 'RDSpendSumRatio', 'RDPersonRatio', 'RDInvestNetprofitRatio', 'RDInvestRatio', 'RDSpendSum', 'RDExpenses', 'RDPerson']",
     "output_type": "error",
     "traceback": [
      "\u001B[1;31m---------------------------------------------------------------------------\u001B[0m",
      "\u001B[1;31mValueError\u001B[0m                                Traceback (most recent call last)",
      "Cell \u001B[1;32mIn[19], line 34\u001B[0m\n\u001B[0;32m     32\u001B[0m \u001B[38;5;28;01mwith\u001B[39;00m zipfile\u001B[38;5;241m.\u001B[39mZipFile(os\u001B[38;5;241m.\u001B[39mpath\u001B[38;5;241m.\u001B[39mjoin(const\u001B[38;5;241m.\u001B[39mCSMAR_PATH, \u001B[38;5;124m'\u001B[39m\u001B[38;5;124m财务指标.zip\u001B[39m\u001B[38;5;124m'\u001B[39m), \u001B[38;5;124m'\u001B[39m\u001B[38;5;124mr\u001B[39m\u001B[38;5;124m'\u001B[39m) \u001B[38;5;28;01mas\u001B[39;00m zip_ref:\n\u001B[0;32m     33\u001B[0m     \u001B[38;5;28;01mwith\u001B[39;00m zip_ref\u001B[38;5;241m.\u001B[39mopen(\u001B[38;5;124m'\u001B[39m\u001B[38;5;124mBDT_FinIndex.csv\u001B[39m\u001B[38;5;124m'\u001B[39m) \u001B[38;5;28;01mas\u001B[39;00m csv_file:\n\u001B[1;32m---> 34\u001B[0m         rd_spending_df: DataFrame \u001B[38;5;241m=\u001B[39m pd\u001B[38;5;241m.\u001B[39mread_csv(csv_file, usecols\u001B[38;5;241m=\u001B[39m[\u001B[38;5;124m'\u001B[39m\u001B[38;5;124mSymbol\u001B[39m\u001B[38;5;124m'\u001B[39m, \u001B[38;5;124m'\u001B[39m\u001B[38;5;124mEndDate\u001B[39m\u001B[38;5;124m'\u001B[39m, \u001B[38;5;124m'\u001B[39m\u001B[38;5;124mRDPerson\u001B[39m\u001B[38;5;124m'\u001B[39m, \u001B[38;5;124m'\u001B[39m\u001B[38;5;124mRDPersonRatio\u001B[39m\u001B[38;5;124m'\u001B[39m, \u001B[38;5;124m'\u001B[39m\u001B[38;5;124mRDSpendSum\u001B[39m\u001B[38;5;124m'\u001B[39m, \u001B[38;5;124m'\u001B[39m\u001B[38;5;124mRDSpendSumRatio\u001B[39m\u001B[38;5;124m'\u001B[39m, \u001B[38;5;124m'\u001B[39m\u001B[38;5;124mRDExpenses\u001B[39m\u001B[38;5;124m'\u001B[39m, \u001B[38;5;124m'\u001B[39m\u001B[38;5;124mRDInvest\u001B[39m\u001B[38;5;124m'\u001B[39m, \u001B[38;5;124m'\u001B[39m\u001B[38;5;124mRDInvestRatio\u001B[39m\u001B[38;5;124m'\u001B[39m, \u001B[38;5;124m'\u001B[39m\u001B[38;5;124mRDInvestNetprofitRatio\u001B[39m\u001B[38;5;124m'\u001B[39m], dtype\u001B[38;5;241m=\u001B[39m{\u001B[38;5;124m'\u001B[39m\u001B[38;5;124mEndDate\u001B[39m\u001B[38;5;124m'\u001B[39m: \u001B[38;5;124m'\u001B[39m\u001B[38;5;124mstr\u001B[39m\u001B[38;5;124m'\u001B[39m})\n\u001B[0;32m     35\u001B[0m         rd_spending_df[\u001B[38;5;124m'\u001B[39m\u001B[38;5;124mEndDate\u001B[39m\u001B[38;5;124m'\u001B[39m] \u001B[38;5;241m=\u001B[39m pd\u001B[38;5;241m.\u001B[39mto_datetime(rd_spending_df[\u001B[38;5;124m'\u001B[39m\u001B[38;5;124mEndDate\u001B[39m\u001B[38;5;124m'\u001B[39m], \u001B[38;5;28mformat\u001B[39m\u001B[38;5;241m=\u001B[39m\u001B[38;5;124m'\u001B[39m\u001B[38;5;124m%\u001B[39m\u001B[38;5;124mY-\u001B[39m\u001B[38;5;124m%\u001B[39m\u001B[38;5;124mm-\u001B[39m\u001B[38;5;132;01m%d\u001B[39;00m\u001B[38;5;124m'\u001B[39m, errors\u001B[38;5;241m=\u001B[39m\u001B[38;5;124m'\u001B[39m\u001B[38;5;124mcoerce\u001B[39m\u001B[38;5;124m'\u001B[39m)\n\u001B[0;32m     36\u001B[0m         rd_spending_df\u001B[38;5;241m.\u001B[39mdropna(subset\u001B[38;5;241m=\u001B[39m[\u001B[38;5;124m'\u001B[39m\u001B[38;5;124mEndDate\u001B[39m\u001B[38;5;124m'\u001B[39m, \u001B[38;5;124m'\u001B[39m\u001B[38;5;124mSymbol\u001B[39m\u001B[38;5;124m'\u001B[39m], how\u001B[38;5;241m=\u001B[39m\u001B[38;5;124m'\u001B[39m\u001B[38;5;124many\u001B[39m\u001B[38;5;124m'\u001B[39m, inplace\u001B[38;5;241m=\u001B[39m\u001B[38;5;28;01mTrue\u001B[39;00m)\n",
      "File \u001B[1;32mD:\\Users\\wangy\\anaconda3\\Lib\\site-packages\\pandas\\io\\parsers\\readers.py:1026\u001B[0m, in \u001B[0;36mread_csv\u001B[1;34m(filepath_or_buffer, sep, delimiter, header, names, index_col, usecols, dtype, engine, converters, true_values, false_values, skipinitialspace, skiprows, skipfooter, nrows, na_values, keep_default_na, na_filter, verbose, skip_blank_lines, parse_dates, infer_datetime_format, keep_date_col, date_parser, date_format, dayfirst, cache_dates, iterator, chunksize, compression, thousands, decimal, lineterminator, quotechar, quoting, doublequote, escapechar, comment, encoding, encoding_errors, dialect, on_bad_lines, delim_whitespace, low_memory, memory_map, float_precision, storage_options, dtype_backend)\u001B[0m\n\u001B[0;32m   1013\u001B[0m kwds_defaults \u001B[38;5;241m=\u001B[39m _refine_defaults_read(\n\u001B[0;32m   1014\u001B[0m     dialect,\n\u001B[0;32m   1015\u001B[0m     delimiter,\n\u001B[1;32m   (...)\u001B[0m\n\u001B[0;32m   1022\u001B[0m     dtype_backend\u001B[38;5;241m=\u001B[39mdtype_backend,\n\u001B[0;32m   1023\u001B[0m )\n\u001B[0;32m   1024\u001B[0m kwds\u001B[38;5;241m.\u001B[39mupdate(kwds_defaults)\n\u001B[1;32m-> 1026\u001B[0m \u001B[38;5;28;01mreturn\u001B[39;00m _read(filepath_or_buffer, kwds)\n",
      "File \u001B[1;32mD:\\Users\\wangy\\anaconda3\\Lib\\site-packages\\pandas\\io\\parsers\\readers.py:620\u001B[0m, in \u001B[0;36m_read\u001B[1;34m(filepath_or_buffer, kwds)\u001B[0m\n\u001B[0;32m    617\u001B[0m _validate_names(kwds\u001B[38;5;241m.\u001B[39mget(\u001B[38;5;124m\"\u001B[39m\u001B[38;5;124mnames\u001B[39m\u001B[38;5;124m\"\u001B[39m, \u001B[38;5;28;01mNone\u001B[39;00m))\n\u001B[0;32m    619\u001B[0m \u001B[38;5;66;03m# Create the parser.\u001B[39;00m\n\u001B[1;32m--> 620\u001B[0m parser \u001B[38;5;241m=\u001B[39m TextFileReader(filepath_or_buffer, \u001B[38;5;241m*\u001B[39m\u001B[38;5;241m*\u001B[39mkwds)\n\u001B[0;32m    622\u001B[0m \u001B[38;5;28;01mif\u001B[39;00m chunksize \u001B[38;5;129;01mor\u001B[39;00m iterator:\n\u001B[0;32m    623\u001B[0m     \u001B[38;5;28;01mreturn\u001B[39;00m parser\n",
      "File \u001B[1;32mD:\\Users\\wangy\\anaconda3\\Lib\\site-packages\\pandas\\io\\parsers\\readers.py:1620\u001B[0m, in \u001B[0;36mTextFileReader.__init__\u001B[1;34m(self, f, engine, **kwds)\u001B[0m\n\u001B[0;32m   1617\u001B[0m     \u001B[38;5;28mself\u001B[39m\u001B[38;5;241m.\u001B[39moptions[\u001B[38;5;124m\"\u001B[39m\u001B[38;5;124mhas_index_names\u001B[39m\u001B[38;5;124m\"\u001B[39m] \u001B[38;5;241m=\u001B[39m kwds[\u001B[38;5;124m\"\u001B[39m\u001B[38;5;124mhas_index_names\u001B[39m\u001B[38;5;124m\"\u001B[39m]\n\u001B[0;32m   1619\u001B[0m \u001B[38;5;28mself\u001B[39m\u001B[38;5;241m.\u001B[39mhandles: IOHandles \u001B[38;5;241m|\u001B[39m \u001B[38;5;28;01mNone\u001B[39;00m \u001B[38;5;241m=\u001B[39m \u001B[38;5;28;01mNone\u001B[39;00m\n\u001B[1;32m-> 1620\u001B[0m \u001B[38;5;28mself\u001B[39m\u001B[38;5;241m.\u001B[39m_engine \u001B[38;5;241m=\u001B[39m \u001B[38;5;28mself\u001B[39m\u001B[38;5;241m.\u001B[39m_make_engine(f, \u001B[38;5;28mself\u001B[39m\u001B[38;5;241m.\u001B[39mengine)\n",
      "File \u001B[1;32mD:\\Users\\wangy\\anaconda3\\Lib\\site-packages\\pandas\\io\\parsers\\readers.py:1898\u001B[0m, in \u001B[0;36mTextFileReader._make_engine\u001B[1;34m(self, f, engine)\u001B[0m\n\u001B[0;32m   1895\u001B[0m     \u001B[38;5;28;01mraise\u001B[39;00m \u001B[38;5;167;01mValueError\u001B[39;00m(msg)\n\u001B[0;32m   1897\u001B[0m \u001B[38;5;28;01mtry\u001B[39;00m:\n\u001B[1;32m-> 1898\u001B[0m     \u001B[38;5;28;01mreturn\u001B[39;00m mapping[engine](f, \u001B[38;5;241m*\u001B[39m\u001B[38;5;241m*\u001B[39m\u001B[38;5;28mself\u001B[39m\u001B[38;5;241m.\u001B[39moptions)\n\u001B[0;32m   1899\u001B[0m \u001B[38;5;28;01mexcept\u001B[39;00m \u001B[38;5;167;01mException\u001B[39;00m:\n\u001B[0;32m   1900\u001B[0m     \u001B[38;5;28;01mif\u001B[39;00m \u001B[38;5;28mself\u001B[39m\u001B[38;5;241m.\u001B[39mhandles \u001B[38;5;129;01mis\u001B[39;00m \u001B[38;5;129;01mnot\u001B[39;00m \u001B[38;5;28;01mNone\u001B[39;00m:\n",
      "File \u001B[1;32mD:\\Users\\wangy\\anaconda3\\Lib\\site-packages\\pandas\\io\\parsers\\c_parser_wrapper.py:140\u001B[0m, in \u001B[0;36mCParserWrapper.__init__\u001B[1;34m(self, src, **kwds)\u001B[0m\n\u001B[0;32m    136\u001B[0m \u001B[38;5;28;01massert\u001B[39;00m \u001B[38;5;28mself\u001B[39m\u001B[38;5;241m.\u001B[39morig_names \u001B[38;5;129;01mis\u001B[39;00m \u001B[38;5;129;01mnot\u001B[39;00m \u001B[38;5;28;01mNone\u001B[39;00m\n\u001B[0;32m    137\u001B[0m \u001B[38;5;28;01mif\u001B[39;00m \u001B[38;5;28mself\u001B[39m\u001B[38;5;241m.\u001B[39musecols_dtype \u001B[38;5;241m==\u001B[39m \u001B[38;5;124m\"\u001B[39m\u001B[38;5;124mstring\u001B[39m\u001B[38;5;124m\"\u001B[39m \u001B[38;5;129;01mand\u001B[39;00m \u001B[38;5;129;01mnot\u001B[39;00m \u001B[38;5;28mset\u001B[39m(usecols)\u001B[38;5;241m.\u001B[39missubset(\n\u001B[0;32m    138\u001B[0m     \u001B[38;5;28mself\u001B[39m\u001B[38;5;241m.\u001B[39morig_names\n\u001B[0;32m    139\u001B[0m ):\n\u001B[1;32m--> 140\u001B[0m     \u001B[38;5;28mself\u001B[39m\u001B[38;5;241m.\u001B[39m_validate_usecols_names(usecols, \u001B[38;5;28mself\u001B[39m\u001B[38;5;241m.\u001B[39morig_names)\n\u001B[0;32m    142\u001B[0m \u001B[38;5;66;03m# error: Cannot determine type of 'names'\u001B[39;00m\n\u001B[0;32m    143\u001B[0m \u001B[38;5;28;01mif\u001B[39;00m \u001B[38;5;28mlen\u001B[39m(\u001B[38;5;28mself\u001B[39m\u001B[38;5;241m.\u001B[39mnames) \u001B[38;5;241m>\u001B[39m \u001B[38;5;28mlen\u001B[39m(usecols):  \u001B[38;5;66;03m# type: ignore[has-type]\u001B[39;00m\n\u001B[0;32m    144\u001B[0m     \u001B[38;5;66;03m# error: Cannot determine type of 'names'\u001B[39;00m\n",
      "File \u001B[1;32mD:\\Users\\wangy\\anaconda3\\Lib\\site-packages\\pandas\\io\\parsers\\base_parser.py:979\u001B[0m, in \u001B[0;36mParserBase._validate_usecols_names\u001B[1;34m(self, usecols, names)\u001B[0m\n\u001B[0;32m    977\u001B[0m missing \u001B[38;5;241m=\u001B[39m [c \u001B[38;5;28;01mfor\u001B[39;00m c \u001B[38;5;129;01min\u001B[39;00m usecols \u001B[38;5;28;01mif\u001B[39;00m c \u001B[38;5;129;01mnot\u001B[39;00m \u001B[38;5;129;01min\u001B[39;00m names]\n\u001B[0;32m    978\u001B[0m \u001B[38;5;28;01mif\u001B[39;00m \u001B[38;5;28mlen\u001B[39m(missing) \u001B[38;5;241m>\u001B[39m \u001B[38;5;241m0\u001B[39m:\n\u001B[1;32m--> 979\u001B[0m     \u001B[38;5;28;01mraise\u001B[39;00m \u001B[38;5;167;01mValueError\u001B[39;00m(\n\u001B[0;32m    980\u001B[0m         \u001B[38;5;124mf\u001B[39m\u001B[38;5;124m\"\u001B[39m\u001B[38;5;124mUsecols do not match columns, columns expected but not found: \u001B[39m\u001B[38;5;124m\"\u001B[39m\n\u001B[0;32m    981\u001B[0m         \u001B[38;5;124mf\u001B[39m\u001B[38;5;124m\"\u001B[39m\u001B[38;5;132;01m{\u001B[39;00mmissing\u001B[38;5;132;01m}\u001B[39;00m\u001B[38;5;124m\"\u001B[39m\n\u001B[0;32m    982\u001B[0m     )\n\u001B[0;32m    984\u001B[0m \u001B[38;5;28;01mreturn\u001B[39;00m usecols\n",
      "\u001B[1;31mValueError\u001B[0m: Usecols do not match columns, columns expected but not found: ['RDInvest', 'RDSpendSumRatio', 'RDPersonRatio', 'RDInvestNetprofitRatio', 'RDInvestRatio', 'RDSpendSum', 'RDExpenses', 'RDPerson']"
     ]
    }
   ],
   "execution_count": 19
  },
  {
   "metadata": {
    "ExecuteTime": {
     "end_time": "2024-09-08T13:00:06.100282Z",
     "start_time": "2024-09-08T13:00:03.993724Z"
    }
   },
   "cell_type": "code",
   "source": [
    "with zipfile.ZipFile(os.path.join(const.CSMAR_PATH, '研发投入情况表.zip'), 'r') as zip_ref:\n",
    "    with zip_ref.open('PT_LCRDSPENDING.csv') as csv_file:\n",
    "        rd_spending_df: DataFrame = pd.read_csv(csv_file, usecols=['Symbol', 'EndDate', 'RDPerson', 'RDPersonRatio', 'RDSpendSum', 'RDSpendSumRatio', 'RDExpenses', 'RDInvest', 'RDInvestRatio', 'RDInvestNetprofitRatio'], dtype={'EndDate': 'str'})\n",
    "        rd_spending_df['EndDate'] = pd.to_datetime(rd_spending_df['EndDate'], format='%Y-%m-%d', errors='coerce')\n",
    "        rd_spending_df.dropna(subset=['EndDate', 'Symbol'], how='any', inplace=True)\n",
    "        rd_spending_df[const.TICKER] = rd_spending_df['Symbol'].astype(int)\n",
    "        rd_spending_df[const.YEAR] = rd_spending_df['EndDate'].dt.year\n",
    "        for key in ['RDPerson', 'RDPersonRatio', 'RDSpendSum', 'RDSpendSumRatio', 'RDExpenses', 'RDInvest', 'RDInvestRatio', 'RDInvestNetprofitRatio']:\n",
    "            rd_spending_df[key] = rd_spending_df[key].astype(np.float64)\n",
    "        rd_spend_df1: DataFrame = rd_spending_df.groupby([const.TICKER, const.YEAR])[['RDPerson', 'RDSpendSum', 'RDExpenses', 'RDInvest']].sum()\n",
    "        rd_spend_df2: DataFrame = rd_spending_df.groupby([const.TICKER, const.YEAR])[['RDPersonRatio', 'RDSpendSumRatio', 'RDInvestRatio', 'RDInvestNetprofitRatio']].mean()\n",
    "        rd_spend_df: DataFrame = rd_spend_df1.merge(rd_spend_df2, left_index=True, right_index=True, how='outer').reset_index(drop=False)\n",
    "        \n",
    "with zipfile.ZipFile(os.path.join(const.CSMAR_PATH, '政府补助.zip'), 'r') as zip_ref:\n",
    "    with zip_ref.open('PT_LCGovGrants.csv') as csv_file:\n",
    "        gov_grant_df: DataFrame = pd.read_csv(csv_file, on_bad_lines='skip', usecols=['Stkcd', 'Accper', 'Item', 'Amount']).rename(\n",
    "            columns={'Stkcd': const.TICKER})\n",
    "        gov_grant_df = gov_grant_df[gov_grant_df['Item'] == '合计']\n",
    "        gov_grant_df['Accper'] = pd.to_datetime(gov_grant_df['Accper'], format='%Y-%m-%d', errors='coerce')\n",
    "        gov_grant_df[const.YEAR] = gov_grant_df['Accper'].dt.year\n",
    "        gov_grant_df['GovGrantAmount'] = gov_grant_df['Amount'].astype(float)\n",
    "        gov_grant_df.dropna(subset=['GovGrantAmount'], inplace=True)\n",
    "        gov_grant_df = gov_grant_df[gov_grant_df['GovGrantAmount'] > 0]\n",
    "        gov_grant_df2: DataFrame = gov_grant_df.groupby([const.TICKER, const.YEAR])['GovGrantAmount'].sum().reset_index(drop=False)\n",
    "        gov_grant_df2['lnGovGrantAmount'] = gov_grant_df2['GovGrantAmount'].apply(np.log)"
   ],
   "id": "eae3f48699455a63",
   "outputs": [
    {
     "name": "stderr",
     "output_type": "stream",
     "text": [
      "C:\\Users\\wangy\\AppData\\Local\\Temp\\ipykernel_27200\\2889229940.py:16: DtypeWarning: Columns (5) have mixed types. Specify dtype option on import or set low_memory=False.\n",
      "  gov_grant_df: DataFrame = pd.read_csv(csv_file, on_bad_lines='skip', usecols=['Stkcd', 'Accper', 'Item', 'Amount']).rename(\n"
     ]
    }
   ],
   "execution_count": 24
  },
  {
   "metadata": {
    "ExecuteTime": {
     "end_time": "2024-09-08T13:02:01.271308Z",
     "start_time": "2024-09-08T13:01:58.658218Z"
    }
   },
   "cell_type": "code",
   "source": [
    "with zipfile.ZipFile(os.path.join(const.CSMAR_PATH, '财务指标.zip'), 'r') as zip_ref:\n",
    "    with zip_ref.open('BDT_FinIndex.csv') as csv_file:\n",
    "        finindex_df: DataFrame = pd.read_csv(csv_file, on_bad_lines='skip', usecols=['Symbol', 'EndDate', 'TotalAssets', 'TotalLiabilities', 'OperatingRevenue', 'IncomeTaxTate', 'TaxBearing', 'BankLoanRatio'])\n",
    "        finindex_df[const.TICKER] = finindex_df['Symbol'].astype(int)\n",
    "        finindex_df['EndDate'] = pd.to_datetime(finindex_df['EndDate'], format='%Y-%m-%d', errors='coerce')\n",
    "        finindex_df[const.YEAR] = finindex_df['EndDate'].dt.year\n",
    "        finindex_df.drop_duplicates(subset=[const.TICKER, const.YEAR], keep='last', inplace=True)\n",
    "        finindex_df.drop(['Symbol', 'EndDate'], axis=1, inplace=True)\n",
    "        \n",
    "with zipfile.ZipFile(os.path.join(const.CSMAR_PATH, '融资约束—WW指数.zip'), 'r') as zip_ref:\n",
    "    with zip_ref.open('BDT_FinConstWW.csv') as csv_file:\n",
    "        fcww_df: DataFrame = pd.read_csv(csv_file, on_bad_lines='skip', usecols=['Symbol', 'Enddate', 'WW', 'OperatingRevenueGrowth'])\n",
    "        fcww_df[const.TICKER] = fcww_df['Symbol'].astype(int)\n",
    "        fcww_df['Enddate'] = pd.to_datetime(fcww_df['Enddate'], format='%Y-%m-%d', errors='coerce')\n",
    "        fcww_df[const.YEAR] = fcww_df['Enddate'].dt.year\n",
    "        fcww_df.drop_duplicates(subset=[const.TICKER, const.YEAR], keep='last', inplace=True)\n",
    "        fcww_df.drop(['Symbol', 'Enddate'], axis=1, inplace=True)\n",
    "        \n",
    "with zipfile.ZipFile(os.path.join(const.CSMAR_PATH, '融资约束—SA指数.zip'), 'r') as zip_ref:\n",
    "    with zip_ref.open('BDT_FinConstSA.csv') as csv_file:\n",
    "        fcsa_df: DataFrame = pd.read_csv(csv_file, on_bad_lines='skip', usecols=['Symbol', 'Enddate', 'SA'])\n",
    "        fcsa_df[const.TICKER] = fcsa_df['Symbol'].astype(int)\n",
    "        fcsa_df['Enddate'] = pd.to_datetime(fcsa_df['Enddate'], format='%Y-%m-%d', errors='coerce')\n",
    "        fcsa_df[const.YEAR] = fcsa_df['Enddate'].dt.year\n",
    "        fcsa_df.drop_duplicates(subset=[const.TICKER, const.YEAR], keep='last', inplace=True)\n",
    "        fcsa_df.drop(['Symbol', 'Enddate'], axis=1, inplace=True)\n",
    "        \n",
    "with zipfile.ZipFile(os.path.join(const.CSMAR_PATH, '融资约束—KZ指数.zip'), 'r') as zip_ref:\n",
    "    with zip_ref.open('BDT_FinConstKZ.csv') as csv_file:\n",
    "        fckz_df: DataFrame = pd.read_csv(csv_file, on_bad_lines='skip', usecols=['Symbol', 'Enddate', 'KZ', 'TobinQ'])\n",
    "        fckz_df[const.TICKER] = fckz_df['Symbol'].astype(int)\n",
    "        fckz_df['Enddate'] = pd.to_datetime(fckz_df['Enddate'], format='%Y-%m-%d', errors='coerce')\n",
    "        fckz_df[const.YEAR] = fckz_df['Enddate'].dt.year\n",
    "        fckz_df.drop_duplicates(subset=[const.TICKER, const.YEAR], keep='last', inplace=True)\n",
    "        fckz_df.drop(['Symbol', 'Enddate'], axis=1, inplace=True)\n",
    "        \n",
    "with zipfile.ZipFile(os.path.join(const.CSMAR_PATH, '融资约束—FC指数.zip'), 'r') as zip_ref:\n",
    "    with zip_ref.open('BDT_FinConstFC.csv') as csv_file:\n",
    "        fcfc_df: DataFrame = pd.read_csv(csv_file, on_bad_lines='skip', usecols=['Symbol', 'Enddate', 'FC', 'EBIT'])\n",
    "        fcfc_df[const.TICKER] = fcfc_df['Symbol'].astype(int)\n",
    "        fcfc_df['Enddate'] = pd.to_datetime(fcfc_df['Enddate'], format='%Y-%m-%d', errors='coerce')\n",
    "        fcfc_df[const.YEAR] = fcfc_df['Enddate'].dt.year\n",
    "        fcfc_df.drop_duplicates(subset=[const.TICKER, const.YEAR], keep='last', inplace=True)\n",
    "        fcfc_df.drop(['Symbol', 'Enddate'], axis=1, inplace=True)\n"
   ],
   "id": "75b87d263185abe8",
   "outputs": [],
   "execution_count": 26
  },
  {
   "metadata": {
    "ExecuteTime": {
     "end_time": "2024-09-08T13:29:58.731662Z",
     "start_time": "2024-09-08T13:29:58.589419Z"
    }
   },
   "cell_type": "code",
   "source": "csmar_data_df: DataFrame = finidx_df.merge(rd_spend_df, on=[const.TICKER, const.YEAR], how='outer').merge(gov_grant_df2, on=[const.TICKER, const.YEAR], how='outer').merge(finindex_df, on=[const.TICKER, const.YEAR], how='outer').merge(fcww_df, on=[const.TICKER, const.YEAR], how='outer').merge(fckz_df, on=[const.TICKER, const.YEAR], how='outer').merge(fcfc_df, on=[const.TICKER, const.YEAR], how='outer').merge(fcsa_df, on=[const.TICKER, const.YEAR], how='outer')",
   "id": "df88cecc658a5fbf",
   "outputs": [],
   "execution_count": 34
  },
  {
   "metadata": {
    "ExecuteTime": {
     "end_time": "2024-09-08T13:30:12.204046Z",
     "start_time": "2024-09-08T13:30:12.161723Z"
    }
   },
   "cell_type": "code",
   "source": [
    "drop_keys = list()\n",
    "for key in ['TotalAssets_x', 'TotalLiabilities_x', 'OperatingRevenue_x']:\n",
    "    drop_keys.append(key)\n",
    "    csmar_data_df.loc[:, key[:-2]] = csmar_data_df.loc[:, key].fillna(csmar_data_df[key.replace('_x', '_y')])\n",
    "    drop_keys.append(key.replace('_x', '_y'))\n",
    "    \n",
    "csmar_data_df.drop(drop_keys, axis=1, inplace=True)\n",
    "csmar_data_df.to_pickle(os.path.join(const.TEMP_PATH, '20240908_csmar_temp_data.pkl'))\n",
    "csmar_data_df = csmar_data_df[csmar_data_df[const.YEAR] > 2010].copy()\n",
    "csmar_data_df.shape"
   ],
   "id": "b1770cb1dc119130",
   "outputs": [
    {
     "data": {
      "text/plain": [
       "(56771, 31)"
      ]
     },
     "execution_count": 35,
     "metadata": {},
     "output_type": "execute_result"
    }
   ],
   "execution_count": 35
  },
  {
   "metadata": {
    "ExecuteTime": {
     "end_time": "2024-09-08T13:37:05.903950Z",
     "start_time": "2024-09-08T13:37:05.823113Z"
    }
   },
   "cell_type": "code",
   "source": "csmar_data_df.describe()",
   "id": "eec99bbbb15863d8",
   "outputs": [
    {
     "data": {
      "text/plain": [
       "                 tic     EarningBI          TXPD     NetIncome           OCF  \\\n",
       "count   56771.000000  4.872300e+04  4.844800e+04  4.872300e+04  4.871400e+04   \n",
       "mean   350597.883233  1.232104e+09  2.502324e+08  9.832745e+08  1.897705e+09   \n",
       "std    281099.899750  1.147531e+10  2.292300e+09  9.274405e+09  2.733173e+10   \n",
       "min         1.000000 -7.130188e+10 -1.075500e+10 -6.874256e+10 -5.880090e+11   \n",
       "25%      2604.000000  3.726370e+07  5.262122e+06  3.050691e+07  1.098959e+07   \n",
       "50%    300815.000000  1.285760e+08  1.991775e+07  1.072359e+08  1.170276e+08   \n",
       "75%    601098.000000  4.237481e+08  7.138277e+07  3.534578e+08  4.501003e+08   \n",
       "max    900957.000000  4.248990e+11  8.551500e+10  3.651160e+11  1.825282e+12   \n",
       "\n",
       "            Surplus        Outcap          year       RDPerson    RDSpendSum  \\\n",
       "count  4.799900e+04  4.865600e+04  56771.000000   47887.000000  4.788700e+04   \n",
       "mean   9.513026e+08  8.367315e+08   2017.868348     447.083697  2.176981e+08   \n",
       "std    7.252134e+09  6.239530e+09      3.582191    4211.965467  1.126431e+09   \n",
       "min   -6.517450e+10 -7.556230e+06   2011.000000       0.000000  0.000000e+00   \n",
       "25%    4.650048e+07  3.581483e+07   2015.000000       0.000000  2.052111e+07   \n",
       "50%    1.484556e+08  1.159738e+08   2018.000000     118.000000  4.822820e+07   \n",
       "75%    4.726224e+08  3.483689e+08   2021.000000     332.000000  1.227450e+08   \n",
       "max    3.632350e+11  3.308610e+11   2023.000000  836001.000000  7.383900e+10   \n",
       "\n",
       "       ...  OperatingRevenueGrowth            WW        TobinQ            KZ  \\\n",
       "count  ...            46443.000000  40072.000000  44085.000000  44085.000000   \n",
       "mean   ...                3.658458     -1.161971      2.167367      0.968429   \n",
       "std    ...              628.534677     23.682564      5.807248      2.844719   \n",
       "min    ...               -2.683831  -4712.153159      0.608519    -13.102681   \n",
       "25%    ...               -0.045281     -1.066531      1.234627     -0.608559   \n",
       "50%    ...                0.089951     -1.015326      1.586550      1.236070   \n",
       "75%    ...                0.248646     -0.968374      2.277610      2.759846   \n",
       "max    ...           134607.058410      0.250704    729.629281     15.431583   \n",
       "\n",
       "               EBIT            FC            SA   TotalAssets  \\\n",
       "count  4.408600e+04  44086.000000  46501.000000  4.873400e+04   \n",
       "mean   8.260854e+08      0.511121     -3.828629  6.408686e+10   \n",
       "std    5.129697e+09      0.290494      0.323962  8.851602e+11   \n",
       "min   -6.517450e+10      0.000000     -5.980174  3.083701e+06   \n",
       "25%    4.922063e+07      0.255410     -4.018300  1.550913e+09   \n",
       "50%    1.544249e+08      0.546484     -3.836862  3.439027e+09   \n",
       "75%    4.745018e+08      0.767430     -3.656814  9.279478e+09   \n",
       "max    2.555680e+11      0.998306     -0.287821  4.469708e+13   \n",
       "\n",
       "       TotalLiabilities  OperatingRevenue  \n",
       "count      4.873400e+04      4.819700e+04  \n",
       "mean       5.357359e+10      1.893662e+09  \n",
       "std        8.120213e+11      9.150732e+10  \n",
       "min       -2.033024e+06     -1.961849e+13  \n",
       "25%        4.238035e+08      1.660825e+08  \n",
       "50%        1.317950e+09      3.955523e+08  \n",
       "75%        4.646315e+09      1.079574e+09  \n",
       "max        4.092049e+13      1.627613e+12  \n",
       "\n",
       "[8 rows x 31 columns]"
      ],
      "text/html": [
       "<div>\n",
       "<style scoped>\n",
       "    .dataframe tbody tr th:only-of-type {\n",
       "        vertical-align: middle;\n",
       "    }\n",
       "\n",
       "    .dataframe tbody tr th {\n",
       "        vertical-align: top;\n",
       "    }\n",
       "\n",
       "    .dataframe thead th {\n",
       "        text-align: right;\n",
       "    }\n",
       "</style>\n",
       "<table border=\"1\" class=\"dataframe\">\n",
       "  <thead>\n",
       "    <tr style=\"text-align: right;\">\n",
       "      <th></th>\n",
       "      <th>tic</th>\n",
       "      <th>EarningBI</th>\n",
       "      <th>TXPD</th>\n",
       "      <th>NetIncome</th>\n",
       "      <th>OCF</th>\n",
       "      <th>Surplus</th>\n",
       "      <th>Outcap</th>\n",
       "      <th>year</th>\n",
       "      <th>RDPerson</th>\n",
       "      <th>RDSpendSum</th>\n",
       "      <th>...</th>\n",
       "      <th>OperatingRevenueGrowth</th>\n",
       "      <th>WW</th>\n",
       "      <th>TobinQ</th>\n",
       "      <th>KZ</th>\n",
       "      <th>EBIT</th>\n",
       "      <th>FC</th>\n",
       "      <th>SA</th>\n",
       "      <th>TotalAssets</th>\n",
       "      <th>TotalLiabilities</th>\n",
       "      <th>OperatingRevenue</th>\n",
       "    </tr>\n",
       "  </thead>\n",
       "  <tbody>\n",
       "    <tr>\n",
       "      <th>count</th>\n",
       "      <td>56771.000000</td>\n",
       "      <td>4.872300e+04</td>\n",
       "      <td>4.844800e+04</td>\n",
       "      <td>4.872300e+04</td>\n",
       "      <td>4.871400e+04</td>\n",
       "      <td>4.799900e+04</td>\n",
       "      <td>4.865600e+04</td>\n",
       "      <td>56771.000000</td>\n",
       "      <td>47887.000000</td>\n",
       "      <td>4.788700e+04</td>\n",
       "      <td>...</td>\n",
       "      <td>46443.000000</td>\n",
       "      <td>40072.000000</td>\n",
       "      <td>44085.000000</td>\n",
       "      <td>44085.000000</td>\n",
       "      <td>4.408600e+04</td>\n",
       "      <td>44086.000000</td>\n",
       "      <td>46501.000000</td>\n",
       "      <td>4.873400e+04</td>\n",
       "      <td>4.873400e+04</td>\n",
       "      <td>4.819700e+04</td>\n",
       "    </tr>\n",
       "    <tr>\n",
       "      <th>mean</th>\n",
       "      <td>350597.883233</td>\n",
       "      <td>1.232104e+09</td>\n",
       "      <td>2.502324e+08</td>\n",
       "      <td>9.832745e+08</td>\n",
       "      <td>1.897705e+09</td>\n",
       "      <td>9.513026e+08</td>\n",
       "      <td>8.367315e+08</td>\n",
       "      <td>2017.868348</td>\n",
       "      <td>447.083697</td>\n",
       "      <td>2.176981e+08</td>\n",
       "      <td>...</td>\n",
       "      <td>3.658458</td>\n",
       "      <td>-1.161971</td>\n",
       "      <td>2.167367</td>\n",
       "      <td>0.968429</td>\n",
       "      <td>8.260854e+08</td>\n",
       "      <td>0.511121</td>\n",
       "      <td>-3.828629</td>\n",
       "      <td>6.408686e+10</td>\n",
       "      <td>5.357359e+10</td>\n",
       "      <td>1.893662e+09</td>\n",
       "    </tr>\n",
       "    <tr>\n",
       "      <th>std</th>\n",
       "      <td>281099.899750</td>\n",
       "      <td>1.147531e+10</td>\n",
       "      <td>2.292300e+09</td>\n",
       "      <td>9.274405e+09</td>\n",
       "      <td>2.733173e+10</td>\n",
       "      <td>7.252134e+09</td>\n",
       "      <td>6.239530e+09</td>\n",
       "      <td>3.582191</td>\n",
       "      <td>4211.965467</td>\n",
       "      <td>1.126431e+09</td>\n",
       "      <td>...</td>\n",
       "      <td>628.534677</td>\n",
       "      <td>23.682564</td>\n",
       "      <td>5.807248</td>\n",
       "      <td>2.844719</td>\n",
       "      <td>5.129697e+09</td>\n",
       "      <td>0.290494</td>\n",
       "      <td>0.323962</td>\n",
       "      <td>8.851602e+11</td>\n",
       "      <td>8.120213e+11</td>\n",
       "      <td>9.150732e+10</td>\n",
       "    </tr>\n",
       "    <tr>\n",
       "      <th>min</th>\n",
       "      <td>1.000000</td>\n",
       "      <td>-7.130188e+10</td>\n",
       "      <td>-1.075500e+10</td>\n",
       "      <td>-6.874256e+10</td>\n",
       "      <td>-5.880090e+11</td>\n",
       "      <td>-6.517450e+10</td>\n",
       "      <td>-7.556230e+06</td>\n",
       "      <td>2011.000000</td>\n",
       "      <td>0.000000</td>\n",
       "      <td>0.000000e+00</td>\n",
       "      <td>...</td>\n",
       "      <td>-2.683831</td>\n",
       "      <td>-4712.153159</td>\n",
       "      <td>0.608519</td>\n",
       "      <td>-13.102681</td>\n",
       "      <td>-6.517450e+10</td>\n",
       "      <td>0.000000</td>\n",
       "      <td>-5.980174</td>\n",
       "      <td>3.083701e+06</td>\n",
       "      <td>-2.033024e+06</td>\n",
       "      <td>-1.961849e+13</td>\n",
       "    </tr>\n",
       "    <tr>\n",
       "      <th>25%</th>\n",
       "      <td>2604.000000</td>\n",
       "      <td>3.726370e+07</td>\n",
       "      <td>5.262122e+06</td>\n",
       "      <td>3.050691e+07</td>\n",
       "      <td>1.098959e+07</td>\n",
       "      <td>4.650048e+07</td>\n",
       "      <td>3.581483e+07</td>\n",
       "      <td>2015.000000</td>\n",
       "      <td>0.000000</td>\n",
       "      <td>2.052111e+07</td>\n",
       "      <td>...</td>\n",
       "      <td>-0.045281</td>\n",
       "      <td>-1.066531</td>\n",
       "      <td>1.234627</td>\n",
       "      <td>-0.608559</td>\n",
       "      <td>4.922063e+07</td>\n",
       "      <td>0.255410</td>\n",
       "      <td>-4.018300</td>\n",
       "      <td>1.550913e+09</td>\n",
       "      <td>4.238035e+08</td>\n",
       "      <td>1.660825e+08</td>\n",
       "    </tr>\n",
       "    <tr>\n",
       "      <th>50%</th>\n",
       "      <td>300815.000000</td>\n",
       "      <td>1.285760e+08</td>\n",
       "      <td>1.991775e+07</td>\n",
       "      <td>1.072359e+08</td>\n",
       "      <td>1.170276e+08</td>\n",
       "      <td>1.484556e+08</td>\n",
       "      <td>1.159738e+08</td>\n",
       "      <td>2018.000000</td>\n",
       "      <td>118.000000</td>\n",
       "      <td>4.822820e+07</td>\n",
       "      <td>...</td>\n",
       "      <td>0.089951</td>\n",
       "      <td>-1.015326</td>\n",
       "      <td>1.586550</td>\n",
       "      <td>1.236070</td>\n",
       "      <td>1.544249e+08</td>\n",
       "      <td>0.546484</td>\n",
       "      <td>-3.836862</td>\n",
       "      <td>3.439027e+09</td>\n",
       "      <td>1.317950e+09</td>\n",
       "      <td>3.955523e+08</td>\n",
       "    </tr>\n",
       "    <tr>\n",
       "      <th>75%</th>\n",
       "      <td>601098.000000</td>\n",
       "      <td>4.237481e+08</td>\n",
       "      <td>7.138277e+07</td>\n",
       "      <td>3.534578e+08</td>\n",
       "      <td>4.501003e+08</td>\n",
       "      <td>4.726224e+08</td>\n",
       "      <td>3.483689e+08</td>\n",
       "      <td>2021.000000</td>\n",
       "      <td>332.000000</td>\n",
       "      <td>1.227450e+08</td>\n",
       "      <td>...</td>\n",
       "      <td>0.248646</td>\n",
       "      <td>-0.968374</td>\n",
       "      <td>2.277610</td>\n",
       "      <td>2.759846</td>\n",
       "      <td>4.745018e+08</td>\n",
       "      <td>0.767430</td>\n",
       "      <td>-3.656814</td>\n",
       "      <td>9.279478e+09</td>\n",
       "      <td>4.646315e+09</td>\n",
       "      <td>1.079574e+09</td>\n",
       "    </tr>\n",
       "    <tr>\n",
       "      <th>max</th>\n",
       "      <td>900957.000000</td>\n",
       "      <td>4.248990e+11</td>\n",
       "      <td>8.551500e+10</td>\n",
       "      <td>3.651160e+11</td>\n",
       "      <td>1.825282e+12</td>\n",
       "      <td>3.632350e+11</td>\n",
       "      <td>3.308610e+11</td>\n",
       "      <td>2023.000000</td>\n",
       "      <td>836001.000000</td>\n",
       "      <td>7.383900e+10</td>\n",
       "      <td>...</td>\n",
       "      <td>134607.058410</td>\n",
       "      <td>0.250704</td>\n",
       "      <td>729.629281</td>\n",
       "      <td>15.431583</td>\n",
       "      <td>2.555680e+11</td>\n",
       "      <td>0.998306</td>\n",
       "      <td>-0.287821</td>\n",
       "      <td>4.469708e+13</td>\n",
       "      <td>4.092049e+13</td>\n",
       "      <td>1.627613e+12</td>\n",
       "    </tr>\n",
       "  </tbody>\n",
       "</table>\n",
       "<p>8 rows × 31 columns</p>\n",
       "</div>"
      ]
     },
     "execution_count": 47,
     "metadata": {},
     "output_type": "execute_result"
    }
   ],
   "execution_count": 47
  }
 ],
 "metadata": {
  "kernelspec": {
   "display_name": "Python 3",
   "language": "python",
   "name": "python3"
  },
  "language_info": {
   "codemirror_mode": {
    "name": "ipython",
    "version": 2
   },
   "file_extension": ".py",
   "mimetype": "text/x-python",
   "name": "python",
   "nbconvert_exporter": "python",
   "pygments_lexer": "ipython2",
   "version": "2.7.6"
  }
 },
 "nbformat": 4,
 "nbformat_minor": 5
}
