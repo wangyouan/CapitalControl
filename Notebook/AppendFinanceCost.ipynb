{
 "cells": [
  {
   "cell_type": "code",
   "execution_count": 1,
   "id": "initial_id",
   "metadata": {
    "ExecuteTime": {
     "end_time": "2024-11-01T02:25:42.917194Z",
     "start_time": "2024-11-01T02:25:42.096360Z"
    },
    "collapsed": true,
    "jupyter": {
     "outputs_hidden": true
    }
   },
   "outputs": [],
   "source": [
    "import os\n",
    "import zipfile\n",
    "\n",
    "import numpy as np\n",
    "import pandas as pd\n",
    "from pandas import DataFrame\n",
    "from scipy.stats.mstats import winsorize\n",
    "\n",
    "from Constant import Constants as const\n",
    "from OrganizeData.step02_merge_all_financial_data import sort_csmar_data"
   ]
  },
  {
   "cell_type": "markdown",
   "id": "5e5125cd0ac60d28",
   "metadata": {},
   "source": [
    "# Sort Finance Cost Data"
   ]
  },
  {
   "cell_type": "code",
   "execution_count": 21,
   "id": "a164120a60b9482c",
   "metadata": {
    "ExecuteTime": {
     "end_time": "2024-10-26T07:30:37.992952Z",
     "start_time": "2024-10-26T07:30:36.023510Z"
    }
   },
   "outputs": [],
   "source": [
    "with zipfile.ZipFile(os.path.join(const.CSMAR_PATH, '1990_2023_Income Statement.zip'), 'r') as zip_ref:\n",
    "    with zip_ref.open('FS_Comins.csv') as csv_file:\n",
    "        finidx_df: DataFrame = pd.read_csv(csv_file, on_bad_lines='skip',\n",
    "                                           usecols=['Stkcd', 'Accper', 'B001211000', 'B001211101',\n",
    "                                                    'Bbd1102203']).rename(\n",
    "            columns={'B001211000': 'FinaExpense', 'B001211101': 'InterestExpense',\n",
    "                     'Bbd1102203': 'InterestExpenses'}).dropna(\n",
    "            subset=['FinaExpense', 'InterestExpense', 'InterestExpenses'], how='all')\n",
    "        finidx_df: DataFrame = sort_csmar_data(finidx_df)"
   ]
  },
  {
   "cell_type": "code",
   "execution_count": 28,
   "id": "9244e425f4564d2b",
   "metadata": {
    "ExecuteTime": {
     "end_time": "2024-10-26T11:32:19.969169Z",
     "start_time": "2024-10-26T11:32:16.578644Z"
    }
   },
   "outputs": [],
   "source": [
    "with zipfile.ZipFile(os.path.join(const.CSMAR_PATH, '1990_2023_Balance Sheet.zip'), 'r') as zip_ref:\n",
    "    with zip_ref.open('FS_Combas.csv') as csv_file:\n",
    "        fscombas_df: DataFrame = pd.read_csv(csv_file, on_bad_lines='skip',\n",
    "                                             usecols=['Stkcd', 'Accper', 'A001000000', 'A002000000']).rename(\n",
    "            columns={'A001000000': 'at', 'A002000000': 'lt'})\n",
    "        fscombas_df: DataFrame = sort_csmar_data(fscombas_df)"
   ]
  },
  {
   "cell_type": "code",
   "execution_count": 29,
   "id": "b67538c5bb0094de",
   "metadata": {
    "ExecuteTime": {
     "end_time": "2024-10-26T11:34:56.439276Z",
     "start_time": "2024-10-26T11:34:56.304980Z"
    }
   },
   "outputs": [
    {
     "data": {
      "text/html": [
       "<div>\n",
       "<style scoped>\n",
       "    .dataframe tbody tr th:only-of-type {\n",
       "        vertical-align: middle;\n",
       "    }\n",
       "\n",
       "    .dataframe tbody tr th {\n",
       "        vertical-align: top;\n",
       "    }\n",
       "\n",
       "    .dataframe thead th {\n",
       "        text-align: right;\n",
       "    }\n",
       "</style>\n",
       "<table border=\"1\" class=\"dataframe\">\n",
       "  <thead>\n",
       "    <tr style=\"text-align: right;\">\n",
       "      <th></th>\n",
       "      <th>tic</th>\n",
       "      <th>InterestExpenses</th>\n",
       "      <th>FinaExpense</th>\n",
       "      <th>InterestExpense</th>\n",
       "      <th>year</th>\n",
       "      <th>at</th>\n",
       "      <th>lt</th>\n",
       "      <th>lag_at</th>\n",
       "      <th>lag_lt</th>\n",
       "      <th>fe_at</th>\n",
       "      <th>...</th>\n",
       "      <th>fe_lat</th>\n",
       "      <th>fe_llt</th>\n",
       "      <th>ie_at</th>\n",
       "      <th>ie_lt</th>\n",
       "      <th>ie_lat</th>\n",
       "      <th>ie_llt</th>\n",
       "      <th>ies_at</th>\n",
       "      <th>ies_lt</th>\n",
       "      <th>ies_lat</th>\n",
       "      <th>ies_llt</th>\n",
       "    </tr>\n",
       "  </thead>\n",
       "  <tbody>\n",
       "    <tr>\n",
       "      <th>0</th>\n",
       "      <td>1</td>\n",
       "      <td>3.972235e+08</td>\n",
       "      <td>NaN</td>\n",
       "      <td>NaN</td>\n",
       "      <td>1993</td>\n",
       "      <td>9.337871e+09</td>\n",
       "      <td>8.148741e+09</td>\n",
       "      <td>NaN</td>\n",
       "      <td>NaN</td>\n",
       "      <td>NaN</td>\n",
       "      <td>...</td>\n",
       "      <td>NaN</td>\n",
       "      <td>NaN</td>\n",
       "      <td>NaN</td>\n",
       "      <td>NaN</td>\n",
       "      <td>NaN</td>\n",
       "      <td>NaN</td>\n",
       "      <td>0.042539</td>\n",
       "      <td>0.048747</td>\n",
       "      <td>NaN</td>\n",
       "      <td>NaN</td>\n",
       "    </tr>\n",
       "    <tr>\n",
       "      <th>1</th>\n",
       "      <td>1</td>\n",
       "      <td>5.994891e+08</td>\n",
       "      <td>NaN</td>\n",
       "      <td>NaN</td>\n",
       "      <td>1994</td>\n",
       "      <td>1.548841e+10</td>\n",
       "      <td>1.382858e+10</td>\n",
       "      <td>9.337871e+09</td>\n",
       "      <td>8.148741e+09</td>\n",
       "      <td>NaN</td>\n",
       "      <td>...</td>\n",
       "      <td>NaN</td>\n",
       "      <td>NaN</td>\n",
       "      <td>NaN</td>\n",
       "      <td>NaN</td>\n",
       "      <td>NaN</td>\n",
       "      <td>NaN</td>\n",
       "      <td>0.038706</td>\n",
       "      <td>0.043351</td>\n",
       "      <td>0.064200</td>\n",
       "      <td>0.073568</td>\n",
       "    </tr>\n",
       "    <tr>\n",
       "      <th>2</th>\n",
       "      <td>1</td>\n",
       "      <td>8.678880e+08</td>\n",
       "      <td>NaN</td>\n",
       "      <td>NaN</td>\n",
       "      <td>1995</td>\n",
       "      <td>2.031248e+10</td>\n",
       "      <td>1.835194e+10</td>\n",
       "      <td>1.548841e+10</td>\n",
       "      <td>1.382858e+10</td>\n",
       "      <td>NaN</td>\n",
       "      <td>...</td>\n",
       "      <td>NaN</td>\n",
       "      <td>NaN</td>\n",
       "      <td>NaN</td>\n",
       "      <td>NaN</td>\n",
       "      <td>NaN</td>\n",
       "      <td>NaN</td>\n",
       "      <td>0.042727</td>\n",
       "      <td>0.047291</td>\n",
       "      <td>0.056035</td>\n",
       "      <td>0.062760</td>\n",
       "    </tr>\n",
       "    <tr>\n",
       "      <th>3</th>\n",
       "      <td>1</td>\n",
       "      <td>1.154543e+09</td>\n",
       "      <td>NaN</td>\n",
       "      <td>NaN</td>\n",
       "      <td>1996</td>\n",
       "      <td>3.002203e+10</td>\n",
       "      <td>2.748234e+10</td>\n",
       "      <td>2.031248e+10</td>\n",
       "      <td>1.835194e+10</td>\n",
       "      <td>NaN</td>\n",
       "      <td>...</td>\n",
       "      <td>NaN</td>\n",
       "      <td>NaN</td>\n",
       "      <td>NaN</td>\n",
       "      <td>NaN</td>\n",
       "      <td>NaN</td>\n",
       "      <td>NaN</td>\n",
       "      <td>0.038457</td>\n",
       "      <td>0.042010</td>\n",
       "      <td>0.056839</td>\n",
       "      <td>0.062911</td>\n",
       "    </tr>\n",
       "    <tr>\n",
       "      <th>4</th>\n",
       "      <td>1</td>\n",
       "      <td>1.221109e+09</td>\n",
       "      <td>NaN</td>\n",
       "      <td>NaN</td>\n",
       "      <td>1997</td>\n",
       "      <td>3.179863e+10</td>\n",
       "      <td>2.839795e+10</td>\n",
       "      <td>3.002203e+10</td>\n",
       "      <td>2.748234e+10</td>\n",
       "      <td>NaN</td>\n",
       "      <td>...</td>\n",
       "      <td>NaN</td>\n",
       "      <td>NaN</td>\n",
       "      <td>NaN</td>\n",
       "      <td>NaN</td>\n",
       "      <td>NaN</td>\n",
       "      <td>NaN</td>\n",
       "      <td>0.038401</td>\n",
       "      <td>0.043000</td>\n",
       "      <td>0.040674</td>\n",
       "      <td>0.044432</td>\n",
       "    </tr>\n",
       "    <tr>\n",
       "      <th>...</th>\n",
       "      <td>...</td>\n",
       "      <td>...</td>\n",
       "      <td>...</td>\n",
       "      <td>...</td>\n",
       "      <td>...</td>\n",
       "      <td>...</td>\n",
       "      <td>...</td>\n",
       "      <td>...</td>\n",
       "      <td>...</td>\n",
       "      <td>...</td>\n",
       "      <td>...</td>\n",
       "      <td>...</td>\n",
       "      <td>...</td>\n",
       "      <td>...</td>\n",
       "      <td>...</td>\n",
       "      <td>...</td>\n",
       "      <td>...</td>\n",
       "      <td>...</td>\n",
       "      <td>...</td>\n",
       "      <td>...</td>\n",
       "      <td>...</td>\n",
       "    </tr>\n",
       "    <tr>\n",
       "      <th>70374</th>\n",
       "      <td>900957</td>\n",
       "      <td>NaN</td>\n",
       "      <td>32709337.44</td>\n",
       "      <td>32271333.76</td>\n",
       "      <td>2019</td>\n",
       "      <td>5.549938e+08</td>\n",
       "      <td>9.741982e+07</td>\n",
       "      <td>5.520247e+08</td>\n",
       "      <td>1.156318e+08</td>\n",
       "      <td>5.893640e-02</td>\n",
       "      <td>...</td>\n",
       "      <td>5.925339e-02</td>\n",
       "      <td>0.282875</td>\n",
       "      <td>0.058147</td>\n",
       "      <td>0.331260</td>\n",
       "      <td>0.058460</td>\n",
       "      <td>0.279087</td>\n",
       "      <td>NaN</td>\n",
       "      <td>NaN</td>\n",
       "      <td>NaN</td>\n",
       "      <td>NaN</td>\n",
       "    </tr>\n",
       "    <tr>\n",
       "      <th>70375</th>\n",
       "      <td>900957</td>\n",
       "      <td>NaN</td>\n",
       "      <td>30126704.08</td>\n",
       "      <td>30168772.78</td>\n",
       "      <td>2020</td>\n",
       "      <td>5.733646e+08</td>\n",
       "      <td>1.018166e+08</td>\n",
       "      <td>5.549938e+08</td>\n",
       "      <td>9.741982e+07</td>\n",
       "      <td>5.254371e-02</td>\n",
       "      <td>...</td>\n",
       "      <td>5.428296e-02</td>\n",
       "      <td>0.309246</td>\n",
       "      <td>0.052617</td>\n",
       "      <td>0.296305</td>\n",
       "      <td>0.054359</td>\n",
       "      <td>0.309678</td>\n",
       "      <td>NaN</td>\n",
       "      <td>NaN</td>\n",
       "      <td>NaN</td>\n",
       "      <td>NaN</td>\n",
       "    </tr>\n",
       "    <tr>\n",
       "      <th>70376</th>\n",
       "      <td>900957</td>\n",
       "      <td>NaN</td>\n",
       "      <td>28805657.42</td>\n",
       "      <td>NaN</td>\n",
       "      <td>2021</td>\n",
       "      <td>5.801044e+08</td>\n",
       "      <td>9.482549e+07</td>\n",
       "      <td>5.733646e+08</td>\n",
       "      <td>1.018166e+08</td>\n",
       "      <td>4.965599e-02</td>\n",
       "      <td>...</td>\n",
       "      <td>5.023969e-02</td>\n",
       "      <td>0.282917</td>\n",
       "      <td>NaN</td>\n",
       "      <td>NaN</td>\n",
       "      <td>NaN</td>\n",
       "      <td>NaN</td>\n",
       "      <td>NaN</td>\n",
       "      <td>NaN</td>\n",
       "      <td>NaN</td>\n",
       "      <td>NaN</td>\n",
       "    </tr>\n",
       "    <tr>\n",
       "      <th>70377</th>\n",
       "      <td>900957</td>\n",
       "      <td>NaN</td>\n",
       "      <td>-2542.01</td>\n",
       "      <td>NaN</td>\n",
       "      <td>2022</td>\n",
       "      <td>5.918676e+08</td>\n",
       "      <td>9.849196e+07</td>\n",
       "      <td>5.801044e+08</td>\n",
       "      <td>9.482549e+07</td>\n",
       "      <td>-4.294896e-06</td>\n",
       "      <td>...</td>\n",
       "      <td>-4.381987e-06</td>\n",
       "      <td>-0.000027</td>\n",
       "      <td>NaN</td>\n",
       "      <td>NaN</td>\n",
       "      <td>NaN</td>\n",
       "      <td>NaN</td>\n",
       "      <td>NaN</td>\n",
       "      <td>NaN</td>\n",
       "      <td>NaN</td>\n",
       "      <td>NaN</td>\n",
       "    </tr>\n",
       "    <tr>\n",
       "      <th>70378</th>\n",
       "      <td>900957</td>\n",
       "      <td>NaN</td>\n",
       "      <td>519.20</td>\n",
       "      <td>NaN</td>\n",
       "      <td>2023</td>\n",
       "      <td>6.003617e+08</td>\n",
       "      <td>9.919324e+07</td>\n",
       "      <td>5.918676e+08</td>\n",
       "      <td>9.849196e+07</td>\n",
       "      <td>8.648119e-07</td>\n",
       "      <td>...</td>\n",
       "      <td>8.772232e-07</td>\n",
       "      <td>0.000005</td>\n",
       "      <td>NaN</td>\n",
       "      <td>NaN</td>\n",
       "      <td>NaN</td>\n",
       "      <td>NaN</td>\n",
       "      <td>NaN</td>\n",
       "      <td>NaN</td>\n",
       "      <td>NaN</td>\n",
       "      <td>NaN</td>\n",
       "    </tr>\n",
       "  </tbody>\n",
       "</table>\n",
       "<p>70379 rows × 21 columns</p>\n",
       "</div>"
      ],
      "text/plain": [
       "          tic  InterestExpenses  FinaExpense  InterestExpense  year  \\\n",
       "0           1      3.972235e+08          NaN              NaN  1993   \n",
       "1           1      5.994891e+08          NaN              NaN  1994   \n",
       "2           1      8.678880e+08          NaN              NaN  1995   \n",
       "3           1      1.154543e+09          NaN              NaN  1996   \n",
       "4           1      1.221109e+09          NaN              NaN  1997   \n",
       "...       ...               ...          ...              ...   ...   \n",
       "70374  900957               NaN  32709337.44      32271333.76  2019   \n",
       "70375  900957               NaN  30126704.08      30168772.78  2020   \n",
       "70376  900957               NaN  28805657.42              NaN  2021   \n",
       "70377  900957               NaN     -2542.01              NaN  2022   \n",
       "70378  900957               NaN       519.20              NaN  2023   \n",
       "\n",
       "                 at            lt        lag_at        lag_lt         fe_at  \\\n",
       "0      9.337871e+09  8.148741e+09           NaN           NaN           NaN   \n",
       "1      1.548841e+10  1.382858e+10  9.337871e+09  8.148741e+09           NaN   \n",
       "2      2.031248e+10  1.835194e+10  1.548841e+10  1.382858e+10           NaN   \n",
       "3      3.002203e+10  2.748234e+10  2.031248e+10  1.835194e+10           NaN   \n",
       "4      3.179863e+10  2.839795e+10  3.002203e+10  2.748234e+10           NaN   \n",
       "...             ...           ...           ...           ...           ...   \n",
       "70374  5.549938e+08  9.741982e+07  5.520247e+08  1.156318e+08  5.893640e-02   \n",
       "70375  5.733646e+08  1.018166e+08  5.549938e+08  9.741982e+07  5.254371e-02   \n",
       "70376  5.801044e+08  9.482549e+07  5.733646e+08  1.018166e+08  4.965599e-02   \n",
       "70377  5.918676e+08  9.849196e+07  5.801044e+08  9.482549e+07 -4.294896e-06   \n",
       "70378  6.003617e+08  9.919324e+07  5.918676e+08  9.849196e+07  8.648119e-07   \n",
       "\n",
       "       ...        fe_lat    fe_llt     ie_at     ie_lt    ie_lat    ie_llt  \\\n",
       "0      ...           NaN       NaN       NaN       NaN       NaN       NaN   \n",
       "1      ...           NaN       NaN       NaN       NaN       NaN       NaN   \n",
       "2      ...           NaN       NaN       NaN       NaN       NaN       NaN   \n",
       "3      ...           NaN       NaN       NaN       NaN       NaN       NaN   \n",
       "4      ...           NaN       NaN       NaN       NaN       NaN       NaN   \n",
       "...    ...           ...       ...       ...       ...       ...       ...   \n",
       "70374  ...  5.925339e-02  0.282875  0.058147  0.331260  0.058460  0.279087   \n",
       "70375  ...  5.428296e-02  0.309246  0.052617  0.296305  0.054359  0.309678   \n",
       "70376  ...  5.023969e-02  0.282917       NaN       NaN       NaN       NaN   \n",
       "70377  ... -4.381987e-06 -0.000027       NaN       NaN       NaN       NaN   \n",
       "70378  ...  8.772232e-07  0.000005       NaN       NaN       NaN       NaN   \n",
       "\n",
       "         ies_at    ies_lt   ies_lat   ies_llt  \n",
       "0      0.042539  0.048747       NaN       NaN  \n",
       "1      0.038706  0.043351  0.064200  0.073568  \n",
       "2      0.042727  0.047291  0.056035  0.062760  \n",
       "3      0.038457  0.042010  0.056839  0.062911  \n",
       "4      0.038401  0.043000  0.040674  0.044432  \n",
       "...         ...       ...       ...       ...  \n",
       "70374       NaN       NaN       NaN       NaN  \n",
       "70375       NaN       NaN       NaN       NaN  \n",
       "70376       NaN       NaN       NaN       NaN  \n",
       "70377       NaN       NaN       NaN       NaN  \n",
       "70378       NaN       NaN       NaN       NaN  \n",
       "\n",
       "[70379 rows x 21 columns]"
      ]
     },
     "execution_count": 29,
     "metadata": {},
     "output_type": "execute_result"
    }
   ],
   "source": [
    "fc_df: DataFrame = finidx_df.merge(fscombas_df, on=[const.TICKER, const.YEAR], how='left')\n",
    "fc_df.sort_values(by=[const.TICKER, const.YEAR], ascending=True, inplace=True)\n",
    "fc_df.loc[:, 'lag_at'] = fc_df.groupby(const.TICKER)['at'].shift(1)\n",
    "fc_df.loc[:, 'lag_lt'] = fc_df.groupby(const.TICKER)['lt'].shift(1)\n",
    "\n",
    "fc_df['fe_at'] = fc_df['FinaExpense'] / fc_df['at']\n",
    "fc_df['fe_lt'] = fc_df['FinaExpense'] / fc_df['lt']\n",
    "fc_df['fe_lat'] = fc_df['FinaExpense'] / fc_df['lag_at']\n",
    "fc_df['fe_llt'] = fc_df['FinaExpense'] / fc_df['lag_lt']\n",
    "\n",
    "fc_df['ie_at'] = fc_df['InterestExpense'] / fc_df['at']\n",
    "fc_df['ie_lt'] = fc_df['InterestExpense'] / fc_df['lt']\n",
    "fc_df['ie_lat'] = fc_df['InterestExpense'] / fc_df['lag_at']\n",
    "fc_df['ie_llt'] = fc_df['InterestExpense'] / fc_df['lag_lt']\n",
    "\n",
    "fc_df['ies_at'] = fc_df['InterestExpenses'] / fc_df['at']\n",
    "fc_df['ies_lt'] = fc_df['InterestExpenses'] / fc_df['lt']\n",
    "fc_df['ies_lat'] = fc_df['InterestExpenses'] / fc_df['lag_at']\n",
    "fc_df['ies_llt'] = fc_df['InterestExpenses'] / fc_df['lag_lt']\n",
    "\n"
   ]
  },
  {
   "cell_type": "code",
   "execution_count": 30,
   "id": "7207a3eb7839072a",
   "metadata": {
    "ExecuteTime": {
     "end_time": "2024-10-26T11:35:16.263650Z",
     "start_time": "2024-10-26T11:35:16.134662Z"
    }
   },
   "outputs": [
    {
     "data": {
      "text/html": [
       "<div>\n",
       "<style scoped>\n",
       "    .dataframe tbody tr th:only-of-type {\n",
       "        vertical-align: middle;\n",
       "    }\n",
       "\n",
       "    .dataframe tbody tr th {\n",
       "        vertical-align: top;\n",
       "    }\n",
       "\n",
       "    .dataframe thead th {\n",
       "        text-align: right;\n",
       "    }\n",
       "</style>\n",
       "<table border=\"1\" class=\"dataframe\">\n",
       "  <thead>\n",
       "    <tr style=\"text-align: right;\">\n",
       "      <th></th>\n",
       "      <th>tic</th>\n",
       "      <th>InterestExpenses</th>\n",
       "      <th>FinaExpense</th>\n",
       "      <th>InterestExpense</th>\n",
       "      <th>year</th>\n",
       "      <th>at</th>\n",
       "      <th>lt</th>\n",
       "      <th>lag_at</th>\n",
       "      <th>lag_lt</th>\n",
       "      <th>fe_at</th>\n",
       "      <th>...</th>\n",
       "      <th>fe_lat</th>\n",
       "      <th>fe_llt</th>\n",
       "      <th>ie_at</th>\n",
       "      <th>ie_lt</th>\n",
       "      <th>ie_lat</th>\n",
       "      <th>ie_llt</th>\n",
       "      <th>ies_at</th>\n",
       "      <th>ies_lt</th>\n",
       "      <th>ies_lat</th>\n",
       "      <th>ies_llt</th>\n",
       "    </tr>\n",
       "  </thead>\n",
       "  <tbody>\n",
       "    <tr>\n",
       "      <th>count</th>\n",
       "      <td>70379.000000</td>\n",
       "      <td>1.502800e+04</td>\n",
       "      <td>6.963400e+04</td>\n",
       "      <td>2.515700e+04</td>\n",
       "      <td>70379.000000</td>\n",
       "      <td>7.022100e+04</td>\n",
       "      <td>7.021600e+04</td>\n",
       "      <td>6.455100e+04</td>\n",
       "      <td>6.454600e+04</td>\n",
       "      <td>69474.000000</td>\n",
       "      <td>...</td>\n",
       "      <td>63884.000000</td>\n",
       "      <td>63876.000000</td>\n",
       "      <td>25156.000000</td>\n",
       "      <td>25157.000000</td>\n",
       "      <td>23632.000000</td>\n",
       "      <td>23631.000000</td>\n",
       "      <td>15028.000000</td>\n",
       "      <td>15022.000000</td>\n",
       "      <td>14141.000000</td>\n",
       "      <td>14136.000000</td>\n",
       "    </tr>\n",
       "    <tr>\n",
       "      <th>mean</th>\n",
       "      <td>339479.682377</td>\n",
       "      <td>2.598846e+09</td>\n",
       "      <td>8.321386e+07</td>\n",
       "      <td>1.466576e+08</td>\n",
       "      <td>2013.669461</td>\n",
       "      <td>3.990082e+10</td>\n",
       "      <td>3.324762e+10</td>\n",
       "      <td>3.770796e+10</td>\n",
       "      <td>3.145459e+10</td>\n",
       "      <td>0.032418</td>\n",
       "      <td>...</td>\n",
       "      <td>0.013242</td>\n",
       "      <td>0.347566</td>\n",
       "      <td>0.010208</td>\n",
       "      <td>0.348100</td>\n",
       "      <td>0.011657</td>\n",
       "      <td>0.454932</td>\n",
       "      <td>0.001353</td>\n",
       "      <td>0.560346</td>\n",
       "      <td>0.002210</td>\n",
       "      <td>0.136404</td>\n",
       "    </tr>\n",
       "    <tr>\n",
       "      <th>std</th>\n",
       "      <td>292799.994027</td>\n",
       "      <td>2.377611e+10</td>\n",
       "      <td>5.146331e+08</td>\n",
       "      <td>6.943180e+08</td>\n",
       "      <td>7.627352</td>\n",
       "      <td>7.052894e+11</td>\n",
       "      <td>6.488194e+11</td>\n",
       "      <td>6.652362e+11</td>\n",
       "      <td>6.119789e+11</td>\n",
       "      <td>5.191898</td>\n",
       "      <td>...</td>\n",
       "      <td>0.189967</td>\n",
       "      <td>31.158398</td>\n",
       "      <td>0.024119</td>\n",
       "      <td>16.262805</td>\n",
       "      <td>0.024459</td>\n",
       "      <td>20.735176</td>\n",
       "      <td>0.010305</td>\n",
       "      <td>51.070826</td>\n",
       "      <td>0.057734</td>\n",
       "      <td>10.428371</td>\n",
       "    </tr>\n",
       "    <tr>\n",
       "      <th>min</th>\n",
       "      <td>1.000000</td>\n",
       "      <td>-3.280945e+04</td>\n",
       "      <td>-8.605000e+09</td>\n",
       "      <td>-5.812000e+09</td>\n",
       "      <td>1991.000000</td>\n",
       "      <td>0.000000e+00</td>\n",
       "      <td>-2.033024e+06</td>\n",
       "      <td>0.000000e+00</td>\n",
       "      <td>-2.033024e+06</td>\n",
       "      <td>-0.181792</td>\n",
       "      <td>...</td>\n",
       "      <td>-0.383092</td>\n",
       "      <td>-1526.823132</td>\n",
       "      <td>-0.058643</td>\n",
       "      <td>-1.027385</td>\n",
       "      <td>-0.047658</td>\n",
       "      <td>-1.033818</td>\n",
       "      <td>-0.000062</td>\n",
       "      <td>-0.000221</td>\n",
       "      <td>-0.000058</td>\n",
       "      <td>-0.000174</td>\n",
       "    </tr>\n",
       "    <tr>\n",
       "      <th>25%</th>\n",
       "      <td>2230.000000</td>\n",
       "      <td>0.000000e+00</td>\n",
       "      <td>-8.451223e+05</td>\n",
       "      <td>2.697814e+06</td>\n",
       "      <td>2009.000000</td>\n",
       "      <td>1.009060e+09</td>\n",
       "      <td>2.429361e+08</td>\n",
       "      <td>9.678193e+08</td>\n",
       "      <td>2.330868e+08</td>\n",
       "      <td>-0.000650</td>\n",
       "      <td>...</td>\n",
       "      <td>-0.000595</td>\n",
       "      <td>-0.002568</td>\n",
       "      <td>0.001282</td>\n",
       "      <td>0.005457</td>\n",
       "      <td>0.001634</td>\n",
       "      <td>0.007273</td>\n",
       "      <td>0.000000</td>\n",
       "      <td>0.000000</td>\n",
       "      <td>0.000000</td>\n",
       "      <td>0.000000</td>\n",
       "    </tr>\n",
       "    <tr>\n",
       "      <th>50%</th>\n",
       "      <td>300651.000000</td>\n",
       "      <td>0.000000e+00</td>\n",
       "      <td>8.716583e+06</td>\n",
       "      <td>1.631878e+07</td>\n",
       "      <td>2016.000000</td>\n",
       "      <td>2.155166e+09</td>\n",
       "      <td>6.688244e+08</td>\n",
       "      <td>2.055436e+09</td>\n",
       "      <td>6.331645e+08</td>\n",
       "      <td>0.005445</td>\n",
       "      <td>...</td>\n",
       "      <td>0.006656</td>\n",
       "      <td>0.018614</td>\n",
       "      <td>0.005213</td>\n",
       "      <td>0.015677</td>\n",
       "      <td>0.006483</td>\n",
       "      <td>0.020578</td>\n",
       "      <td>0.000000</td>\n",
       "      <td>0.000000</td>\n",
       "      <td>0.000000</td>\n",
       "      <td>0.000000</td>\n",
       "    </tr>\n",
       "    <tr>\n",
       "      <th>75%</th>\n",
       "      <td>600713.000000</td>\n",
       "      <td>0.000000e+00</td>\n",
       "      <td>4.065497e+07</td>\n",
       "      <td>6.965684e+07</td>\n",
       "      <td>2020.000000</td>\n",
       "      <td>5.102345e+09</td>\n",
       "      <td>1.975373e+09</td>\n",
       "      <td>4.800939e+09</td>\n",
       "      <td>1.823902e+09</td>\n",
       "      <td>0.015247</td>\n",
       "      <td>...</td>\n",
       "      <td>0.017624</td>\n",
       "      <td>0.040931</td>\n",
       "      <td>0.012689</td>\n",
       "      <td>0.032190</td>\n",
       "      <td>0.014865</td>\n",
       "      <td>0.039401</td>\n",
       "      <td>0.000000</td>\n",
       "      <td>0.000000</td>\n",
       "      <td>0.000000</td>\n",
       "      <td>0.000000</td>\n",
       "    </tr>\n",
       "    <tr>\n",
       "      <th>max</th>\n",
       "      <td>900957.000000</td>\n",
       "      <td>5.548190e+11</td>\n",
       "      <td>2.781600e+10</td>\n",
       "      <td>3.040900e+10</td>\n",
       "      <td>2023.000000</td>\n",
       "      <td>4.243795e+13</td>\n",
       "      <td>3.895225e+13</td>\n",
       "      <td>3.773929e+13</td>\n",
       "      <td>3.439366e+13</td>\n",
       "      <td>1364.361569</td>\n",
       "      <td>...</td>\n",
       "      <td>29.131217</td>\n",
       "      <td>5345.976906</td>\n",
       "      <td>1.570772</td>\n",
       "      <td>1568.057792</td>\n",
       "      <td>1.032464</td>\n",
       "      <td>1883.610966</td>\n",
       "      <td>0.353779</td>\n",
       "      <td>6022.492599</td>\n",
       "      <td>5.261082</td>\n",
       "      <td>1097.915367</td>\n",
       "    </tr>\n",
       "  </tbody>\n",
       "</table>\n",
       "<p>8 rows × 21 columns</p>\n",
       "</div>"
      ],
      "text/plain": [
       "                 tic  InterestExpenses   FinaExpense  InterestExpense  \\\n",
       "count   70379.000000      1.502800e+04  6.963400e+04     2.515700e+04   \n",
       "mean   339479.682377      2.598846e+09  8.321386e+07     1.466576e+08   \n",
       "std    292799.994027      2.377611e+10  5.146331e+08     6.943180e+08   \n",
       "min         1.000000     -3.280945e+04 -8.605000e+09    -5.812000e+09   \n",
       "25%      2230.000000      0.000000e+00 -8.451223e+05     2.697814e+06   \n",
       "50%    300651.000000      0.000000e+00  8.716583e+06     1.631878e+07   \n",
       "75%    600713.000000      0.000000e+00  4.065497e+07     6.965684e+07   \n",
       "max    900957.000000      5.548190e+11  2.781600e+10     3.040900e+10   \n",
       "\n",
       "               year            at            lt        lag_at        lag_lt  \\\n",
       "count  70379.000000  7.022100e+04  7.021600e+04  6.455100e+04  6.454600e+04   \n",
       "mean    2013.669461  3.990082e+10  3.324762e+10  3.770796e+10  3.145459e+10   \n",
       "std        7.627352  7.052894e+11  6.488194e+11  6.652362e+11  6.119789e+11   \n",
       "min     1991.000000  0.000000e+00 -2.033024e+06  0.000000e+00 -2.033024e+06   \n",
       "25%     2009.000000  1.009060e+09  2.429361e+08  9.678193e+08  2.330868e+08   \n",
       "50%     2016.000000  2.155166e+09  6.688244e+08  2.055436e+09  6.331645e+08   \n",
       "75%     2020.000000  5.102345e+09  1.975373e+09  4.800939e+09  1.823902e+09   \n",
       "max     2023.000000  4.243795e+13  3.895225e+13  3.773929e+13  3.439366e+13   \n",
       "\n",
       "              fe_at  ...        fe_lat        fe_llt         ie_at  \\\n",
       "count  69474.000000  ...  63884.000000  63876.000000  25156.000000   \n",
       "mean       0.032418  ...      0.013242      0.347566      0.010208   \n",
       "std        5.191898  ...      0.189967     31.158398      0.024119   \n",
       "min       -0.181792  ...     -0.383092  -1526.823132     -0.058643   \n",
       "25%       -0.000650  ...     -0.000595     -0.002568      0.001282   \n",
       "50%        0.005445  ...      0.006656      0.018614      0.005213   \n",
       "75%        0.015247  ...      0.017624      0.040931      0.012689   \n",
       "max     1364.361569  ...     29.131217   5345.976906      1.570772   \n",
       "\n",
       "              ie_lt        ie_lat        ie_llt        ies_at        ies_lt  \\\n",
       "count  25157.000000  23632.000000  23631.000000  15028.000000  15022.000000   \n",
       "mean       0.348100      0.011657      0.454932      0.001353      0.560346   \n",
       "std       16.262805      0.024459     20.735176      0.010305     51.070826   \n",
       "min       -1.027385     -0.047658     -1.033818     -0.000062     -0.000221   \n",
       "25%        0.005457      0.001634      0.007273      0.000000      0.000000   \n",
       "50%        0.015677      0.006483      0.020578      0.000000      0.000000   \n",
       "75%        0.032190      0.014865      0.039401      0.000000      0.000000   \n",
       "max     1568.057792      1.032464   1883.610966      0.353779   6022.492599   \n",
       "\n",
       "            ies_lat       ies_llt  \n",
       "count  14141.000000  14136.000000  \n",
       "mean       0.002210      0.136404  \n",
       "std        0.057734     10.428371  \n",
       "min       -0.000058     -0.000174  \n",
       "25%        0.000000      0.000000  \n",
       "50%        0.000000      0.000000  \n",
       "75%        0.000000      0.000000  \n",
       "max        5.261082   1097.915367  \n",
       "\n",
       "[8 rows x 21 columns]"
      ]
     },
     "execution_count": 30,
     "metadata": {},
     "output_type": "execute_result"
    }
   ],
   "source": [
    "fc_df.replace([np.inf, -np.inf], np.nan, inplace=True)\n",
    "fc_df.describe()"
   ]
  },
  {
   "cell_type": "code",
   "execution_count": 59,
   "id": "9f0acdb4854ee206",
   "metadata": {
    "ExecuteTime": {
     "end_time": "2024-10-26T11:52:59.434113Z",
     "start_time": "2024-10-26T11:52:58.893109Z"
    }
   },
   "outputs": [],
   "source": [
    "reg_df: DataFrame = pd.read_stata(os.path.join(const.OUTPUT_PATH, '20241020_cc_reg_data_v2.dta'))\n",
    "fc_useful_df: DataFrame = fc_df.loc[:,\n",
    "                          [const.TICKER, const.YEAR, 'fe_at', 'fe_lat', 'fe_llt', 'fe_lt', 'ie_at', 'ie_lat', 'ie_lt',\n",
    "                           'ie_llt', 'ies_at', 'ies_lt', 'ies_lat', 'ies_llt']].copy()\n",
    "reg_df2: DataFrame = reg_df.merge(fc_useful_df, on=[const.TICKER, const.YEAR], how='left')\n",
    "\n",
    "fc_useful_df[const.YEAR] -= 1\n",
    "reg_df2: DataFrame = reg_df2.merge(fc_useful_df, on=[const.TICKER, const.YEAR], how='left', suffixes=('', '_1'))"
   ]
  },
  {
   "cell_type": "code",
   "execution_count": 38,
   "id": "380d27ac8126c513",
   "metadata": {
    "ExecuteTime": {
     "end_time": "2024-10-26T11:41:56.750081Z",
     "start_time": "2024-10-26T11:41:56.147189Z"
    }
   },
   "outputs": [
    {
     "data": {
      "text/html": [
       "<div>\n",
       "<style scoped>\n",
       "    .dataframe tbody tr th:only-of-type {\n",
       "        vertical-align: middle;\n",
       "    }\n",
       "\n",
       "    .dataframe tbody tr th {\n",
       "        vertical-align: top;\n",
       "    }\n",
       "\n",
       "    .dataframe thead th {\n",
       "        text-align: right;\n",
       "    }\n",
       "</style>\n",
       "<table border=\"1\" class=\"dataframe\">\n",
       "  <thead>\n",
       "    <tr style=\"text-align: right;\">\n",
       "      <th></th>\n",
       "      <th>zscore</th>\n",
       "      <th>ppe1</th>\n",
       "      <th>concurrentposition</th>\n",
       "      <th>year</th>\n",
       "      <th>city4</th>\n",
       "      <th>insinvestorprop</th>\n",
       "      <th>tbq3</th>\n",
       "      <th>ppe2</th>\n",
       "      <th>tic</th>\n",
       "      <th>kz</th>\n",
       "      <th>...</th>\n",
       "      <th>fe_llt_1</th>\n",
       "      <th>fe_lt_1</th>\n",
       "      <th>ie_at_1</th>\n",
       "      <th>ie_lat_1</th>\n",
       "      <th>ie_llt_1</th>\n",
       "      <th>ie_llt_1</th>\n",
       "      <th>ies_at_1</th>\n",
       "      <th>ies_lt_1</th>\n",
       "      <th>ies_lat_1</th>\n",
       "      <th>ies_llt_1</th>\n",
       "    </tr>\n",
       "  </thead>\n",
       "  <tbody>\n",
       "    <tr>\n",
       "      <th>count</th>\n",
       "      <td>37836.000000</td>\n",
       "      <td>38948.000000</td>\n",
       "      <td>38980.000000</td>\n",
       "      <td>41072.000000</td>\n",
       "      <td>40840.000000</td>\n",
       "      <td>39668.000000</td>\n",
       "      <td>38157.000000</td>\n",
       "      <td>40536.000000</td>\n",
       "      <td>41072.000000</td>\n",
       "      <td>33050.000000</td>\n",
       "      <td>...</td>\n",
       "      <td>40529.000000</td>\n",
       "      <td>40532.000000</td>\n",
       "      <td>13829.000000</td>\n",
       "      <td>13830.000000</td>\n",
       "      <td>13829.000000</td>\n",
       "      <td>13829.000000</td>\n",
       "      <td>13866.000000</td>\n",
       "      <td>13860.000000</td>\n",
       "      <td>13846.000000</td>\n",
       "      <td>13841.000000</td>\n",
       "    </tr>\n",
       "    <tr>\n",
       "      <th>mean</th>\n",
       "      <td>4.644661</td>\n",
       "      <td>0.371384</td>\n",
       "      <td>0.262442</td>\n",
       "      <td>2014.312159</td>\n",
       "      <td>3508.336914</td>\n",
       "      <td>45.814915</td>\n",
       "      <td>2.628775</td>\n",
       "      <td>0.431181</td>\n",
       "      <td>310949.572361</td>\n",
       "      <td>0.606748</td>\n",
       "      <td>...</td>\n",
       "      <td>0.492202</td>\n",
       "      <td>0.322825</td>\n",
       "      <td>0.014084</td>\n",
       "      <td>0.014857</td>\n",
       "      <td>0.600229</td>\n",
       "      <td>0.600229</td>\n",
       "      <td>0.001080</td>\n",
       "      <td>0.606451</td>\n",
       "      <td>0.001904</td>\n",
       "      <td>0.138329</td>\n",
       "    </tr>\n",
       "    <tr>\n",
       "      <th>std</th>\n",
       "      <td>5.626894</td>\n",
       "      <td>0.188788</td>\n",
       "      <td>0.439967</td>\n",
       "      <td>4.175722</td>\n",
       "      <td>1273.811035</td>\n",
       "      <td>24.337039</td>\n",
       "      <td>2.026632</td>\n",
       "      <td>0.216432</td>\n",
       "      <td>284214.839517</td>\n",
       "      <td>2.360656</td>\n",
       "      <td>...</td>\n",
       "      <td>37.959273</td>\n",
       "      <td>32.421451</td>\n",
       "      <td>0.030876</td>\n",
       "      <td>0.030155</td>\n",
       "      <td>21.852201</td>\n",
       "      <td>21.852201</td>\n",
       "      <td>0.009961</td>\n",
       "      <td>53.168464</td>\n",
       "      <td>0.058195</td>\n",
       "      <td>10.538799</td>\n",
       "    </tr>\n",
       "    <tr>\n",
       "      <th>min</th>\n",
       "      <td>-1.201388</td>\n",
       "      <td>0.000000</td>\n",
       "      <td>0.000000</td>\n",
       "      <td>2006.000000</td>\n",
       "      <td>1101.000000</td>\n",
       "      <td>0.000100</td>\n",
       "      <td>0.841669</td>\n",
       "      <td>0.000000</td>\n",
       "      <td>1.000000</td>\n",
       "      <td>-10.906232</td>\n",
       "      <td>...</td>\n",
       "      <td>-1526.823132</td>\n",
       "      <td>-2109.334712</td>\n",
       "      <td>-0.058643</td>\n",
       "      <td>-0.047658</td>\n",
       "      <td>-1.033818</td>\n",
       "      <td>-1.033818</td>\n",
       "      <td>-0.000062</td>\n",
       "      <td>-0.000221</td>\n",
       "      <td>-0.000058</td>\n",
       "      <td>-0.000174</td>\n",
       "    </tr>\n",
       "    <tr>\n",
       "      <th>25%</th>\n",
       "      <td>1.696103</td>\n",
       "      <td>0.231581</td>\n",
       "      <td>0.000000</td>\n",
       "      <td>2011.000000</td>\n",
       "      <td>3101.000000</td>\n",
       "      <td>27.173825</td>\n",
       "      <td>1.354220</td>\n",
       "      <td>0.265134</td>\n",
       "      <td>2222.000000</td>\n",
       "      <td>-0.679577</td>\n",
       "      <td>...</td>\n",
       "      <td>-0.001886</td>\n",
       "      <td>-0.001713</td>\n",
       "      <td>0.002378</td>\n",
       "      <td>0.002616</td>\n",
       "      <td>0.011162</td>\n",
       "      <td>0.011162</td>\n",
       "      <td>0.000000</td>\n",
       "      <td>0.000000</td>\n",
       "      <td>0.000000</td>\n",
       "      <td>0.000000</td>\n",
       "    </tr>\n",
       "    <tr>\n",
       "      <th>50%</th>\n",
       "      <td>2.916333</td>\n",
       "      <td>0.359517</td>\n",
       "      <td>0.000000</td>\n",
       "      <td>2015.000000</td>\n",
       "      <td>3402.000000</td>\n",
       "      <td>47.886150</td>\n",
       "      <td>1.969714</td>\n",
       "      <td>0.416556</td>\n",
       "      <td>300274.000000</td>\n",
       "      <td>0.886243</td>\n",
       "      <td>...</td>\n",
       "      <td>0.021406</td>\n",
       "      <td>0.018637</td>\n",
       "      <td>0.008230</td>\n",
       "      <td>0.009089</td>\n",
       "      <td>0.027766</td>\n",
       "      <td>0.027766</td>\n",
       "      <td>0.000000</td>\n",
       "      <td>0.000000</td>\n",
       "      <td>0.000000</td>\n",
       "      <td>0.000000</td>\n",
       "    </tr>\n",
       "    <tr>\n",
       "      <th>75%</th>\n",
       "      <td>5.231857</td>\n",
       "      <td>0.500105</td>\n",
       "      <td>1.000000</td>\n",
       "      <td>2018.000000</td>\n",
       "      <td>4403.000000</td>\n",
       "      <td>64.751425</td>\n",
       "      <td>3.104649</td>\n",
       "      <td>0.583437</td>\n",
       "      <td>600587.000000</td>\n",
       "      <td>2.145922</td>\n",
       "      <td>...</td>\n",
       "      <td>0.046242</td>\n",
       "      <td>0.041501</td>\n",
       "      <td>0.017628</td>\n",
       "      <td>0.018841</td>\n",
       "      <td>0.049246</td>\n",
       "      <td>0.049246</td>\n",
       "      <td>0.000000</td>\n",
       "      <td>0.000000</td>\n",
       "      <td>0.000000</td>\n",
       "      <td>0.000000</td>\n",
       "    </tr>\n",
       "    <tr>\n",
       "      <th>max</th>\n",
       "      <td>36.381415</td>\n",
       "      <td>0.994555</td>\n",
       "      <td>1.000000</td>\n",
       "      <td>2020.000000</td>\n",
       "      <td>6542.000000</td>\n",
       "      <td>113.711000</td>\n",
       "      <td>12.566607</td>\n",
       "      <td>1.000000</td>\n",
       "      <td>900957.000000</td>\n",
       "      <td>10.983211</td>\n",
       "      <td>...</td>\n",
       "      <td>5345.976906</td>\n",
       "      <td>4239.189086</td>\n",
       "      <td>1.570772</td>\n",
       "      <td>1.032464</td>\n",
       "      <td>1795.513574</td>\n",
       "      <td>1795.513574</td>\n",
       "      <td>0.353779</td>\n",
       "      <td>6022.492599</td>\n",
       "      <td>5.261082</td>\n",
       "      <td>1097.915367</td>\n",
       "    </tr>\n",
       "  </tbody>\n",
       "</table>\n",
       "<p>8 rows × 270 columns</p>\n",
       "</div>"
      ],
      "text/plain": [
       "             zscore          ppe1  concurrentposition          year  \\\n",
       "count  37836.000000  38948.000000        38980.000000  41072.000000   \n",
       "mean       4.644661      0.371384            0.262442   2014.312159   \n",
       "std        5.626894      0.188788            0.439967      4.175722   \n",
       "min       -1.201388      0.000000            0.000000   2006.000000   \n",
       "25%        1.696103      0.231581            0.000000   2011.000000   \n",
       "50%        2.916333      0.359517            0.000000   2015.000000   \n",
       "75%        5.231857      0.500105            1.000000   2018.000000   \n",
       "max       36.381415      0.994555            1.000000   2020.000000   \n",
       "\n",
       "              city4  insinvestorprop          tbq3          ppe2  \\\n",
       "count  40840.000000     39668.000000  38157.000000  40536.000000   \n",
       "mean    3508.336914        45.814915      2.628775      0.431181   \n",
       "std     1273.811035        24.337039      2.026632      0.216432   \n",
       "min     1101.000000         0.000100      0.841669      0.000000   \n",
       "25%     3101.000000        27.173825      1.354220      0.265134   \n",
       "50%     3402.000000        47.886150      1.969714      0.416556   \n",
       "75%     4403.000000        64.751425      3.104649      0.583437   \n",
       "max     6542.000000       113.711000     12.566607      1.000000   \n",
       "\n",
       "                 tic            kz  ...      fe_llt_1       fe_lt_1  \\\n",
       "count   41072.000000  33050.000000  ...  40529.000000  40532.000000   \n",
       "mean   310949.572361      0.606748  ...      0.492202      0.322825   \n",
       "std    284214.839517      2.360656  ...     37.959273     32.421451   \n",
       "min         1.000000    -10.906232  ...  -1526.823132  -2109.334712   \n",
       "25%      2222.000000     -0.679577  ...     -0.001886     -0.001713   \n",
       "50%    300274.000000      0.886243  ...      0.021406      0.018637   \n",
       "75%    600587.000000      2.145922  ...      0.046242      0.041501   \n",
       "max    900957.000000     10.983211  ...   5345.976906   4239.189086   \n",
       "\n",
       "            ie_at_1      ie_lat_1      ie_llt_1      ie_llt_1      ies_at_1  \\\n",
       "count  13829.000000  13830.000000  13829.000000  13829.000000  13866.000000   \n",
       "mean       0.014084      0.014857      0.600229      0.600229      0.001080   \n",
       "std        0.030876      0.030155     21.852201     21.852201      0.009961   \n",
       "min       -0.058643     -0.047658     -1.033818     -1.033818     -0.000062   \n",
       "25%        0.002378      0.002616      0.011162      0.011162      0.000000   \n",
       "50%        0.008230      0.009089      0.027766      0.027766      0.000000   \n",
       "75%        0.017628      0.018841      0.049246      0.049246      0.000000   \n",
       "max        1.570772      1.032464   1795.513574   1795.513574      0.353779   \n",
       "\n",
       "           ies_lt_1     ies_lat_1     ies_llt_1  \n",
       "count  13860.000000  13846.000000  13841.000000  \n",
       "mean       0.606451      0.001904      0.138329  \n",
       "std       53.168464      0.058195     10.538799  \n",
       "min       -0.000221     -0.000058     -0.000174  \n",
       "25%        0.000000      0.000000      0.000000  \n",
       "50%        0.000000      0.000000      0.000000  \n",
       "75%        0.000000      0.000000      0.000000  \n",
       "max     6022.492599      5.261082   1097.915367  \n",
       "\n",
       "[8 rows x 270 columns]"
      ]
     },
     "execution_count": 38,
     "metadata": {},
     "output_type": "execute_result"
    }
   ],
   "source": [
    "reg_df2.drop_duplicates(subset=[const.TICKER, const.YEAR]).describe()\n"
   ]
  },
  {
   "cell_type": "code",
   "execution_count": 58,
   "id": "fc770cc6276ed5cf",
   "metadata": {
    "ExecuteTime": {
     "end_time": "2024-10-26T11:51:52.535874Z",
     "start_time": "2024-10-26T11:51:52.530615Z"
    }
   },
   "outputs": [
    {
     "name": "stdout",
     "output_type": "stream",
     "text": [
      "tic          int64\n",
      "year         int32\n",
      "fe_at      float64\n",
      "fe_lat     float64\n",
      "fe_llt     float64\n",
      "fe_lt      float64\n",
      "ie_at      float64\n",
      "ie_lat     float64\n",
      "ie_llt     float64\n",
      "ie_llt     float64\n",
      "ies_at     float64\n",
      "ies_lt     float64\n",
      "ies_lat    float64\n",
      "ies_llt    float64\n",
      "dtype: object\n"
     ]
    }
   ],
   "source": [
    "print(fc_useful_df.dtypes)"
   ]
  },
  {
   "cell_type": "code",
   "execution_count": 60,
   "id": "4418d93636bb54e",
   "metadata": {
    "ExecuteTime": {
     "end_time": "2024-10-26T11:53:12.212038Z",
     "start_time": "2024-10-26T11:53:12.165521Z"
    }
   },
   "outputs": [],
   "source": [
    "for key in ['fe_at', 'fe_lat', 'fe_llt', 'fe_lt', 'ie_at', 'ie_lat', 'ie_llt', 'ie_llt', 'ies_at', 'ies_lt', 'ies_lat',\n",
    "            'ies_llt']:\n",
    "    reg_df2.loc[reg_df2[key].notnull(), key] = winsorize(reg_df2[key].dropna(), limits=(0.005, 0.005))\n",
    "    # fc_useful_df.loc[fc_useful_df[key].notnull(), key] = winsorize(fc_useful_df[key].dropna(), limits=(0.005, 0.005))\n",
    "    reg_df2.loc[reg_df2[f'{key}_1'].notnull(), f'{key}_1'] = winsorize(reg_df2[f'{key}_1'].dropna(),\n",
    "                                                                       limits=(0.005, 0.005))"
   ]
  },
  {
   "cell_type": "code",
   "execution_count": 51,
   "id": "3c6e49601e3e2b40",
   "metadata": {
    "ExecuteTime": {
     "end_time": "2024-10-26T11:49:00.631827Z",
     "start_time": "2024-10-26T11:49:00.619180Z"
    }
   },
   "outputs": [
    {
     "data": {
      "text/html": [
       "<div>\n",
       "<style scoped>\n",
       "    .dataframe tbody tr th:only-of-type {\n",
       "        vertical-align: middle;\n",
       "    }\n",
       "\n",
       "    .dataframe tbody tr th {\n",
       "        vertical-align: top;\n",
       "    }\n",
       "\n",
       "    .dataframe thead th {\n",
       "        text-align: right;\n",
       "    }\n",
       "</style>\n",
       "<table border=\"1\" class=\"dataframe\">\n",
       "  <thead>\n",
       "    <tr style=\"text-align: right;\">\n",
       "      <th></th>\n",
       "      <th>tic</th>\n",
       "      <th>year</th>\n",
       "      <th>fe_at</th>\n",
       "      <th>fe_lat</th>\n",
       "      <th>fe_llt</th>\n",
       "      <th>fe_lt</th>\n",
       "      <th>ie_at</th>\n",
       "      <th>ie_lat</th>\n",
       "      <th>ie_llt</th>\n",
       "      <th>ie_llt</th>\n",
       "      <th>ies_at</th>\n",
       "      <th>ies_lt</th>\n",
       "      <th>ies_lat</th>\n",
       "      <th>ies_llt</th>\n",
       "    </tr>\n",
       "  </thead>\n",
       "  <tbody>\n",
       "    <tr>\n",
       "      <th>0</th>\n",
       "      <td>1</td>\n",
       "      <td>1992</td>\n",
       "      <td>NaN</td>\n",
       "      <td>NaN</td>\n",
       "      <td>NaN</td>\n",
       "      <td>NaN</td>\n",
       "      <td>NaN</td>\n",
       "      <td>NaN</td>\n",
       "      <td>NaN</td>\n",
       "      <td>NaN</td>\n",
       "      <td>0.02858</td>\n",
       "      <td>0.048747</td>\n",
       "      <td>NaN</td>\n",
       "      <td>NaN</td>\n",
       "    </tr>\n",
       "    <tr>\n",
       "      <th>1</th>\n",
       "      <td>1</td>\n",
       "      <td>1993</td>\n",
       "      <td>NaN</td>\n",
       "      <td>NaN</td>\n",
       "      <td>NaN</td>\n",
       "      <td>NaN</td>\n",
       "      <td>NaN</td>\n",
       "      <td>NaN</td>\n",
       "      <td>NaN</td>\n",
       "      <td>NaN</td>\n",
       "      <td>0.02858</td>\n",
       "      <td>0.043351</td>\n",
       "      <td>0.03456</td>\n",
       "      <td>0.073568</td>\n",
       "    </tr>\n",
       "    <tr>\n",
       "      <th>2</th>\n",
       "      <td>1</td>\n",
       "      <td>1994</td>\n",
       "      <td>NaN</td>\n",
       "      <td>NaN</td>\n",
       "      <td>NaN</td>\n",
       "      <td>NaN</td>\n",
       "      <td>NaN</td>\n",
       "      <td>NaN</td>\n",
       "      <td>NaN</td>\n",
       "      <td>NaN</td>\n",
       "      <td>0.02858</td>\n",
       "      <td>0.047291</td>\n",
       "      <td>0.03456</td>\n",
       "      <td>0.062760</td>\n",
       "    </tr>\n",
       "    <tr>\n",
       "      <th>3</th>\n",
       "      <td>1</td>\n",
       "      <td>1995</td>\n",
       "      <td>NaN</td>\n",
       "      <td>NaN</td>\n",
       "      <td>NaN</td>\n",
       "      <td>NaN</td>\n",
       "      <td>NaN</td>\n",
       "      <td>NaN</td>\n",
       "      <td>NaN</td>\n",
       "      <td>NaN</td>\n",
       "      <td>0.02858</td>\n",
       "      <td>0.042010</td>\n",
       "      <td>0.03456</td>\n",
       "      <td>0.062911</td>\n",
       "    </tr>\n",
       "    <tr>\n",
       "      <th>4</th>\n",
       "      <td>1</td>\n",
       "      <td>1996</td>\n",
       "      <td>NaN</td>\n",
       "      <td>NaN</td>\n",
       "      <td>NaN</td>\n",
       "      <td>NaN</td>\n",
       "      <td>NaN</td>\n",
       "      <td>NaN</td>\n",
       "      <td>NaN</td>\n",
       "      <td>NaN</td>\n",
       "      <td>0.02858</td>\n",
       "      <td>0.043000</td>\n",
       "      <td>0.03456</td>\n",
       "      <td>0.044432</td>\n",
       "    </tr>\n",
       "    <tr>\n",
       "      <th>...</th>\n",
       "      <td>...</td>\n",
       "      <td>...</td>\n",
       "      <td>...</td>\n",
       "      <td>...</td>\n",
       "      <td>...</td>\n",
       "      <td>...</td>\n",
       "      <td>...</td>\n",
       "      <td>...</td>\n",
       "      <td>...</td>\n",
       "      <td>...</td>\n",
       "      <td>...</td>\n",
       "      <td>...</td>\n",
       "      <td>...</td>\n",
       "      <td>...</td>\n",
       "    </tr>\n",
       "    <tr>\n",
       "      <th>70374</th>\n",
       "      <td>900957</td>\n",
       "      <td>2018</td>\n",
       "      <td>5.893640e-02</td>\n",
       "      <td>5.925339e-02</td>\n",
       "      <td>0.282875</td>\n",
       "      <td>0.335757</td>\n",
       "      <td>0.058147</td>\n",
       "      <td>0.058460</td>\n",
       "      <td>0.279087</td>\n",
       "      <td>0.279087</td>\n",
       "      <td>NaN</td>\n",
       "      <td>NaN</td>\n",
       "      <td>NaN</td>\n",
       "      <td>NaN</td>\n",
       "    </tr>\n",
       "    <tr>\n",
       "      <th>70375</th>\n",
       "      <td>900957</td>\n",
       "      <td>2019</td>\n",
       "      <td>5.254371e-02</td>\n",
       "      <td>5.428296e-02</td>\n",
       "      <td>0.309246</td>\n",
       "      <td>0.295892</td>\n",
       "      <td>0.052617</td>\n",
       "      <td>0.054359</td>\n",
       "      <td>0.309678</td>\n",
       "      <td>0.309678</td>\n",
       "      <td>NaN</td>\n",
       "      <td>NaN</td>\n",
       "      <td>NaN</td>\n",
       "      <td>NaN</td>\n",
       "    </tr>\n",
       "    <tr>\n",
       "      <th>70376</th>\n",
       "      <td>900957</td>\n",
       "      <td>2020</td>\n",
       "      <td>4.965599e-02</td>\n",
       "      <td>5.023969e-02</td>\n",
       "      <td>0.282917</td>\n",
       "      <td>0.303775</td>\n",
       "      <td>NaN</td>\n",
       "      <td>NaN</td>\n",
       "      <td>NaN</td>\n",
       "      <td>NaN</td>\n",
       "      <td>NaN</td>\n",
       "      <td>NaN</td>\n",
       "      <td>NaN</td>\n",
       "      <td>NaN</td>\n",
       "    </tr>\n",
       "    <tr>\n",
       "      <th>70377</th>\n",
       "      <td>900957</td>\n",
       "      <td>2021</td>\n",
       "      <td>-4.294896e-06</td>\n",
       "      <td>-4.381987e-06</td>\n",
       "      <td>-0.000027</td>\n",
       "      <td>-0.000026</td>\n",
       "      <td>NaN</td>\n",
       "      <td>NaN</td>\n",
       "      <td>NaN</td>\n",
       "      <td>NaN</td>\n",
       "      <td>NaN</td>\n",
       "      <td>NaN</td>\n",
       "      <td>NaN</td>\n",
       "      <td>NaN</td>\n",
       "    </tr>\n",
       "    <tr>\n",
       "      <th>70378</th>\n",
       "      <td>900957</td>\n",
       "      <td>2022</td>\n",
       "      <td>8.648119e-07</td>\n",
       "      <td>8.772232e-07</td>\n",
       "      <td>0.000005</td>\n",
       "      <td>0.000005</td>\n",
       "      <td>NaN</td>\n",
       "      <td>NaN</td>\n",
       "      <td>NaN</td>\n",
       "      <td>NaN</td>\n",
       "      <td>NaN</td>\n",
       "      <td>NaN</td>\n",
       "      <td>NaN</td>\n",
       "      <td>NaN</td>\n",
       "    </tr>\n",
       "  </tbody>\n",
       "</table>\n",
       "<p>70379 rows × 14 columns</p>\n",
       "</div>"
      ],
      "text/plain": [
       "          tic  year         fe_at        fe_lat    fe_llt     fe_lt     ie_at  \\\n",
       "0           1  1992           NaN           NaN       NaN       NaN       NaN   \n",
       "1           1  1993           NaN           NaN       NaN       NaN       NaN   \n",
       "2           1  1994           NaN           NaN       NaN       NaN       NaN   \n",
       "3           1  1995           NaN           NaN       NaN       NaN       NaN   \n",
       "4           1  1996           NaN           NaN       NaN       NaN       NaN   \n",
       "...       ...   ...           ...           ...       ...       ...       ...   \n",
       "70374  900957  2018  5.893640e-02  5.925339e-02  0.282875  0.335757  0.058147   \n",
       "70375  900957  2019  5.254371e-02  5.428296e-02  0.309246  0.295892  0.052617   \n",
       "70376  900957  2020  4.965599e-02  5.023969e-02  0.282917  0.303775       NaN   \n",
       "70377  900957  2021 -4.294896e-06 -4.381987e-06 -0.000027 -0.000026       NaN   \n",
       "70378  900957  2022  8.648119e-07  8.772232e-07  0.000005  0.000005       NaN   \n",
       "\n",
       "         ie_lat    ie_llt    ie_llt   ies_at    ies_lt  ies_lat   ies_llt  \n",
       "0           NaN       NaN       NaN  0.02858  0.048747      NaN       NaN  \n",
       "1           NaN       NaN       NaN  0.02858  0.043351  0.03456  0.073568  \n",
       "2           NaN       NaN       NaN  0.02858  0.047291  0.03456  0.062760  \n",
       "3           NaN       NaN       NaN  0.02858  0.042010  0.03456  0.062911  \n",
       "4           NaN       NaN       NaN  0.02858  0.043000  0.03456  0.044432  \n",
       "...         ...       ...       ...      ...       ...      ...       ...  \n",
       "70374  0.058460  0.279087  0.279087      NaN       NaN      NaN       NaN  \n",
       "70375  0.054359  0.309678  0.309678      NaN       NaN      NaN       NaN  \n",
       "70376       NaN       NaN       NaN      NaN       NaN      NaN       NaN  \n",
       "70377       NaN       NaN       NaN      NaN       NaN      NaN       NaN  \n",
       "70378       NaN       NaN       NaN      NaN       NaN      NaN       NaN  \n",
       "\n",
       "[70379 rows x 14 columns]"
      ]
     },
     "execution_count": 51,
     "metadata": {},
     "output_type": "execute_result"
    }
   ],
   "source": [
    "fc_useful_df"
   ]
  },
  {
   "cell_type": "code",
   "execution_count": 63,
   "id": "a236844b71a64811",
   "metadata": {
    "ExecuteTime": {
     "end_time": "2024-10-26T11:53:36.999165Z",
     "start_time": "2024-10-26T11:53:36.330396Z"
    }
   },
   "outputs": [],
   "source": [
    "reg_df2.drop_duplicates(subset=[const.TICKER, const.YEAR]).to_stata(\n",
    "    os.path.join(const.OUTPUT_PATH, '20241026_cc_reg_data.dta'), write_index=False, version=119\n",
    ")"
   ]
  },
  {
   "cell_type": "markdown",
   "id": "ee24cafbcbe840a8",
   "metadata": {},
   "source": [
    "# Construct Bond level data"
   ]
  },
  {
   "cell_type": "code",
   "execution_count": 3,
   "id": "bdc3ffd2fc6d8f26",
   "metadata": {
    "ExecuteTime": {
     "end_time": "2024-10-27T02:07:38.862290Z",
     "start_time": "2024-10-27T02:07:38.207478Z"
    }
   },
   "outputs": [
    {
     "name": "stderr",
     "output_type": "stream",
     "text": [
      "C:\\Users\\wangy\\AppData\\Local\\Temp\\ipykernel_20360\\4132258909.py:3: DtypeWarning: Columns (0,15,19,20) have mixed types. Specify dtype option on import or set low_memory=False.\n",
      "  bnd_info_df: DataFrame = pd.read_csv(csv_file, on_bad_lines='skip').dropna(subset=['IssSymbol'])\n"
     ]
    }
   ],
   "source": [
    "with zipfile.ZipFile(os.path.join(const.CSMAR_PATH, '债券基本情况表.zip'), 'r') as zip_ref:\n",
    "    with zip_ref.open('BND_Bndinfo.csv') as csv_file:\n",
    "        bnd_info_df: DataFrame = pd.read_csv(csv_file, on_bad_lines='skip').dropna(subset=['IssSymbol'])"
   ]
  },
  {
   "cell_type": "code",
   "execution_count": 12,
   "id": "51aeaa106e772c58",
   "metadata": {
    "ExecuteTime": {
     "end_time": "2024-10-27T02:59:59.491010Z",
     "start_time": "2024-10-27T02:59:59.392266Z"
    }
   },
   "outputs": [],
   "source": [
    "df_gov = pd.read_excel(os.path.join(const.DATABASE_PATH, 'resset', '1981_2024_国债数据.xls'))"
   ]
  },
  {
   "cell_type": "code",
   "execution_count": 29,
   "id": "98f1ba2fd79a817",
   "metadata": {
    "ExecuteTime": {
     "end_time": "2024-10-27T03:10:22.184118Z",
     "start_time": "2024-10-27T03:10:22.169076Z"
    }
   },
   "outputs": [],
   "source": [
    "# Convert dates to datetime format\n",
    "bnd_info_df['Listdt'] = pd.to_datetime(bnd_info_df['Listdt'])\n",
    "df_gov['首次信息发布时间_IInfoPubDt'] = pd.to_datetime(df_gov['首次信息发布时间_IInfoPubDt'])\n",
    "\n",
    "df_gov2: DataFrame = df_gov[df_gov['初始票面年利率(%)_CoupRt'] > 0].copy()"
   ]
  },
  {
   "cell_type": "code",
   "execution_count": 17,
   "id": "f9d9e1117dbf4b2c",
   "metadata": {
    "ExecuteTime": {
     "end_time": "2024-10-27T03:01:14.338006Z",
     "start_time": "2024-10-27T03:01:14.333174Z"
    }
   },
   "outputs": [],
   "source": [
    "from datetime import timedelta\n",
    "\n",
    "\n",
    "# Function to match the government bond to corporate bond based on similar issuance time and period\n",
    "def match_bonds(corp_row, gov_bonds):\n",
    "    # Filter government bonds within one year of the corporate bond issuance date\n",
    "    filtered_gov_bonds = gov_bonds[\n",
    "        (gov_bonds['首次信息发布时间_IInfoPubDt'] >= corp_row['Listdt'] - timedelta(days=365)) &\n",
    "        (gov_bonds['首次信息发布时间_IInfoPubDt'] <= corp_row['Listdt'] + timedelta(days=365))]\n",
    "\n",
    "    if filtered_gov_bonds.empty:\n",
    "        return None\n",
    "\n",
    "    issuance_time_diff = abs(filtered_gov_bonds['首次信息发布时间_IInfoPubDt'] - corp_row['Listdt'])\n",
    "    issuance_period_diff = abs(filtered_gov_bonds['债券期限_年(年)_Maturity'] - corp_row['Term'])\n",
    "    total_diff = issuance_time_diff.dt.days + issuance_period_diff * 365\n",
    "\n",
    "    matched_gov_bond = filtered_gov_bonds.loc[total_diff.idxmin()]\n",
    "    return matched_gov_bond['初始票面年利率(%)_CoupRt']"
   ]
  },
  {
   "cell_type": "code",
   "execution_count": 30,
   "id": "374ca632cb8143ef",
   "metadata": {
    "ExecuteTime": {
     "end_time": "2024-10-27T03:11:12.926845Z",
     "start_time": "2024-10-27T03:10:27.820723Z"
    }
   },
   "outputs": [],
   "source": [
    "# Add government bond interest rate to corporate bonds\n",
    "bnd_info_df['GovInterestRate'] = bnd_info_df.apply(lambda x: match_bonds(x, df_gov2), axis=1)"
   ]
  },
  {
   "cell_type": "code",
   "execution_count": 24,
   "id": "292944882077dea1",
   "metadata": {
    "ExecuteTime": {
     "end_time": "2024-10-27T03:08:32.897699Z",
     "start_time": "2024-10-27T03:08:32.891680Z"
    }
   },
   "outputs": [],
   "source": [
    "corp_row = bnd_info_df.loc[68]\n",
    "# Filter government bonds within one year of the corporate bond issuance date\n",
    "filtered_gov_bonds = df_gov[(df_gov['首次信息发布时间_IInfoPubDt'] >= corp_row['Listdt'] - timedelta(days=365)) &\n",
    "                            (df_gov['首次信息发布时间_IInfoPubDt'] <= corp_row['Listdt'] + timedelta(days=365))]"
   ]
  },
  {
   "cell_type": "code",
   "execution_count": 26,
   "id": "bf44189402925100",
   "metadata": {
    "ExecuteTime": {
     "end_time": "2024-10-27T03:08:52.596557Z",
     "start_time": "2024-10-27T03:08:52.591828Z"
    }
   },
   "outputs": [],
   "source": [
    "issuance_time_diff = abs(filtered_gov_bonds['首次信息发布时间_IInfoPubDt'] - corp_row['Listdt'])\n",
    "issuance_period_diff = abs(filtered_gov_bonds['债券期限_年(年)_Maturity'] - corp_row['Term'])\n",
    "total_diff = issuance_time_diff.dt.days + issuance_period_diff * 365\n",
    "\n",
    "matched_gov_bond = filtered_gov_bonds.loc[total_diff.idxmin()]"
   ]
  },
  {
   "cell_type": "code",
   "execution_count": 36,
   "id": "c8ce3ae8a31c313c",
   "metadata": {
    "ExecuteTime": {
     "end_time": "2024-10-27T03:20:19.280934Z",
     "start_time": "2024-10-27T03:20:19.204573Z"
    }
   },
   "outputs": [
    {
     "name": "stderr",
     "output_type": "stream",
     "text": [
      "C:\\Users\\wangy\\AppData\\Local\\Temp\\ipykernel_20360\\398060761.py:5: FutureWarning: A value is trying to be set on a copy of a DataFrame or Series through chained assignment using an inplace method.\n",
      "The behavior will change in pandas 3.0. This inplace method will never work because the intermediate object on which we are setting values always behaves as a copy.\n",
      "\n",
      "For example, when doing 'df[col].method(value, inplace=True)', try using 'df.method({col: value}, inplace=True)' or df[col] = df[col].method(value) instead, to perform the operation inplace on the original object.\n",
      "\n",
      "\n",
      "  bnd_info_df[key].replace({'Y': 1, 'N': 0}, inplace=True)\n"
     ]
    }
   ],
   "source": [
    "import datetime\n",
    "\n",
    "bnd_info_df['Spread'] = bnd_info_df['Intrrate'] - bnd_info_df['GovInterestRate']\n",
    "for key in ['Crdeem', 'Crtsell', 'Creplm']:\n",
    "    bnd_info_df[key].replace({'Y': 1, 'N': 0}, inplace=True)\n",
    "\n",
    "bnd_info_df.drop(['Basrted', 'Bemkrate'], axis=1, inplace=True)\n",
    "bnd_info_df.loc[:, 'isPut'] = (bnd_info_df['CallOrPut'] == 'P').astype(int)\n",
    "bnd_info_df.loc[:, 'isCall'] = (bnd_info_df['CallOrPut'] == 'C').astype(int)\n",
    "\n",
    "bnd_info_df.loc[:, 'Post'] = bnd_info_df['Listdt'].apply(lambda x: int(x > datetime.datetime(2014, 5, 19)))"
   ]
  },
  {
   "cell_type": "code",
   "execution_count": 52,
   "id": "4c64030992d87f49",
   "metadata": {
    "ExecuteTime": {
     "end_time": "2024-10-27T03:32:24.433068Z",
     "start_time": "2024-10-27T03:32:24.427234Z"
    }
   },
   "outputs": [
    {
     "data": {
      "text/plain": [
       "Index(['Liscd', 'Abbrnme', 'Sctcd', 'Listdt', 'SecurityID', 'Varsortcd',\n",
       "       'Varsort', 'Orgid', 'IssSymbol', 'Acisuquty', 'Pooprc', 'Term',\n",
       "       'Intrrate', 'Crdrate', 'Crdeem', 'Crtsell', 'Creplm', 'OptType',\n",
       "       'CallOrPut', 'GovInterestRate', 'Spread', 'isPut', 'isCall', 'Post',\n",
       "       'year'],\n",
       "      dtype='object')"
      ]
     },
     "execution_count": 52,
     "metadata": {},
     "output_type": "execute_result"
    }
   ],
   "source": [
    "bnd_info_df.keys()"
   ]
  },
  {
   "cell_type": "code",
   "execution_count": 39,
   "id": "c49ec903fc703d5",
   "metadata": {
    "ExecuteTime": {
     "end_time": "2024-10-27T03:21:11.749419Z",
     "start_time": "2024-10-27T03:21:11.742845Z"
    }
   },
   "outputs": [],
   "source": [
    "bnd_info_df.loc[:, const.YEAR] = bnd_info_df['Listdt'].dt.year"
   ]
  },
  {
   "cell_type": "code",
   "execution_count": 40,
   "id": "660a03c1e521d866",
   "metadata": {
    "ExecuteTime": {
     "end_time": "2024-10-27T03:23:01.022044Z",
     "start_time": "2024-10-27T03:23:00.716688Z"
    }
   },
   "outputs": [],
   "source": [
    "with zipfile.ZipFile(os.path.join(const.CSMAR_PATH, '财务指标文件.zip'), 'r') as zip_ref:\n",
    "    with zip_ref.open('CSR_Finidx.csv') as csv_file:\n",
    "        finidx_df: DataFrame = pd.read_csv(csv_file, on_bad_lines='skip')\n",
    "        finidx_df: DataFrame = sort_csmar_data(finidx_df)"
   ]
  },
  {
   "cell_type": "code",
   "execution_count": 42,
   "id": "9df7cec29cdc0cf1",
   "metadata": {
    "ExecuteTime": {
     "end_time": "2024-10-27T03:24:21.041874Z",
     "start_time": "2024-10-27T03:24:21.034164Z"
    }
   },
   "outputs": [],
   "source": [
    "finidx_df['ln_at'] = finidx_df['A100000'].apply(np.log)\n",
    "finidx_df['lev'] = finidx_df['A200000'] / finidx_df['A100000']"
   ]
  },
  {
   "cell_type": "code",
   "execution_count": 66,
   "id": "556acfd6818d9dd1",
   "metadata": {
    "ExecuteTime": {
     "end_time": "2024-10-27T06:13:25.101129Z",
     "start_time": "2024-10-27T06:13:25.034034Z"
    }
   },
   "outputs": [],
   "source": [
    "# finidx_df[const.YEAR] += 1\n",
    "bnd_reg_df = bnd_info_df.merge(finidx_df, how='left', left_on=['IssSymbol', const.YEAR], right_on=['tic', const.YEAR])"
   ]
  },
  {
   "cell_type": "code",
   "execution_count": 55,
   "id": "42cce57cf0c74fad",
   "metadata": {
    "ExecuteTime": {
     "end_time": "2024-10-27T03:32:42.059448Z",
     "start_time": "2024-10-27T03:32:42.054045Z"
    }
   },
   "outputs": [],
   "source": [
    "bnd_reg_df['Liscd'] = bnd_reg_df['Liscd'].astype(int)"
   ]
  },
  {
   "cell_type": "code",
   "execution_count": 67,
   "id": "e7f55e2c2c45ad95",
   "metadata": {
    "ExecuteTime": {
     "end_time": "2024-10-27T06:13:33.409545Z",
     "start_time": "2024-10-27T06:13:33.095744Z"
    }
   },
   "outputs": [],
   "source": [
    "reg_df = pd.read_stata(os.path.join(const.OUTPUT_PATH, '20241026_cc_reg_data_v2.dta'))[\n",
    "    ['tic', const.YEAR, 'has_guarantee']]\n",
    "\n",
    "bnd_reg_df = bnd_reg_df.drop(['tic'], axis=1).merge(reg_df, how='left', left_on=['IssSymbol', const.YEAR],\n",
    "                                                    right_on=['tic', const.YEAR])\n",
    "bnd_reg_df.loc[:, 'has_guarantee'] = bnd_reg_df['has_guarantee'].fillna(0)"
   ]
  },
  {
   "cell_type": "code",
   "execution_count": 60,
   "id": "348dcbd4c39ed1d2",
   "metadata": {
    "ExecuteTime": {
     "end_time": "2024-10-27T03:40:19.521733Z",
     "start_time": "2024-10-27T03:40:19.489712Z"
    }
   },
   "outputs": [],
   "source": [
    "bnd_reg_df['rate'] = bnd_reg_df['Crdrate'].apply(lambda x: 0 if pd.isna(x) else 1 if 'B' in x else 2)"
   ]
  },
  {
   "cell_type": "code",
   "execution_count": 61,
   "id": "9ef4f54b219587bf",
   "metadata": {
    "ExecuteTime": {
     "end_time": "2024-10-27T03:40:21.854939Z",
     "start_time": "2024-10-27T03:40:21.621839Z"
    }
   },
   "outputs": [],
   "source": []
  },
  {
   "cell_type": "code",
   "execution_count": 63,
   "id": "f7c96fb92039416c",
   "metadata": {
    "ExecuteTime": {
     "end_time": "2024-10-27T06:12:53.565135Z",
     "start_time": "2024-10-27T06:12:53.389991Z"
    }
   },
   "outputs": [],
   "source": [
    "with zipfile.ZipFile(os.path.join(const.CSMAR_PATH, '债券及主体评级情况表.zip'), 'r') as zip_ref:\n",
    "    with zip_ref.open('BND_Rating.csv') as csv_file:\n",
    "        bnd_rate_df: DataFrame = pd.read_csv(csv_file, on_bad_lines='skip')\n",
    "\n",
    "bnd_rate_df['DeclareDate'] = pd.to_datetime(bnd_rate_df['DeclareDate'])\n",
    "bnd_rate_df['Liscd'] = bnd_rate_df['Liscd'].astype(int)"
   ]
  },
  {
   "cell_type": "code",
   "execution_count": 64,
   "id": "ab81f023f08cce59",
   "metadata": {
    "ExecuteTime": {
     "end_time": "2024-10-27T06:12:54.526746Z",
     "start_time": "2024-10-27T06:12:54.520510Z"
    }
   },
   "outputs": [],
   "source": [
    "# Merge rating information with bond basic information, using the rating closest to the bond Listdt\n",
    "def match_rating(corp_row, ratings_df):\n",
    "    filtered_ratings = ratings_df[ratings_df['Liscd'] == corp_row['Liscd']]\n",
    "    if filtered_ratings.empty:\n",
    "        return pd.Series([None, None])\n",
    "\n",
    "    filtered_ratings['date_diff'] = abs(filtered_ratings['DeclareDate'] - corp_row['Listdt'])\n",
    "    closest_rating = filtered_ratings.loc[filtered_ratings['date_diff'].idxmin()]\n",
    "    return pd.Series([closest_rating['BtcrAdj'], closest_rating['CtcrAdj']])"
   ]
  },
  {
   "cell_type": "code",
   "execution_count": 65,
   "id": "38899c867405cc6",
   "metadata": {
    "ExecuteTime": {
     "end_time": "2024-10-27T06:13:13.211230Z",
     "start_time": "2024-10-27T06:12:55.680756Z"
    }
   },
   "outputs": [],
   "source": [
    "bnd_info_df[['BtcrAdj', 'CtcrAdj']] = bnd_info_df.apply(lambda x: match_rating(x, bnd_rate_df), axis=1)\n"
   ]
  },
  {
   "cell_type": "code",
   "execution_count": 73,
   "id": "fcdbe470629f026d",
   "metadata": {
    "ExecuteTime": {
     "end_time": "2024-10-27T06:20:46.510799Z",
     "start_time": "2024-10-27T06:20:46.479272Z"
    }
   },
   "outputs": [
    {
     "name": "stderr",
     "output_type": "stream",
     "text": [
      "C:\\Users\\wangy\\AppData\\Local\\Temp\\ipykernel_20360\\566518933.py:19: FutureWarning: Downcasting behavior in `replace` is deprecated and will be removed in a future version. To retain the old behavior, explicitly call `result.infer_objects(copy=False)`. To opt-in to the future behavior, set `pd.set_option('future.no_silent_downcasting', True)`\n",
      "  bnd_reg_df[f'{key}_val'] = bnd_reg_df[key].replace(rating_dict)\n",
      "C:\\Users\\wangy\\AppData\\Local\\Temp\\ipykernel_20360\\566518933.py:19: FutureWarning: Downcasting behavior in `replace` is deprecated and will be removed in a future version. To retain the old behavior, explicitly call `result.infer_objects(copy=False)`. To opt-in to the future behavior, set `pd.set_option('future.no_silent_downcasting', True)`\n",
      "  bnd_reg_df[f'{key}_val'] = bnd_reg_df[key].replace(rating_dict)\n",
      "C:\\Users\\wangy\\AppData\\Local\\Temp\\ipykernel_20360\\566518933.py:19: FutureWarning: Downcasting behavior in `replace` is deprecated and will be removed in a future version. To retain the old behavior, explicitly call `result.infer_objects(copy=False)`. To opt-in to the future behavior, set `pd.set_option('future.no_silent_downcasting', True)`\n",
      "  bnd_reg_df[f'{key}_val'] = bnd_reg_df[key].replace(rating_dict)\n"
     ]
    }
   ],
   "source": [
    "rating_dict = {'AAA+': 12,\n",
    "               'AAA': 11,\n",
    "               'AA+sf': 10,\n",
    "               'AA+': 10,\n",
    "               'AA': 9,\n",
    "               'AA-': 8,\n",
    "               'AA- ': 8,\n",
    "               'A+': 7,\n",
    "               'A': 6,\n",
    "               'A-1': 5,\n",
    "               'A-1 ': 5,\n",
    "               'A-': 5,\n",
    "               'BBB+': 4,\n",
    "               'BBB': 3,\n",
    "               'BBB-': 2,\n",
    "               'B': 1,\n",
    "               'C': 0}\n",
    "for key in ['Crdrate', 'BtcrAdj', 'CtcrAdj']:\n",
    "    bnd_reg_df[f'{key}_val'] = bnd_reg_df[key].replace(rating_dict)\n",
    "    bnd_reg_df[key] = bnd_reg_df[key].fillna('C')\n",
    "    bnd_reg_df[f'{key}_val'] = bnd_reg_df[f'{key}_val'].fillna(0)"
   ]
  },
  {
   "cell_type": "code",
   "execution_count": 75,
   "id": "298283006cb117ec",
   "metadata": {
    "ExecuteTime": {
     "end_time": "2024-10-27T06:21:39.483334Z",
     "start_time": "2024-10-27T06:21:39.477242Z"
    }
   },
   "outputs": [],
   "source": [
    "bnd_reg_df['Liscd'] = bnd_reg_df['Liscd'].astype(int)"
   ]
  },
  {
   "cell_type": "code",
   "execution_count": 76,
   "id": "338a4a4116349265",
   "metadata": {
    "ExecuteTime": {
     "end_time": "2024-10-27T06:21:42.624883Z",
     "start_time": "2024-10-27T06:21:42.320559Z"
    }
   },
   "outputs": [],
   "source": [
    "bnd_reg_df.to_stata(os.path.join(const.OUTPUT_PATH, '20241027_corporate_bond_spread.dta'), write_index=False,\n",
    "                    version=119)"
   ]
  },
  {
   "cell_type": "markdown",
   "id": "b48bd36e6dda48bd",
   "metadata": {},
   "source": [
    "# Calculate Investment Efficiency\n",
    "\n",
    "Source: Baik, D. (Young-I., Chen, C. X., & Godsell, D. (2024). Board Gender Diversity and Investment Efficiency: Global Evidence from 83 Country-Level Interventions. The Accounting Review, 99(3), 1–36. https://doi.org/10.2308/TAR-2022-0251\n"
   ]
  },
  {
   "cell_type": "code",
   "execution_count": 81,
   "id": "3ba18d9483a51c9e",
   "metadata": {
    "ExecuteTime": {
     "end_time": "2024-10-27T07:09:25.724363Z",
     "start_time": "2024-10-27T07:09:25.218029Z"
    }
   },
   "outputs": [
    {
     "data": {
      "text/html": [
       "<div>\n",
       "<style scoped>\n",
       "    .dataframe tbody tr th:only-of-type {\n",
       "        vertical-align: middle;\n",
       "    }\n",
       "\n",
       "    .dataframe tbody tr th {\n",
       "        vertical-align: top;\n",
       "    }\n",
       "\n",
       "    .dataframe thead th {\n",
       "        text-align: right;\n",
       "    }\n",
       "</style>\n",
       "<table border=\"1\" class=\"dataframe\">\n",
       "  <thead>\n",
       "    <tr style=\"text-align: right;\">\n",
       "      <th></th>\n",
       "      <th>indcd</th>\n",
       "      <th>CAPEX_RDI_lat_1</th>\n",
       "      <th>sale_growth</th>\n",
       "      <th>negative_sales_growth</th>\n",
       "      <th>investment_efficiency</th>\n",
       "      <th>investment_efficiency_alt</th>\n",
       "    </tr>\n",
       "  </thead>\n",
       "  <tbody>\n",
       "    <tr>\n",
       "      <th>16794</th>\n",
       "      <td></td>\n",
       "      <td>0.002151</td>\n",
       "      <td>0.364444</td>\n",
       "      <td>0</td>\n",
       "      <td>-0.04885</td>\n",
       "      <td>0</td>\n",
       "    </tr>\n",
       "    <tr>\n",
       "      <th>16795</th>\n",
       "      <td></td>\n",
       "      <td>0.006760</td>\n",
       "      <td>0.054600</td>\n",
       "      <td>0</td>\n",
       "      <td>-0.043109</td>\n",
       "      <td>0</td>\n",
       "    </tr>\n",
       "    <tr>\n",
       "      <th>16796</th>\n",
       "      <td></td>\n",
       "      <td>0.001904</td>\n",
       "      <td>0.066165</td>\n",
       "      <td>0</td>\n",
       "      <td>-0.048008</td>\n",
       "      <td>0</td>\n",
       "    </tr>\n",
       "    <tr>\n",
       "      <th>16797</th>\n",
       "      <td></td>\n",
       "      <td>0.001213</td>\n",
       "      <td>0.013319</td>\n",
       "      <td>0</td>\n",
       "      <td>-0.048505</td>\n",
       "      <td>0</td>\n",
       "    </tr>\n",
       "    <tr>\n",
       "      <th>16798</th>\n",
       "      <td></td>\n",
       "      <td>0.000509</td>\n",
       "      <td>0.097705</td>\n",
       "      <td>0</td>\n",
       "      <td>-0.049518</td>\n",
       "      <td>0</td>\n",
       "    </tr>\n",
       "  </tbody>\n",
       "</table>\n",
       "</div>"
      ],
      "text/plain": [
       "      indcd  CAPEX_RDI_lat_1  sale_growth  negative_sales_growth  \\\n",
       "16794               0.002151     0.364444                      0   \n",
       "16795               0.006760     0.054600                      0   \n",
       "16796               0.001904     0.066165                      0   \n",
       "16797               0.001213     0.013319                      0   \n",
       "16798               0.000509     0.097705                      0   \n",
       "\n",
       "      investment_efficiency  investment_efficiency_alt  \n",
       "16794              -0.04885                          0  \n",
       "16795             -0.043109                          0  \n",
       "16796             -0.048008                          0  \n",
       "16797             -0.048505                          0  \n",
       "16798             -0.049518                          0  "
      ]
     },
     "execution_count": 81,
     "metadata": {},
     "output_type": "execute_result"
    }
   ],
   "source": [
    "import statsmodels.api as sm\n",
    "\n",
    "full_reg_df = pd.read_stata(os.path.join(const.OUTPUT_PATH, '20241026_cc_reg_data_v2.dta'))\n",
    "\n",
    "reg_df = full_reg_df[['indcd', 'sale_growth', 'tic', 'year', 'CAPEX_RDI_lat_1']].dropna(how='any')\n",
    "\n",
    "# Add an indicator for negative sales growth\n",
    "reg_df['negative_sales_growth'] = np.where(reg_df['sale_growth'] < 0, 1, 0)\n",
    "\n",
    "# Prepare independent variables\n",
    "# Sales growth and interaction term\n",
    "reg_df['interaction'] = reg_df['negative_sales_growth'] * reg_df['sale_growth']\n",
    "\n",
    "# Dependent variable\n",
    "y = reg_df['CAPEX_RDI_lat_1']\n",
    "\n",
    "# Estimate the model for each industry code (cross-sectional regression)\n",
    "residuals = []\n",
    "for indcd, group in reg_df.groupby('indcd'):\n",
    "    X = group[['sale_growth', 'negative_sales_growth', 'interaction']]\n",
    "    X = sm.add_constant(X)  # Adds a constant term for the intercept\n",
    "    model = sm.OLS(group[y.name], X)\n",
    "    results = model.fit()\n",
    "    group['residuals'] = results.resid\n",
    "    residuals.append(group)\n",
    "\n",
    "# Combine residuals from all industry groups\n",
    "df_with_residuals = pd.concat(residuals)\n",
    "\n",
    "# Calculate investment efficiency\n",
    "# Absolute value of residual * -1\n",
    "df_with_residuals['investment_efficiency'] = -1 * df_with_residuals['residuals'].abs()\n",
    "\n",
    "# Alternate definition: 1 if absolute value of residual * -1 is above median, otherwise 0\n",
    "median_residual = df_with_residuals['investment_efficiency'].median()\n",
    "df_with_residuals['investment_efficiency_alt'] = np.where(df_with_residuals['investment_efficiency'] > median_residual,\n",
    "                                                          1, 0)\n",
    "\n",
    "# Display the result\n",
    "df_with_residuals[['indcd', 'CAPEX_RDI_lat_1', 'sale_growth', 'negative_sales_growth', 'investment_efficiency',\n",
    "                   'investment_efficiency_alt']].head()\n"
   ]
  },
  {
   "cell_type": "code",
   "execution_count": 85,
   "id": "85053737c974ed98",
   "metadata": {
    "ExecuteTime": {
     "end_time": "2024-10-27T07:10:51.573724Z",
     "start_time": "2024-10-27T07:10:51.564978Z"
    }
   },
   "outputs": [
    {
     "data": {
      "text/html": [
       "<div>\n",
       "<style scoped>\n",
       "    .dataframe tbody tr th:only-of-type {\n",
       "        vertical-align: middle;\n",
       "    }\n",
       "\n",
       "    .dataframe tbody tr th {\n",
       "        vertical-align: top;\n",
       "    }\n",
       "\n",
       "    .dataframe thead th {\n",
       "        text-align: right;\n",
       "    }\n",
       "</style>\n",
       "<table border=\"1\" class=\"dataframe\">\n",
       "  <thead>\n",
       "    <tr style=\"text-align: right;\">\n",
       "      <th></th>\n",
       "      <th>indcd</th>\n",
       "      <th>sale_growth</th>\n",
       "      <th>tic</th>\n",
       "      <th>year</th>\n",
       "      <th>CAPEX_RDI_lat_1</th>\n",
       "      <th>negative_sales_growth</th>\n",
       "      <th>interaction</th>\n",
       "      <th>residuals</th>\n",
       "      <th>investment_efficiency</th>\n",
       "      <th>investment_efficiency_alt</th>\n",
       "    </tr>\n",
       "  </thead>\n",
       "  <tbody>\n",
       "    <tr>\n",
       "      <th>16794</th>\n",
       "      <td></td>\n",
       "      <td>0.364444</td>\n",
       "      <td>200002</td>\n",
       "      <td>2007.0</td>\n",
       "      <td>0.002151</td>\n",
       "      <td>0</td>\n",
       "      <td>0.0</td>\n",
       "      <td>-0.04885</td>\n",
       "      <td>-0.04885</td>\n",
       "      <td>0</td>\n",
       "    </tr>\n",
       "    <tr>\n",
       "      <th>16795</th>\n",
       "      <td></td>\n",
       "      <td>0.054600</td>\n",
       "      <td>200002</td>\n",
       "      <td>2008.0</td>\n",
       "      <td>0.006760</td>\n",
       "      <td>0</td>\n",
       "      <td>0.0</td>\n",
       "      <td>-0.043109</td>\n",
       "      <td>-0.043109</td>\n",
       "      <td>0</td>\n",
       "    </tr>\n",
       "    <tr>\n",
       "      <th>16796</th>\n",
       "      <td></td>\n",
       "      <td>0.066165</td>\n",
       "      <td>200002</td>\n",
       "      <td>2009.0</td>\n",
       "      <td>0.001904</td>\n",
       "      <td>0</td>\n",
       "      <td>0.0</td>\n",
       "      <td>-0.048008</td>\n",
       "      <td>-0.048008</td>\n",
       "      <td>0</td>\n",
       "    </tr>\n",
       "    <tr>\n",
       "      <th>16797</th>\n",
       "      <td></td>\n",
       "      <td>0.013319</td>\n",
       "      <td>200002</td>\n",
       "      <td>2010.0</td>\n",
       "      <td>0.001213</td>\n",
       "      <td>0</td>\n",
       "      <td>0.0</td>\n",
       "      <td>-0.048505</td>\n",
       "      <td>-0.048505</td>\n",
       "      <td>0</td>\n",
       "    </tr>\n",
       "    <tr>\n",
       "      <th>16798</th>\n",
       "      <td></td>\n",
       "      <td>0.097705</td>\n",
       "      <td>200002</td>\n",
       "      <td>2011.0</td>\n",
       "      <td>0.000509</td>\n",
       "      <td>0</td>\n",
       "      <td>0.0</td>\n",
       "      <td>-0.049518</td>\n",
       "      <td>-0.049518</td>\n",
       "      <td>0</td>\n",
       "    </tr>\n",
       "  </tbody>\n",
       "</table>\n",
       "</div>"
      ],
      "text/plain": [
       "      indcd  sale_growth     tic    year  CAPEX_RDI_lat_1  \\\n",
       "16794           0.364444  200002  2007.0         0.002151   \n",
       "16795           0.054600  200002  2008.0         0.006760   \n",
       "16796           0.066165  200002  2009.0         0.001904   \n",
       "16797           0.013319  200002  2010.0         0.001213   \n",
       "16798           0.097705  200002  2011.0         0.000509   \n",
       "\n",
       "       negative_sales_growth  interaction residuals investment_efficiency  \\\n",
       "16794                      0          0.0  -0.04885              -0.04885   \n",
       "16795                      0          0.0 -0.043109             -0.043109   \n",
       "16796                      0          0.0 -0.048008             -0.048008   \n",
       "16797                      0          0.0 -0.048505             -0.048505   \n",
       "16798                      0          0.0 -0.049518             -0.049518   \n",
       "\n",
       "       investment_efficiency_alt  \n",
       "16794                          0  \n",
       "16795                          0  \n",
       "16796                          0  \n",
       "16797                          0  \n",
       "16798                          0  "
      ]
     },
     "execution_count": 85,
     "metadata": {},
     "output_type": "execute_result"
    }
   ],
   "source": [
    "df_with_residuals.head()"
   ]
  },
  {
   "cell_type": "code",
   "execution_count": 91,
   "id": "f8e1a01d07e7870e",
   "metadata": {
    "ExecuteTime": {
     "end_time": "2024-10-27T07:12:52.304829Z",
     "start_time": "2024-10-27T07:12:51.531996Z"
    }
   },
   "outputs": [],
   "source": [
    "full_reg_df2 = full_reg_df.merge(\n",
    "    df_with_residuals[[const.TICKER, const.YEAR, 'investment_efficiency', 'investment_efficiency_alt']],\n",
    "    on=[const.TICKER, const.YEAR], how='left')\n",
    "full_reg_df2['investment_efficiency'] = full_reg_df2['investment_efficiency'].astype(float)\n",
    "full_reg_df2.to_stata(os.path.join(const.OUTPUT_PATH, '20241027_cc_reg_data.dta'), write_index=False, version=119)"
   ]
  },
  {
   "cell_type": "code",
   "execution_count": 84,
   "id": "21277a2870ee632e",
   "metadata": {
    "ExecuteTime": {
     "end_time": "2024-10-27T07:10:03.110412Z",
     "start_time": "2024-10-27T07:10:03.102746Z"
    }
   },
   "outputs": [
    {
     "data": {
      "text/plain": [
       "array(['', 'A01', 'A02', 'A03', 'A04', 'A05', 'B06', 'B07', 'B08', 'B09',\n",
       "       'B10', 'B11', 'C13', 'C14', 'C15', 'C17', 'C18', 'C19', 'C20',\n",
       "       'C21', 'C22', 'C23', 'C24', 'C25', 'C26', 'C27', 'C28', 'C29',\n",
       "       'C30', 'C31', 'C32', 'C33', 'C34', 'C35', 'C36', 'C37', 'C38',\n",
       "       'C39', 'C40', 'C41', 'C42', 'C43', 'D44', 'D45', 'D46', 'E47',\n",
       "       'E48', 'E49', 'E50', 'F51', 'F52', 'G53', 'G54', 'G55', 'G56',\n",
       "       'G58', 'G59', 'G60', 'H61', 'H62', 'I63', 'I64', 'I65', 'J66',\n",
       "       'J67', 'J68', 'J69', 'K70', 'L71', 'L72', 'M73', 'M74', 'M75',\n",
       "       'N77', 'N78', 'O79', 'O80', 'O81', 'P82', 'Q83', 'R85', 'R86',\n",
       "       'R87', 'R88', 'S90'], dtype=object)"
      ]
     },
     "execution_count": 84,
     "metadata": {},
     "output_type": "execute_result"
    }
   ],
   "source": [
    "df_with_residuals['indcd'].unique()"
   ]
  },
  {
   "cell_type": "markdown",
   "id": "5b93f08e1b6e385d",
   "metadata": {},
   "source": [
    "# Construct Loan Level data"
   ]
  },
  {
   "cell_type": "code",
   "execution_count": 28,
   "id": "960e68fe66e5f79d",
   "metadata": {
    "ExecuteTime": {
     "end_time": "2024-10-29T06:39:17.201152Z",
     "start_time": "2024-10-29T06:39:15.248514Z"
    }
   },
   "outputs": [],
   "source": [
    "cbl_loan_df: DataFrame = pd.read_excel(os.path.join(const.CSMAR_PATH, '上市公司贷款', 'CBL_Loan.xlsx'), \n",
    "                                       usecols=['Stkcd', 'Time', 'Bank', 'Money', 'Term', 'Starttime', 'Endtime', 'Guarantee', 'Interest']).rename(\n",
    "    columns={'Time': 'SignDate', 'Bank': 'LoanBank', 'Money': 'LoanAmount', 'Term': 'LoanTerm', \n",
    "             'Starttime': 'LoanStartDate', 'Endtime': 'LoanEndDate', 'Guarantee': 'IsPledge', 'Interest': 'IntersetRate'})\n",
    "cbl_loan_df = cbl_loan_df.iloc[2:].dropna(subset=['IntersetRate'], how='any')"
   ]
  },
  {
   "cell_type": "code",
   "execution_count": 36,
   "id": "d1523dbb3831c3b8",
   "metadata": {
    "ExecuteTime": {
     "end_time": "2024-10-29T06:41:20.486246Z",
     "start_time": "2024-10-29T06:41:20.472508Z"
    }
   },
   "outputs": [],
   "source": [
    "import re\n",
    "\n",
    "# Function to extract the main bank name\n",
    "def extract_main_bank_name(bank_name):\n",
    "    # Match the main bank name before any branch identifiers like '支行', '分行', or '营业部'\n",
    "    match = re.match(r'^(.*?银行)', bank_name)\n",
    "    return match.group(1) if match else bank_name\n",
    "\n",
    "cbl_loan_df.loc[797, 'LoanStartDate'] = '2008-08-01'\n",
    "cbl_loan_df.loc[797, 'LoanEndDate'] = '2015-07-31'\n",
    "cbl_loan_df.loc[11726, 'LoanStartDate'] = '2006-08-01'\n",
    "cbl_loan_df.loc[11726, 'LoanEndDate'] = '2009-07-31'\n",
    "cbl_loan_df.loc[12839, 'LoanStartDate'] = '2005-06-01'\n",
    "cbl_loan_df.loc[12839, 'LoanEndDate'] = '2006-05-31'\n",
    "cbl_loan_df.loc[12840, 'LoanStartDate'] = '2005-03-01'\n",
    "cbl_loan_df.loc[12840, 'LoanEndDate'] = '2006-02-28'\n",
    "cbl_loan_df['IsPledge'] = cbl_loan_df['IsPledge'].notnull().astype(int)\n",
    "cbl_loan_df['LoanBank'] = cbl_loan_df['LoanBank'].apply(extract_main_bank_name)\n",
    "cbl_loan_df['LoanStartDate'] = pd.to_datetime(cbl_loan_df['LoanStartDate'])\n",
    "cbl_loan_df['LoanEndDate'] = pd.to_datetime(cbl_loan_df['LoanEndDate'])\n",
    "cbl_loan_df['LoanTerm'] = cbl_loan_df['LoanTerm'].fillna((cbl_loan_df['LoanEndDate'] - cbl_loan_df['LoanStartDate']).dt.days / 365)\n"
   ]
  },
  {
   "cell_type": "code",
   "execution_count": 38,
   "id": "844a6dd5b7eee65c",
   "metadata": {
    "ExecuteTime": {
     "end_time": "2024-10-29T06:42:12.690299Z",
     "start_time": "2024-10-29T06:42:12.684160Z"
    }
   },
   "outputs": [],
   "source": [
    "cbl_loan_df.to_pickle(os.path.join(const.TEMP_PATH, 'pre2013_cbl_loan_df.pkl'))"
   ]
  },
  {
   "cell_type": "code",
   "execution_count": 4,
   "id": "571bdefb8ec7fe9b",
   "metadata": {
    "ExecuteTime": {
     "end_time": "2024-10-31T07:29:44.972731Z",
     "start_time": "2024-10-31T07:29:38.515294Z"
    }
   },
   "outputs": [
    {
     "name": "stderr",
     "output_type": "stream",
     "text": [
      "C:\\Users\\wangy\\AppData\\Local\\Temp\\ipykernel_1112\\4103463007.py:3: DtypeWarning: Columns (17,18,19,20,24) have mixed types. Specify dtype option on import or set low_memory=False.\n",
      "  cbl_new_loan_df1: DataFrame = pd.read_csv(csv_file, on_bad_lines='skip',\n",
      "C:\\Users\\wangy\\AppData\\Local\\Temp\\ipykernel_1112\\4103463007.py:11: DtypeWarning: Columns (14,17,18,19,20,24,27,28,32,33,36) have mixed types. Specify dtype option on import or set low_memory=False.\n",
      "  cbl_new_loan_df2: DataFrame = pd.read_csv(csv_file, on_bad_lines='skip',\n"
     ]
    }
   ],
   "source": [
    "with zipfile.ZipFile(os.path.join(const.CSMAR_PATH, '上市公司贷款', '2013_2017上市公司向银行借款表(日).zip'), 'r') as zip_ref:\n",
    "    with zip_ref.open('CBL_LoanNew.csv') as csv_file:\n",
    "        cbl_new_loan_df1: DataFrame = pd.read_csv(csv_file, on_bad_lines='skip',\n",
    "                                           usecols=['Symbol', 'DeclareDate', 'LoanBank', 'SignDate', 'MaxLoan', 'LoanTerm', 'LoanStarDate', \n",
    "                                                    'LoanEndDate', 'BaseRate', 'IntersetRate', 'IsPledge']).rename(\n",
    "            columns={'Symbol': 'Stkcd'}).dropna(subset=['IntersetRate'], how='all')\n",
    "        \n",
    "with zipfile.ZipFile(os.path.join(const.CSMAR_PATH, '上市公司贷款', '2018_2019上市公司向银行借款表(日).zip'), 'r') as zip_ref:\n",
    "    with zip_ref.open('CBL_LoanNew.csv') as csv_file:\n",
    "        cbl_new_loan_df2: DataFrame = pd.read_csv(csv_file, on_bad_lines='skip',\n",
    "                                           usecols=['Symbol', 'DeclareDate', 'LoanBank', 'SignDate', 'MaxLoan', 'LoanTerm', 'LoanStarDate', \n",
    "                                                    'LoanEndDate', 'BaseRate', 'IntersetRate', 'IsPledge']).rename(\n",
    "            columns={'Symbol': 'Stkcd'}).dropna(subset=['IntersetRate'], how='all')\n",
    "\n",
    "cbl_new_loan_df: DataFrame = pd.concat([cbl_new_loan_df1, cbl_new_loan_df2], ignore_index=True)"
   ]
  },
  {
   "cell_type": "code",
   "execution_count": 5,
   "id": "3a304a6a0b4bc58f",
   "metadata": {
    "ExecuteTime": {
     "end_time": "2024-10-31T07:29:45.017564Z",
     "start_time": "2024-10-31T07:29:45.007543Z"
    }
   },
   "outputs": [
    {
     "data": {
      "text/html": [
       "<div>\n",
       "<style scoped>\n",
       "    .dataframe tbody tr th:only-of-type {\n",
       "        vertical-align: middle;\n",
       "    }\n",
       "\n",
       "    .dataframe tbody tr th {\n",
       "        vertical-align: top;\n",
       "    }\n",
       "\n",
       "    .dataframe thead th {\n",
       "        text-align: right;\n",
       "    }\n",
       "</style>\n",
       "<table border=\"1\" class=\"dataframe\">\n",
       "  <thead>\n",
       "    <tr style=\"text-align: right;\">\n",
       "      <th></th>\n",
       "      <th>Stkcd</th>\n",
       "      <th>DeclareDate</th>\n",
       "      <th>LoanBank</th>\n",
       "      <th>SignDate</th>\n",
       "      <th>MaxLoan</th>\n",
       "      <th>MinLoan</th>\n",
       "      <th>LatestLoanAmount</th>\n",
       "      <th>AccumLoanAmount</th>\n",
       "      <th>LoanTerm</th>\n",
       "      <th>LoanStarDate</th>\n",
       "      <th>LoanEndDate</th>\n",
       "      <th>BaseRate</th>\n",
       "      <th>IntersetRate</th>\n",
       "      <th>IsPledge</th>\n",
       "    </tr>\n",
       "  </thead>\n",
       "  <tbody>\n",
       "    <tr>\n",
       "      <th>0</th>\n",
       "      <td>000002</td>\n",
       "      <td>2014-04-22</td>\n",
       "      <td>华润深国投信托有限公司</td>\n",
       "      <td>NaN</td>\n",
       "      <td>75000.0</td>\n",
       "      <td>75000.0</td>\n",
       "      <td>NaN</td>\n",
       "      <td>NaN</td>\n",
       "      <td>2.0</td>\n",
       "      <td>NaN</td>\n",
       "      <td>NaN</td>\n",
       "      <td>6.15</td>\n",
       "      <td>7.482</td>\n",
       "      <td>0.0</td>\n",
       "    </tr>\n",
       "    <tr>\n",
       "      <th>1</th>\n",
       "      <td>000005</td>\n",
       "      <td>2016-09-06</td>\n",
       "      <td>上海浦东发展银行股份有限公司</td>\n",
       "      <td>2016-09-02</td>\n",
       "      <td>6000.0</td>\n",
       "      <td>6000.0</td>\n",
       "      <td>NaN</td>\n",
       "      <td>NaN</td>\n",
       "      <td>1.0</td>\n",
       "      <td>NaN</td>\n",
       "      <td>NaN</td>\n",
       "      <td>4.35</td>\n",
       "      <td>4.35</td>\n",
       "      <td>0.0</td>\n",
       "    </tr>\n",
       "    <tr>\n",
       "      <th>2</th>\n",
       "      <td>000005</td>\n",
       "      <td>2017-04-22</td>\n",
       "      <td>长安国际信托股份有限公司</td>\n",
       "      <td>2017-04-20</td>\n",
       "      <td>10000.0</td>\n",
       "      <td>10000.0</td>\n",
       "      <td>NaN</td>\n",
       "      <td>NaN</td>\n",
       "      <td>1.0</td>\n",
       "      <td>NaN</td>\n",
       "      <td>NaN</td>\n",
       "      <td>4.35</td>\n",
       "      <td>7.0</td>\n",
       "      <td>0.0</td>\n",
       "    </tr>\n",
       "    <tr>\n",
       "      <th>3</th>\n",
       "      <td>000030</td>\n",
       "      <td>2015-04-29</td>\n",
       "      <td>一汽财务有限公司</td>\n",
       "      <td>NaN</td>\n",
       "      <td>20000.0</td>\n",
       "      <td>0.0</td>\n",
       "      <td>NaN</td>\n",
       "      <td>NaN</td>\n",
       "      <td>1.0</td>\n",
       "      <td>NaN</td>\n",
       "      <td>NaN</td>\n",
       "      <td>5.35</td>\n",
       "      <td>3.5</td>\n",
       "      <td>0.0</td>\n",
       "    </tr>\n",
       "    <tr>\n",
       "      <th>4</th>\n",
       "      <td>000030</td>\n",
       "      <td>2016-04-21</td>\n",
       "      <td>一汽财务有限公司</td>\n",
       "      <td>NaN</td>\n",
       "      <td>12000.0</td>\n",
       "      <td>0.0</td>\n",
       "      <td>NaN</td>\n",
       "      <td>NaN</td>\n",
       "      <td>1.0</td>\n",
       "      <td>NaN</td>\n",
       "      <td>NaN</td>\n",
       "      <td>4.35</td>\n",
       "      <td>2.0</td>\n",
       "      <td>0.0</td>\n",
       "    </tr>\n",
       "  </tbody>\n",
       "</table>\n",
       "</div>"
      ],
      "text/plain": [
       "    Stkcd DeclareDate        LoanBank    SignDate  MaxLoan  MinLoan  \\\n",
       "0  000002  2014-04-22     华润深国投信托有限公司         NaN  75000.0  75000.0   \n",
       "1  000005  2016-09-06  上海浦东发展银行股份有限公司  2016-09-02   6000.0   6000.0   \n",
       "2  000005  2017-04-22    长安国际信托股份有限公司  2017-04-20  10000.0  10000.0   \n",
       "3  000030  2015-04-29        一汽财务有限公司         NaN  20000.0      0.0   \n",
       "4  000030  2016-04-21        一汽财务有限公司         NaN  12000.0      0.0   \n",
       "\n",
       "  LatestLoanAmount AccumLoanAmount LoanTerm LoanStarDate LoanEndDate BaseRate  \\\n",
       "0              NaN             NaN      2.0          NaN         NaN     6.15   \n",
       "1              NaN             NaN      1.0          NaN         NaN     4.35   \n",
       "2              NaN             NaN      1.0          NaN         NaN     4.35   \n",
       "3              NaN             NaN      1.0          NaN         NaN     5.35   \n",
       "4              NaN             NaN      1.0          NaN         NaN     4.35   \n",
       "\n",
       "  IntersetRate IsPledge  \n",
       "0        7.482      0.0  \n",
       "1         4.35      0.0  \n",
       "2          7.0      0.0  \n",
       "3          3.5      0.0  \n",
       "4          2.0      0.0  "
      ]
     },
     "execution_count": 5,
     "metadata": {},
     "output_type": "execute_result"
    }
   ],
   "source": [
    "cbl_new_loan_df.head()"
   ]
  },
  {
   "cell_type": "code",
   "execution_count": 22,
   "id": "cdc0ed69b24fc3c",
   "metadata": {
    "ExecuteTime": {
     "end_time": "2024-10-31T07:39:02.509896Z",
     "start_time": "2024-10-31T07:39:02.494370Z"
    }
   },
   "outputs": [],
   "source": [
    "cbl_loan_df2: DataFrame = cbl_new_loan_df.drop([1536, 1596, 1608])\n",
    "cbl_loan_df2['SignDate'] = pd.to_datetime(cbl_loan_df2['SignDate'].fillna(cbl_loan_df2['DeclareDate']), errors='coerce')\n",
    "cbl_loan_df2['LoanAmount'] = cbl_loan_df2['MaxLoan']\n",
    "cbl_loan_df2.dropna(subset=['SignDate'], how='any', inplace=True)\n",
    "cbl_loan_df2.dropna(subset=['LoanTerm', 'LoanStarDate', 'LoanEndDate'], how='all', inplace=True)\n",
    "cbl_loan_df2['LoanEndDate'] = pd.to_datetime(cbl_loan_df2['LoanEndDate'])\n",
    "cbl_loan_df2['LoanTerm'] = cbl_loan_df2['LoanTerm'].fillna((cbl_loan_df2['LoanEndDate'] - cbl_loan_df2['SignDate']).dt.days / 365)"
   ]
  },
  {
   "cell_type": "code",
   "execution_count": null,
   "id": "3d445e1fc6908cc5",
   "metadata": {},
   "outputs": [],
   "source": [
    "key_to_drop = ['MaxLoan', 'MinLoan', 'LatestLoanAmount', 'AccumLoanAmount']"
   ]
  },
  {
   "cell_type": "markdown",
   "id": "e0678e1ad04f580d",
   "metadata": {},
   "source": [
    "# Append rating data"
   ]
  },
  {
   "cell_type": "code",
   "execution_count": 96,
   "id": "9c6ceaaa6da8e271",
   "metadata": {
    "ExecuteTime": {
     "end_time": "2024-10-31T13:48:46.333824Z",
     "start_time": "2024-10-31T13:48:46.291623Z"
    }
   },
   "outputs": [],
   "source": [
    "with zipfile.ZipFile(os.path.join(const.CSMAR_PATH, '上市公司贷款', '上市公司信用评级情况表.zip'), 'r') as zip_ref:\n",
    "    with zip_ref.open('DEBT_BOND_RATING.csv') as csv_file:\n",
    "        rating_df: DataFrame = pd.read_csv(csv_file, on_bad_lines='skip').dropna(subset=['LongTermRating'])\n"
   ]
  },
  {
   "cell_type": "code",
   "execution_count": 97,
   "id": "83f781f3c751ff21",
   "metadata": {
    "ExecuteTime": {
     "end_time": "2024-10-31T13:48:48.351891Z",
     "start_time": "2024-10-31T13:48:48.340718Z"
    }
   },
   "outputs": [],
   "source": [
    "rating_df['RatingDate'] = pd.to_datetime(rating_df['RatingDate'])"
   ]
  },
  {
   "cell_type": "code",
   "execution_count": 98,
   "id": "6f6edc1b4e50a6bc",
   "metadata": {
    "ExecuteTime": {
     "end_time": "2024-10-31T13:48:58.457268Z",
     "start_time": "2024-10-31T13:48:58.447102Z"
    }
   },
   "outputs": [
    {
     "name": "stderr",
     "output_type": "stream",
     "text": [
      "C:\\Users\\wangy\\AppData\\Local\\Temp\\ipykernel_1112\\3308315196.py:2: FutureWarning: Downcasting behavior in `replace` is deprecated and will be removed in a future version. To retain the old behavior, explicitly call `result.infer_objects(copy=False)`. To opt-in to the future behavior, set `pd.set_option('future.no_silent_downcasting', True)`\n",
      "  rating_df['Prospect'] = rating_df['RatingProspect'].replace({'稳定': 0, '正面': 1, '负面': -1, '待决': np.nan})\n"
     ]
    }
   ],
   "source": [
    "rating_df[const.YEAR] = rating_df['RatingDate'].dt.year\n",
    "rating_df['Prospect'] = rating_df['RatingProspect'].replace({'稳定': 0, '正面': 1, '负面': -1, '待决': np.nan})"
   ]
  },
  {
   "cell_type": "code",
   "execution_count": 109,
   "id": "5f1ed46dc85a01a8",
   "metadata": {
    "ExecuteTime": {
     "end_time": "2024-10-31T13:59:05.729725Z",
     "start_time": "2024-10-31T13:59:05.721560Z"
    }
   },
   "outputs": [],
   "source": [
    "import datetime\n",
    "rating_df['Post'] = (rating_df['RatingDate'] > datetime.datetime(2014, 5, 19)).astype(int)"
   ]
  },
  {
   "cell_type": "code",
   "execution_count": 105,
   "id": "849e8cbabca200b2",
   "metadata": {
    "ExecuteTime": {
     "end_time": "2024-10-31T13:53:59.228328Z",
     "start_time": "2024-10-31T13:53:59.221944Z"
    }
   },
   "outputs": [],
   "source": [
    "rating_mapping = {\n",
    "    'AAA+': 21,\n",
    "    'AAA': 20,\n",
    "    'AAA-': 19,\n",
    "    'AA+': 18,\n",
    "    'AA': 17,\n",
    "    'AA-': 16,\n",
    "    'A+': 15,\n",
    "    'A': 14,\n",
    "    'A-1': 13,\n",
    "    'A-': 13,\n",
    "    'BBB+': 12,\n",
    "    'BBB': 11,\n",
    "    'BBB-': 10,\n",
    "    'BB+': 9,\n",
    "    'BB': 8,\n",
    "    'BB-': 7,\n",
    "    'B+': 6,\n",
    "    'B': 5,\n",
    "    'B-': 4,\n",
    "    'CCC': 3,\n",
    "    'CC': 2,\n",
    "    'C': 1\n",
    "}"
   ]
  },
  {
   "cell_type": "code",
   "execution_count": 110,
   "id": "96e500fb05b018e6",
   "metadata": {
    "ExecuteTime": {
     "end_time": "2024-10-31T13:59:09.404324Z",
     "start_time": "2024-10-31T13:59:09.385637Z"
    }
   },
   "outputs": [
    {
     "name": "stderr",
     "output_type": "stream",
     "text": [
      "C:\\Users\\wangy\\AppData\\Local\\Temp\\ipykernel_1112\\398763665.py:1: FutureWarning: Downcasting behavior in `replace` is deprecated and will be removed in a future version. To retain the old behavior, explicitly call `result.infer_objects(copy=False)`. To opt-in to the future behavior, set `pd.set_option('future.no_silent_downcasting', True)`\n",
      "  rating_df.loc[:, 'RatingScore'] = rating_df['LongTermRating'].replace(rating_mapping)\n"
     ]
    }
   ],
   "source": [
    "rating_df.loc[:, 'RatingScore'] = rating_df['LongTermRating'].replace(rating_mapping)"
   ]
  },
  {
   "cell_type": "code",
   "execution_count": 86,
   "id": "4144844c2a434747",
   "metadata": {
    "ExecuteTime": {
     "end_time": "2024-10-31T13:16:42.363118Z",
     "start_time": "2024-10-31T13:16:42.359913Z"
    }
   },
   "outputs": [],
   "source": [
    "useless_id = {10486199, 10904, 104724, 105457, 10123793, 10251032, 10486104, 10486199}"
   ]
  },
  {
   "cell_type": "code",
   "execution_count": 84,
   "id": "d8660f25a844f60d",
   "metadata": {
    "ExecuteTime": {
     "end_time": "2024-10-31T13:15:01.874944Z",
     "start_time": "2024-10-31T13:15:01.868150Z"
    }
   },
   "outputs": [
    {
     "data": {
      "text/plain": [
       "RatingInstitutionID\n",
       "10897       3639\n",
       "10898       1385\n",
       "10900       2711\n",
       "10903       1935\n",
       "10904         39\n",
       "10905       1748\n",
       "10906       1718\n",
       "104724         1\n",
       "105282      5344\n",
       "105457         1\n",
       "10102298     823\n",
       "10108920     127\n",
       "10123793       3\n",
       "10251032       2\n",
       "10486104       2\n",
       "10486199       7\n",
       "Name: Symbol, dtype: int64"
      ]
     },
     "execution_count": 84,
     "metadata": {},
     "output_type": "execute_result"
    }
   ],
   "source": [
    "valid_rating_df = rating_df.copy()\n",
    "valid_rating_df.groupby('RatingInstitutionID')['Symbol'].count()"
   ]
  },
  {
   "cell_type": "code",
   "execution_count": 71,
   "id": "11c08c6d011c4ca4",
   "metadata": {
    "ExecuteTime": {
     "end_time": "2024-10-31T13:02:13.113963Z",
     "start_time": "2024-10-31T13:02:13.106938Z"
    }
   },
   "outputs": [],
   "source": [
    "valid_rating_df['RatingScore'] = pd.to_numeric(valid_rating_df['RatingScore'], errors='coerce')"
   ]
  },
  {
   "cell_type": "code",
   "execution_count": 92,
   "id": "d83ef778b1dec221",
   "metadata": {
    "ExecuteTime": {
     "end_time": "2024-10-31T13:19:24.327858Z",
     "start_time": "2024-10-31T13:19:24.312199Z"
    }
   },
   "outputs": [],
   "source": [
    "mean_rating = valid_rating_df.loc[~valid_rating_df['RatingInstitutionID'].isin(useless_id)].groupby(\n",
    "    ['Symbol', 'year'])[['RatingScore', 'Prospect']].mean()\n",
    "rating_count = valid_rating_df.loc[~valid_rating_df['RatingInstitutionID'].isin(useless_id)].groupby(\n",
    "    ['Symbol', 'year'])[['RatingInstitutionID']].count()\n",
    "mean_rating = mean_rating.merge(rating_count, left_index=True, right_index=True)"
   ]
  },
  {
   "cell_type": "code",
   "execution_count": 93,
   "id": "2308983e52fed622",
   "metadata": {
    "ExecuteTime": {
     "end_time": "2024-10-31T13:19:26.404458Z",
     "start_time": "2024-10-31T13:19:26.391795Z"
    }
   },
   "outputs": [
    {
     "data": {
      "text/html": [
       "<div>\n",
       "<style scoped>\n",
       "    .dataframe tbody tr th:only-of-type {\n",
       "        vertical-align: middle;\n",
       "    }\n",
       "\n",
       "    .dataframe tbody tr th {\n",
       "        vertical-align: top;\n",
       "    }\n",
       "\n",
       "    .dataframe thead th {\n",
       "        text-align: right;\n",
       "    }\n",
       "</style>\n",
       "<table border=\"1\" class=\"dataframe\">\n",
       "  <thead>\n",
       "    <tr style=\"text-align: right;\">\n",
       "      <th></th>\n",
       "      <th>Symbol</th>\n",
       "      <th>year</th>\n",
       "      <th>RatingScore</th>\n",
       "      <th>Prospect</th>\n",
       "      <th>RatingInstitutionID</th>\n",
       "    </tr>\n",
       "  </thead>\n",
       "  <tbody>\n",
       "    <tr>\n",
       "      <th>0</th>\n",
       "      <td>1</td>\n",
       "      <td>2008</td>\n",
       "      <td>18.0</td>\n",
       "      <td>0.0</td>\n",
       "      <td>2.0</td>\n",
       "    </tr>\n",
       "    <tr>\n",
       "      <th>1</th>\n",
       "      <td>1</td>\n",
       "      <td>2009</td>\n",
       "      <td>19.0</td>\n",
       "      <td>0.0</td>\n",
       "      <td>2.0</td>\n",
       "    </tr>\n",
       "    <tr>\n",
       "      <th>2</th>\n",
       "      <td>1</td>\n",
       "      <td>2010</td>\n",
       "      <td>19.0</td>\n",
       "      <td>0.0</td>\n",
       "      <td>2.0</td>\n",
       "    </tr>\n",
       "    <tr>\n",
       "      <th>3</th>\n",
       "      <td>1</td>\n",
       "      <td>2011</td>\n",
       "      <td>19.0</td>\n",
       "      <td>0.0</td>\n",
       "      <td>4.0</td>\n",
       "    </tr>\n",
       "    <tr>\n",
       "      <th>4</th>\n",
       "      <td>1</td>\n",
       "      <td>2012</td>\n",
       "      <td>20.0</td>\n",
       "      <td>0.0</td>\n",
       "      <td>5.0</td>\n",
       "    </tr>\n",
       "    <tr>\n",
       "      <th>...</th>\n",
       "      <td>...</td>\n",
       "      <td>...</td>\n",
       "      <td>...</td>\n",
       "      <td>...</td>\n",
       "      <td>...</td>\n",
       "    </tr>\n",
       "    <tr>\n",
       "      <th>22485</th>\n",
       "      <td>900950</td>\n",
       "      <td>2016</td>\n",
       "      <td>17.5</td>\n",
       "      <td>0.0</td>\n",
       "      <td>2.0</td>\n",
       "    </tr>\n",
       "    <tr>\n",
       "      <th>22486</th>\n",
       "      <td>900950</td>\n",
       "      <td>2017</td>\n",
       "      <td>20.0</td>\n",
       "      <td>0.0</td>\n",
       "      <td>1.0</td>\n",
       "    </tr>\n",
       "    <tr>\n",
       "      <th>22487</th>\n",
       "      <td>900950</td>\n",
       "      <td>2018</td>\n",
       "      <td>20.0</td>\n",
       "      <td>0.0</td>\n",
       "      <td>1.0</td>\n",
       "    </tr>\n",
       "    <tr>\n",
       "      <th>22488</th>\n",
       "      <td>900950</td>\n",
       "      <td>2019</td>\n",
       "      <td>20.0</td>\n",
       "      <td>0.0</td>\n",
       "      <td>1.0</td>\n",
       "    </tr>\n",
       "    <tr>\n",
       "      <th>22489</th>\n",
       "      <td>900950</td>\n",
       "      <td>2020</td>\n",
       "      <td>20.0</td>\n",
       "      <td>0.0</td>\n",
       "      <td>1.0</td>\n",
       "    </tr>\n",
       "  </tbody>\n",
       "</table>\n",
       "<p>22490 rows × 5 columns</p>\n",
       "</div>"
      ],
      "text/plain": [
       "       Symbol  year  RatingScore  Prospect  RatingInstitutionID\n",
       "0           1  2008         18.0       0.0                  2.0\n",
       "1           1  2009         19.0       0.0                  2.0\n",
       "2           1  2010         19.0       0.0                  2.0\n",
       "3           1  2011         19.0       0.0                  4.0\n",
       "4           1  2012         20.0       0.0                  5.0\n",
       "...       ...   ...          ...       ...                  ...\n",
       "22485  900950  2016         17.5       0.0                  2.0\n",
       "22486  900950  2017         20.0       0.0                  1.0\n",
       "22487  900950  2018         20.0       0.0                  1.0\n",
       "22488  900950  2019         20.0       0.0                  1.0\n",
       "22489  900950  2020         20.0       0.0                  1.0\n",
       "\n",
       "[22490 rows x 5 columns]"
      ]
     },
     "execution_count": 93,
     "metadata": {},
     "output_type": "execute_result"
    }
   ],
   "source": [
    "\n",
    "all_years = pd.MultiIndex.from_product([mean_rating.index.levels[0], range(2008, 2021)], names=['Symbol', 'year'])\n",
    "mean_rating = mean_rating.reindex(all_years)\n",
    "mean_rating.ffill(inplace=True)\n",
    "mean_rating.reset_index(inplace=True)\n",
    "mean_rating\n"
   ]
  },
  {
   "cell_type": "code",
   "execution_count": 94,
   "id": "b2d53a1387c451f0",
   "metadata": {
    "ExecuteTime": {
     "end_time": "2024-10-31T13:19:31.294657Z",
     "start_time": "2024-10-31T13:19:31.286247Z"
    }
   },
   "outputs": [],
   "source": [
    "mean_rating['rating_diff'] = mean_rating.groupby('Symbol')['RatingScore'].diff()\n",
    "mean_rating['is_raise'] = (mean_rating['rating_diff'] > 0).astype(int)\n",
    "mean_rating['is_decrease'] = (mean_rating['rating_diff'] < 0).astype(int)\n"
   ]
  },
  {
   "cell_type": "code",
   "execution_count": 82,
   "id": "30e65cfdf7016bb5",
   "metadata": {
    "ExecuteTime": {
     "end_time": "2024-10-31T13:12:07.889918Z",
     "start_time": "2024-10-31T13:12:07.886503Z"
    }
   },
   "outputs": [],
   "source": [
    "mean_rating[const.YEAR] += 2"
   ]
  },
  {
   "cell_type": "code",
   "execution_count": 95,
   "id": "96d092d34154c29c",
   "metadata": {
    "ExecuteTime": {
     "end_time": "2024-10-31T13:19:34.119610Z",
     "start_time": "2024-10-31T13:19:33.100175Z"
    }
   },
   "outputs": [],
   "source": [
    "reg_df: DataFrame = pd.read_stata(os.path.join(const.OUTPUT_PATH, '20241027_cc_reg_data.dta'))\n",
    "mean_rating.rename(columns={'Symbol': const.TICKER}, inplace=True)\n",
    "reg_df2 = reg_df.merge(mean_rating, on=[const.TICKER, const.YEAR], how='left')\n",
    "mean_rating[const.YEAR] -= 1\n",
    "\n",
    "reg_df2 = reg_df2.merge(mean_rating, on=[const.TICKER, const.YEAR], how='left', suffixes=('', '_1'))\n",
    "reg_df2.to_stata(os.path.join(const.OUTPUT_PATH, '20241031_cc_reg_data.dta'), write_index=False, version=119)"
   ]
  },
  {
   "cell_type": "code",
   "execution_count": 2,
   "id": "6cbbee99c2886280",
   "metadata": {
    "ExecuteTime": {
     "end_time": "2024-11-01T02:25:57.608188Z",
     "start_time": "2024-11-01T02:25:57.313145Z"
    }
   },
   "outputs": [
    {
     "ename": "NameError",
     "evalue": "name 'rating_df' is not defined",
     "output_type": "error",
     "traceback": [
      "\u001b[0;31m---------------------------------------------------------------------------\u001b[0m",
      "\u001b[0;31mNameError\u001b[0m                                 Traceback (most recent call last)",
      "Cell \u001b[0;32mIn[2], line 1\u001b[0m\n\u001b[0;32m----> 1\u001b[0m rating_df[const\u001b[38;5;241m.\u001b[39mYEAR] \u001b[38;5;241m=\u001b[39m rating_df[\u001b[38;5;124m'\u001b[39m\u001b[38;5;124mRatingDate\u001b[39m\u001b[38;5;124m'\u001b[39m]\u001b[38;5;241m.\u001b[39mdt\u001b[38;5;241m.\u001b[39myear\n\u001b[1;32m      2\u001b[0m rating_df[\u001b[38;5;124m'\u001b[39m\u001b[38;5;124mRatingScore\u001b[39m\u001b[38;5;124m'\u001b[39m] \u001b[38;5;241m=\u001b[39m rating_df[\u001b[38;5;124m'\u001b[39m\u001b[38;5;124mRatingScore\u001b[39m\u001b[38;5;124m'\u001b[39m]\u001b[38;5;241m.\u001b[39mastype(\u001b[38;5;28mfloat\u001b[39m)\n\u001b[1;32m      3\u001b[0m tmp_reg_df \u001b[38;5;241m=\u001b[39m reg_df\u001b[38;5;241m.\u001b[39mcopy()\n",
      "\u001b[0;31mNameError\u001b[0m: name 'rating_df' is not defined"
     ]
    }
   ],
   "source": [
    "rating_df[const.YEAR] = rating_df['RatingDate'].dt.year\n",
    "rating_df['RatingScore'] = rating_df['RatingScore'].astype(float)\n",
    "tmp_reg_df = reg_df.copy()\n",
    "tmp_reg_df[const.YEAR] -= 1\n",
    "rating_reg_df = rating_df.rename(columns={'Symbol': const.TICKER}).merge(tmp_reg_df, on=[const.TICKER, const.YEAR], how='inner')\n",
    "rating_reg_df.to_stata(os.path.join(const.OUTPUT_PATH, '20241031_cc_rating_reg_data.dta'), write_index=False, version=119)"
   ]
  },
  {
   "cell_type": "code",
   "execution_count": null,
   "id": "a43ea724a85b79e1",
   "metadata": {},
   "outputs": [],
   "source": []
  }
 ],
 "metadata": {
  "kernelspec": {
   "display_name": "Python 3 (ipykernel)",
   "language": "python",
   "name": "python3"
  },
  "language_info": {
   "codemirror_mode": {
    "name": "ipython",
    "version": 3
   },
   "file_extension": ".py",
   "mimetype": "text/x-python",
   "name": "python",
   "nbconvert_exporter": "python",
   "pygments_lexer": "ipython3",
   "version": "3.12.7"
  }
 },
 "nbformat": 4,
 "nbformat_minor": 5
}
