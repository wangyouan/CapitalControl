{
 "cells": [
  {
   "cell_type": "code",
   "id": "initial_id",
   "metadata": {
    "ExecuteTime": {
     "end_time": "2024-11-03T07:35:05.595432Z",
     "start_time": "2024-11-03T07:35:03.865526Z"
    }
   },
   "source": [
    "import os\n",
    "import zipfile\n",
    "\n",
    "import numpy as np\n",
    "import pandas as pd\n",
    "\n",
    "from pandas import DataFrame\n",
    "from scipy.stats.mstats import winsorize\n",
    "\n",
    "from Constant import Constants as const\n",
    "from OrganizeData.step02_merge_all_financial_data import sort_csmar_data"
   ],
   "outputs": [],
   "execution_count": 1
  },
  {
   "cell_type": "markdown",
   "id": "5e5125cd0ac60d28",
   "metadata": {},
   "source": [
    "# Sort Finance Cost Data"
   ]
  },
  {
   "cell_type": "code",
   "id": "a164120a60b9482c",
   "metadata": {
    "ExecuteTime": {
     "end_time": "2024-11-03T11:15:46.590019Z",
     "start_time": "2024-11-03T11:15:44.259761Z"
    }
   },
   "source": [
    "with zipfile.ZipFile(os.path.join(const.CSMAR_PATH, '1990_2023_Income Statement.zip'), 'r') as zip_ref:\n",
    "    with zip_ref.open('FS_Comins.csv') as csv_file:\n",
    "        finidx_df: DataFrame = pd.read_csv(csv_file, on_bad_lines='skip',\n",
    "                                           usecols=['Stkcd', 'Accper', 'B001211000', 'B001211101',\n",
    "                                                    'Bbd1102203']).rename(\n",
    "            columns={'B001211000': 'FinaExpense', 'B001211101': 'InterestExpense',\n",
    "                     'Bbd1102203': 'InterestExpenses'}).dropna(\n",
    "            subset=['FinaExpense', 'InterestExpense', 'InterestExpenses'], how='all')\n",
    "        finidx_df: DataFrame = sort_csmar_data(finidx_df)"
   ],
   "outputs": [],
   "execution_count": 25
  },
  {
   "cell_type": "code",
   "id": "9244e425f4564d2b",
   "metadata": {
    "ExecuteTime": {
     "end_time": "2024-11-03T11:15:52.144446Z",
     "start_time": "2024-11-03T11:15:48.927258Z"
    }
   },
   "source": [
    "with zipfile.ZipFile(os.path.join(const.CSMAR_PATH, '1990_2023_Balance Sheet.zip'), 'r') as zip_ref:\n",
    "    with zip_ref.open('FS_Combas.csv') as csv_file:\n",
    "        fscombas_df: DataFrame = pd.read_csv(csv_file, on_bad_lines='skip',\n",
    "                                             usecols=['Stkcd', 'Accper', 'A001000000', 'A002000000']).rename(\n",
    "            columns={'A001000000': 'at', 'A002000000': 'lt'})\n",
    "        fscombas_df: DataFrame = sort_csmar_data(fscombas_df)"
   ],
   "outputs": [],
   "execution_count": 27
  },
  {
   "cell_type": "code",
   "id": "b67538c5bb0094de",
   "metadata": {
    "ExecuteTime": {
     "end_time": "2024-11-03T11:15:52.182297Z",
     "start_time": "2024-11-03T11:15:52.152996Z"
    }
   },
   "source": [
    "fc_df: DataFrame = finidx_df.merge(fscombas_df, on=[const.TICKER, const.YEAR], how='left')\n",
    "fc_df.sort_values(by=[const.TICKER, const.YEAR], ascending=True, inplace=True)\n",
    "fc_df.loc[:, 'lag_at'] = fc_df.groupby(const.TICKER)['at'].shift(1)\n",
    "fc_df.loc[:, 'lag_lt'] = fc_df.groupby(const.TICKER)['lt'].shift(1)\n",
    "\n",
    "fc_df['fe_at'] = fc_df['FinaExpense'] / fc_df['at']\n",
    "fc_df['fe_lt'] = fc_df['FinaExpense'] / fc_df['lt']\n",
    "fc_df['fe_lat'] = fc_df['FinaExpense'] / fc_df['lag_at']\n",
    "fc_df['fe_llt'] = fc_df['FinaExpense'] / fc_df['lag_lt']\n",
    "\n",
    "fc_df['ie_at'] = fc_df['InterestExpense'] / fc_df['at']\n",
    "fc_df['ie_lt'] = fc_df['InterestExpense'] / fc_df['lt']\n",
    "fc_df['ie_lat'] = fc_df['InterestExpense'] / fc_df['lag_at']\n",
    "fc_df['ie_llt'] = fc_df['InterestExpense'] / fc_df['lag_lt']\n",
    "\n",
    "fc_df['ies_at'] = fc_df['InterestExpenses'] / fc_df['at']\n",
    "fc_df['ies_lt'] = fc_df['InterestExpenses'] / fc_df['lt']\n",
    "fc_df['ies_lat'] = fc_df['InterestExpenses'] / fc_df['lag_at']\n",
    "fc_df['ies_llt'] = fc_df['InterestExpenses'] / fc_df['lag_lt']"
   ],
   "outputs": [],
   "execution_count": 28
  },
  {
   "cell_type": "code",
   "execution_count": 30,
   "id": "7207a3eb7839072a",
   "metadata": {
    "ExecuteTime": {
     "end_time": "2024-10-26T11:35:16.263650Z",
     "start_time": "2024-10-26T11:35:16.134662Z"
    }
   },
   "outputs": [
    {
     "data": {
      "text/html": [
       "<div>\n",
       "<style scoped>\n",
       "    .dataframe tbody tr th:only-of-type {\n",
       "        vertical-align: middle;\n",
       "    }\n",
       "\n",
       "    .dataframe tbody tr th {\n",
       "        vertical-align: top;\n",
       "    }\n",
       "\n",
       "    .dataframe thead th {\n",
       "        text-align: right;\n",
       "    }\n",
       "</style>\n",
       "<table border=\"1\" class=\"dataframe\">\n",
       "  <thead>\n",
       "    <tr style=\"text-align: right;\">\n",
       "      <th></th>\n",
       "      <th>tic</th>\n",
       "      <th>InterestExpenses</th>\n",
       "      <th>FinaExpense</th>\n",
       "      <th>InterestExpense</th>\n",
       "      <th>year</th>\n",
       "      <th>at</th>\n",
       "      <th>lt</th>\n",
       "      <th>lag_at</th>\n",
       "      <th>lag_lt</th>\n",
       "      <th>fe_at</th>\n",
       "      <th>...</th>\n",
       "      <th>fe_lat</th>\n",
       "      <th>fe_llt</th>\n",
       "      <th>ie_at</th>\n",
       "      <th>ie_lt</th>\n",
       "      <th>ie_lat</th>\n",
       "      <th>ie_llt</th>\n",
       "      <th>ies_at</th>\n",
       "      <th>ies_lt</th>\n",
       "      <th>ies_lat</th>\n",
       "      <th>ies_llt</th>\n",
       "    </tr>\n",
       "  </thead>\n",
       "  <tbody>\n",
       "    <tr>\n",
       "      <th>count</th>\n",
       "      <td>70379.000000</td>\n",
       "      <td>1.502800e+04</td>\n",
       "      <td>6.963400e+04</td>\n",
       "      <td>2.515700e+04</td>\n",
       "      <td>70379.000000</td>\n",
       "      <td>7.022100e+04</td>\n",
       "      <td>7.021600e+04</td>\n",
       "      <td>6.455100e+04</td>\n",
       "      <td>6.454600e+04</td>\n",
       "      <td>69474.000000</td>\n",
       "      <td>...</td>\n",
       "      <td>63884.000000</td>\n",
       "      <td>63876.000000</td>\n",
       "      <td>25156.000000</td>\n",
       "      <td>25157.000000</td>\n",
       "      <td>23632.000000</td>\n",
       "      <td>23631.000000</td>\n",
       "      <td>15028.000000</td>\n",
       "      <td>15022.000000</td>\n",
       "      <td>14141.000000</td>\n",
       "      <td>14136.000000</td>\n",
       "    </tr>\n",
       "    <tr>\n",
       "      <th>mean</th>\n",
       "      <td>339479.682377</td>\n",
       "      <td>2.598846e+09</td>\n",
       "      <td>8.321386e+07</td>\n",
       "      <td>1.466576e+08</td>\n",
       "      <td>2013.669461</td>\n",
       "      <td>3.990082e+10</td>\n",
       "      <td>3.324762e+10</td>\n",
       "      <td>3.770796e+10</td>\n",
       "      <td>3.145459e+10</td>\n",
       "      <td>0.032418</td>\n",
       "      <td>...</td>\n",
       "      <td>0.013242</td>\n",
       "      <td>0.347566</td>\n",
       "      <td>0.010208</td>\n",
       "      <td>0.348100</td>\n",
       "      <td>0.011657</td>\n",
       "      <td>0.454932</td>\n",
       "      <td>0.001353</td>\n",
       "      <td>0.560346</td>\n",
       "      <td>0.002210</td>\n",
       "      <td>0.136404</td>\n",
       "    </tr>\n",
       "    <tr>\n",
       "      <th>std</th>\n",
       "      <td>292799.994027</td>\n",
       "      <td>2.377611e+10</td>\n",
       "      <td>5.146331e+08</td>\n",
       "      <td>6.943180e+08</td>\n",
       "      <td>7.627352</td>\n",
       "      <td>7.052894e+11</td>\n",
       "      <td>6.488194e+11</td>\n",
       "      <td>6.652362e+11</td>\n",
       "      <td>6.119789e+11</td>\n",
       "      <td>5.191898</td>\n",
       "      <td>...</td>\n",
       "      <td>0.189967</td>\n",
       "      <td>31.158398</td>\n",
       "      <td>0.024119</td>\n",
       "      <td>16.262805</td>\n",
       "      <td>0.024459</td>\n",
       "      <td>20.735176</td>\n",
       "      <td>0.010305</td>\n",
       "      <td>51.070826</td>\n",
       "      <td>0.057734</td>\n",
       "      <td>10.428371</td>\n",
       "    </tr>\n",
       "    <tr>\n",
       "      <th>min</th>\n",
       "      <td>1.000000</td>\n",
       "      <td>-3.280945e+04</td>\n",
       "      <td>-8.605000e+09</td>\n",
       "      <td>-5.812000e+09</td>\n",
       "      <td>1991.000000</td>\n",
       "      <td>0.000000e+00</td>\n",
       "      <td>-2.033024e+06</td>\n",
       "      <td>0.000000e+00</td>\n",
       "      <td>-2.033024e+06</td>\n",
       "      <td>-0.181792</td>\n",
       "      <td>...</td>\n",
       "      <td>-0.383092</td>\n",
       "      <td>-1526.823132</td>\n",
       "      <td>-0.058643</td>\n",
       "      <td>-1.027385</td>\n",
       "      <td>-0.047658</td>\n",
       "      <td>-1.033818</td>\n",
       "      <td>-0.000062</td>\n",
       "      <td>-0.000221</td>\n",
       "      <td>-0.000058</td>\n",
       "      <td>-0.000174</td>\n",
       "    </tr>\n",
       "    <tr>\n",
       "      <th>25%</th>\n",
       "      <td>2230.000000</td>\n",
       "      <td>0.000000e+00</td>\n",
       "      <td>-8.451223e+05</td>\n",
       "      <td>2.697814e+06</td>\n",
       "      <td>2009.000000</td>\n",
       "      <td>1.009060e+09</td>\n",
       "      <td>2.429361e+08</td>\n",
       "      <td>9.678193e+08</td>\n",
       "      <td>2.330868e+08</td>\n",
       "      <td>-0.000650</td>\n",
       "      <td>...</td>\n",
       "      <td>-0.000595</td>\n",
       "      <td>-0.002568</td>\n",
       "      <td>0.001282</td>\n",
       "      <td>0.005457</td>\n",
       "      <td>0.001634</td>\n",
       "      <td>0.007273</td>\n",
       "      <td>0.000000</td>\n",
       "      <td>0.000000</td>\n",
       "      <td>0.000000</td>\n",
       "      <td>0.000000</td>\n",
       "    </tr>\n",
       "    <tr>\n",
       "      <th>50%</th>\n",
       "      <td>300651.000000</td>\n",
       "      <td>0.000000e+00</td>\n",
       "      <td>8.716583e+06</td>\n",
       "      <td>1.631878e+07</td>\n",
       "      <td>2016.000000</td>\n",
       "      <td>2.155166e+09</td>\n",
       "      <td>6.688244e+08</td>\n",
       "      <td>2.055436e+09</td>\n",
       "      <td>6.331645e+08</td>\n",
       "      <td>0.005445</td>\n",
       "      <td>...</td>\n",
       "      <td>0.006656</td>\n",
       "      <td>0.018614</td>\n",
       "      <td>0.005213</td>\n",
       "      <td>0.015677</td>\n",
       "      <td>0.006483</td>\n",
       "      <td>0.020578</td>\n",
       "      <td>0.000000</td>\n",
       "      <td>0.000000</td>\n",
       "      <td>0.000000</td>\n",
       "      <td>0.000000</td>\n",
       "    </tr>\n",
       "    <tr>\n",
       "      <th>75%</th>\n",
       "      <td>600713.000000</td>\n",
       "      <td>0.000000e+00</td>\n",
       "      <td>4.065497e+07</td>\n",
       "      <td>6.965684e+07</td>\n",
       "      <td>2020.000000</td>\n",
       "      <td>5.102345e+09</td>\n",
       "      <td>1.975373e+09</td>\n",
       "      <td>4.800939e+09</td>\n",
       "      <td>1.823902e+09</td>\n",
       "      <td>0.015247</td>\n",
       "      <td>...</td>\n",
       "      <td>0.017624</td>\n",
       "      <td>0.040931</td>\n",
       "      <td>0.012689</td>\n",
       "      <td>0.032190</td>\n",
       "      <td>0.014865</td>\n",
       "      <td>0.039401</td>\n",
       "      <td>0.000000</td>\n",
       "      <td>0.000000</td>\n",
       "      <td>0.000000</td>\n",
       "      <td>0.000000</td>\n",
       "    </tr>\n",
       "    <tr>\n",
       "      <th>max</th>\n",
       "      <td>900957.000000</td>\n",
       "      <td>5.548190e+11</td>\n",
       "      <td>2.781600e+10</td>\n",
       "      <td>3.040900e+10</td>\n",
       "      <td>2023.000000</td>\n",
       "      <td>4.243795e+13</td>\n",
       "      <td>3.895225e+13</td>\n",
       "      <td>3.773929e+13</td>\n",
       "      <td>3.439366e+13</td>\n",
       "      <td>1364.361569</td>\n",
       "      <td>...</td>\n",
       "      <td>29.131217</td>\n",
       "      <td>5345.976906</td>\n",
       "      <td>1.570772</td>\n",
       "      <td>1568.057792</td>\n",
       "      <td>1.032464</td>\n",
       "      <td>1883.610966</td>\n",
       "      <td>0.353779</td>\n",
       "      <td>6022.492599</td>\n",
       "      <td>5.261082</td>\n",
       "      <td>1097.915367</td>\n",
       "    </tr>\n",
       "  </tbody>\n",
       "</table>\n",
       "<p>8 rows × 21 columns</p>\n",
       "</div>"
      ],
      "text/plain": [
       "                 tic  InterestExpenses   FinaExpense  InterestExpense  \\\n",
       "count   70379.000000      1.502800e+04  6.963400e+04     2.515700e+04   \n",
       "mean   339479.682377      2.598846e+09  8.321386e+07     1.466576e+08   \n",
       "std    292799.994027      2.377611e+10  5.146331e+08     6.943180e+08   \n",
       "min         1.000000     -3.280945e+04 -8.605000e+09    -5.812000e+09   \n",
       "25%      2230.000000      0.000000e+00 -8.451223e+05     2.697814e+06   \n",
       "50%    300651.000000      0.000000e+00  8.716583e+06     1.631878e+07   \n",
       "75%    600713.000000      0.000000e+00  4.065497e+07     6.965684e+07   \n",
       "max    900957.000000      5.548190e+11  2.781600e+10     3.040900e+10   \n",
       "\n",
       "               year            at            lt        lag_at        lag_lt  \\\n",
       "count  70379.000000  7.022100e+04  7.021600e+04  6.455100e+04  6.454600e+04   \n",
       "mean    2013.669461  3.990082e+10  3.324762e+10  3.770796e+10  3.145459e+10   \n",
       "std        7.627352  7.052894e+11  6.488194e+11  6.652362e+11  6.119789e+11   \n",
       "min     1991.000000  0.000000e+00 -2.033024e+06  0.000000e+00 -2.033024e+06   \n",
       "25%     2009.000000  1.009060e+09  2.429361e+08  9.678193e+08  2.330868e+08   \n",
       "50%     2016.000000  2.155166e+09  6.688244e+08  2.055436e+09  6.331645e+08   \n",
       "75%     2020.000000  5.102345e+09  1.975373e+09  4.800939e+09  1.823902e+09   \n",
       "max     2023.000000  4.243795e+13  3.895225e+13  3.773929e+13  3.439366e+13   \n",
       "\n",
       "              fe_at  ...        fe_lat        fe_llt         ie_at  \\\n",
       "count  69474.000000  ...  63884.000000  63876.000000  25156.000000   \n",
       "mean       0.032418  ...      0.013242      0.347566      0.010208   \n",
       "std        5.191898  ...      0.189967     31.158398      0.024119   \n",
       "min       -0.181792  ...     -0.383092  -1526.823132     -0.058643   \n",
       "25%       -0.000650  ...     -0.000595     -0.002568      0.001282   \n",
       "50%        0.005445  ...      0.006656      0.018614      0.005213   \n",
       "75%        0.015247  ...      0.017624      0.040931      0.012689   \n",
       "max     1364.361569  ...     29.131217   5345.976906      1.570772   \n",
       "\n",
       "              ie_lt        ie_lat        ie_llt        ies_at        ies_lt  \\\n",
       "count  25157.000000  23632.000000  23631.000000  15028.000000  15022.000000   \n",
       "mean       0.348100      0.011657      0.454932      0.001353      0.560346   \n",
       "std       16.262805      0.024459     20.735176      0.010305     51.070826   \n",
       "min       -1.027385     -0.047658     -1.033818     -0.000062     -0.000221   \n",
       "25%        0.005457      0.001634      0.007273      0.000000      0.000000   \n",
       "50%        0.015677      0.006483      0.020578      0.000000      0.000000   \n",
       "75%        0.032190      0.014865      0.039401      0.000000      0.000000   \n",
       "max     1568.057792      1.032464   1883.610966      0.353779   6022.492599   \n",
       "\n",
       "            ies_lat       ies_llt  \n",
       "count  14141.000000  14136.000000  \n",
       "mean       0.002210      0.136404  \n",
       "std        0.057734     10.428371  \n",
       "min       -0.000058     -0.000174  \n",
       "25%        0.000000      0.000000  \n",
       "50%        0.000000      0.000000  \n",
       "75%        0.000000      0.000000  \n",
       "max        5.261082   1097.915367  \n",
       "\n",
       "[8 rows x 21 columns]"
      ]
     },
     "execution_count": 30,
     "metadata": {},
     "output_type": "execute_result"
    }
   ],
   "source": [
    "fc_df.replace([np.inf, -np.inf], np.nan, inplace=True)\n",
    "fc_df.describe()"
   ]
  },
  {
   "cell_type": "code",
   "id": "9f0acdb4854ee206",
   "metadata": {
    "ExecuteTime": {
     "end_time": "2024-11-03T11:16:00.594023Z",
     "start_time": "2024-11-03T11:15:59.913527Z"
    }
   },
   "source": [
    "reg_df: DataFrame = pd.read_stata(os.path.join(const.OUTPUT_PATH, '20241020_cc_reg_data_v2.dta'))\n",
    "fc_useful_df: DataFrame = fc_df.loc[:,\n",
    "                          [const.TICKER, const.YEAR, 'fe_at', 'fe_lat', 'fe_llt', 'fe_lt', 'ie_at', 'ie_lat', 'ie_lt',\n",
    "                           'ie_llt', 'ies_at', 'ies_lt', 'ies_lat', 'ies_llt']].copy()\n",
    "reg_df2: DataFrame = reg_df.merge(fc_useful_df, on=[const.TICKER, const.YEAR], how='left')\n",
    "\n",
    "fc_useful_df[const.YEAR] -= 1\n",
    "reg_df2: DataFrame = reg_df2.merge(fc_useful_df, on=[const.TICKER, const.YEAR], how='left', suffixes=('', '_1'))"
   ],
   "outputs": [],
   "execution_count": 29
  },
  {
   "cell_type": "code",
   "id": "4418d93636bb54e",
   "metadata": {
    "ExecuteTime": {
     "end_time": "2024-11-03T11:16:14.026913Z",
     "start_time": "2024-11-03T11:16:13.979265Z"
    }
   },
   "source": [
    "for key in ['fe_at', 'fe_lat', 'fe_llt', 'fe_lt', 'ie_at', 'ie_lat', 'ie_llt', 'ie_llt', 'ies_at', 'ies_lt', 'ies_lat',\n",
    "            'ies_llt']:\n",
    "    reg_df2.loc[reg_df2[key].notnull(), key] = winsorize(reg_df2[key].dropna(), limits=(0.005, 0.005))\n",
    "    # fc_useful_df.loc[fc_useful_df[key].notnull(), key] = winsorize(fc_useful_df[key].dropna(), limits=(0.005, 0.005))\n",
    "    reg_df2.loc[reg_df2[f'{key}_1'].notnull(), f'{key}_1'] = winsorize(reg_df2[f'{key}_1'].dropna(),\n",
    "                                                                       limits=(0.005, 0.005))"
   ],
   "outputs": [],
   "execution_count": 31
  },
  {
   "cell_type": "code",
   "id": "a236844b71a64811",
   "metadata": {
    "ExecuteTime": {
     "end_time": "2024-11-03T11:16:23.050239Z",
     "start_time": "2024-11-03T11:16:22.104844Z"
    }
   },
   "source": [
    "reg_df2.to_stata(\n",
    "    os.path.join(const.OUTPUT_PATH, '20241026_cc_reg_data.dta'), write_index=False, version=119\n",
    ")"
   ],
   "outputs": [],
   "execution_count": 32
  },
  {
   "cell_type": "markdown",
   "id": "ee24cafbcbe840a8",
   "metadata": {},
   "source": [
    "# Construct Bond level data"
   ]
  },
  {
   "cell_type": "code",
   "execution_count": 3,
   "id": "bdc3ffd2fc6d8f26",
   "metadata": {
    "ExecuteTime": {
     "end_time": "2024-10-27T02:07:38.862290Z",
     "start_time": "2024-10-27T02:07:38.207478Z"
    }
   },
   "outputs": [
    {
     "name": "stderr",
     "output_type": "stream",
     "text": [
      "C:\\Users\\wangy\\AppData\\Local\\Temp\\ipykernel_20360\\4132258909.py:3: DtypeWarning: Columns (0,15,19,20) have mixed types. Specify dtype option on import or set low_memory=False.\n",
      "  bnd_info_df: DataFrame = pd.read_csv(csv_file, on_bad_lines='skip').dropna(subset=['IssSymbol'])\n"
     ]
    }
   ],
   "source": [
    "with zipfile.ZipFile(os.path.join(const.CSMAR_PATH, '债券基本情况表.zip'), 'r') as zip_ref:\n",
    "    with zip_ref.open('BND_Bndinfo.csv') as csv_file:\n",
    "        bnd_info_df: DataFrame = pd.read_csv(csv_file, on_bad_lines='skip').dropna(subset=['IssSymbol'])"
   ]
  },
  {
   "cell_type": "code",
   "execution_count": 12,
   "id": "51aeaa106e772c58",
   "metadata": {
    "ExecuteTime": {
     "end_time": "2024-10-27T02:59:59.491010Z",
     "start_time": "2024-10-27T02:59:59.392266Z"
    }
   },
   "outputs": [],
   "source": [
    "df_gov = pd.read_excel(os.path.join(const.DATABASE_PATH, 'resset', '1981_2024_国债数据.xls'))"
   ]
  },
  {
   "cell_type": "code",
   "execution_count": 29,
   "id": "98f1ba2fd79a817",
   "metadata": {
    "ExecuteTime": {
     "end_time": "2024-10-27T03:10:22.184118Z",
     "start_time": "2024-10-27T03:10:22.169076Z"
    }
   },
   "outputs": [],
   "source": [
    "# Convert dates to datetime format\n",
    "bnd_info_df['Listdt'] = pd.to_datetime(bnd_info_df['Listdt'])\n",
    "df_gov['首次信息发布时间_IInfoPubDt'] = pd.to_datetime(df_gov['首次信息发布时间_IInfoPubDt'])\n",
    "\n",
    "df_gov2: DataFrame = df_gov[df_gov['初始票面年利率(%)_CoupRt'] > 0].copy()"
   ]
  },
  {
   "cell_type": "code",
   "execution_count": 17,
   "id": "f9d9e1117dbf4b2c",
   "metadata": {
    "ExecuteTime": {
     "end_time": "2024-10-27T03:01:14.338006Z",
     "start_time": "2024-10-27T03:01:14.333174Z"
    }
   },
   "outputs": [],
   "source": [
    "from datetime import timedelta\n",
    "\n",
    "\n",
    "# Function to match the government bond to corporate bond based on similar issuance time and period\n",
    "def match_bonds(corp_row, gov_bonds):\n",
    "    # Filter government bonds within one year of the corporate bond issuance date\n",
    "    filtered_gov_bonds = gov_bonds[\n",
    "        (gov_bonds['首次信息发布时间_IInfoPubDt'] >= corp_row['Listdt'] - timedelta(days=365)) &\n",
    "        (gov_bonds['首次信息发布时间_IInfoPubDt'] <= corp_row['Listdt'] + timedelta(days=365))]\n",
    "\n",
    "    if filtered_gov_bonds.empty:\n",
    "        return None\n",
    "\n",
    "    issuance_time_diff = abs(filtered_gov_bonds['首次信息发布时间_IInfoPubDt'] - corp_row['Listdt'])\n",
    "    issuance_period_diff = abs(filtered_gov_bonds['债券期限_年(年)_Maturity'] - corp_row['Term'])\n",
    "    total_diff = issuance_time_diff.dt.days + issuance_period_diff * 365\n",
    "\n",
    "    matched_gov_bond = filtered_gov_bonds.loc[total_diff.idxmin()]\n",
    "    return matched_gov_bond['初始票面年利率(%)_CoupRt']"
   ]
  },
  {
   "cell_type": "code",
   "execution_count": 30,
   "id": "374ca632cb8143ef",
   "metadata": {
    "ExecuteTime": {
     "end_time": "2024-10-27T03:11:12.926845Z",
     "start_time": "2024-10-27T03:10:27.820723Z"
    }
   },
   "outputs": [],
   "source": [
    "# Add government bond interest rate to corporate bonds\n",
    "bnd_info_df['GovInterestRate'] = bnd_info_df.apply(lambda x: match_bonds(x, df_gov2), axis=1)"
   ]
  },
  {
   "cell_type": "code",
   "execution_count": 24,
   "id": "292944882077dea1",
   "metadata": {
    "ExecuteTime": {
     "end_time": "2024-10-27T03:08:32.897699Z",
     "start_time": "2024-10-27T03:08:32.891680Z"
    }
   },
   "outputs": [],
   "source": [
    "corp_row = bnd_info_df.loc[68]\n",
    "# Filter government bonds within one year of the corporate bond issuance date\n",
    "filtered_gov_bonds = df_gov[(df_gov['首次信息发布时间_IInfoPubDt'] >= corp_row['Listdt'] - timedelta(days=365)) &\n",
    "                            (df_gov['首次信息发布时间_IInfoPubDt'] <= corp_row['Listdt'] + timedelta(days=365))]"
   ]
  },
  {
   "cell_type": "code",
   "execution_count": 26,
   "id": "bf44189402925100",
   "metadata": {
    "ExecuteTime": {
     "end_time": "2024-10-27T03:08:52.596557Z",
     "start_time": "2024-10-27T03:08:52.591828Z"
    }
   },
   "outputs": [],
   "source": [
    "issuance_time_diff = abs(filtered_gov_bonds['首次信息发布时间_IInfoPubDt'] - corp_row['Listdt'])\n",
    "issuance_period_diff = abs(filtered_gov_bonds['债券期限_年(年)_Maturity'] - corp_row['Term'])\n",
    "total_diff = issuance_time_diff.dt.days + issuance_period_diff * 365\n",
    "\n",
    "matched_gov_bond = filtered_gov_bonds.loc[total_diff.idxmin()]"
   ]
  },
  {
   "cell_type": "code",
   "execution_count": 36,
   "id": "c8ce3ae8a31c313c",
   "metadata": {
    "ExecuteTime": {
     "end_time": "2024-10-27T03:20:19.280934Z",
     "start_time": "2024-10-27T03:20:19.204573Z"
    }
   },
   "outputs": [
    {
     "name": "stderr",
     "output_type": "stream",
     "text": [
      "C:\\Users\\wangy\\AppData\\Local\\Temp\\ipykernel_20360\\398060761.py:5: FutureWarning: A value is trying to be set on a copy of a DataFrame or Series through chained assignment using an inplace method.\n",
      "The behavior will change in pandas 3.0. This inplace method will never work because the intermediate object on which we are setting values always behaves as a copy.\n",
      "\n",
      "For example, when doing 'df[col].method(value, inplace=True)', try using 'df.method({col: value}, inplace=True)' or df[col] = df[col].method(value) instead, to perform the operation inplace on the original object.\n",
      "\n",
      "\n",
      "  bnd_info_df[key].replace({'Y': 1, 'N': 0}, inplace=True)\n"
     ]
    }
   ],
   "source": [
    "import datetime\n",
    "\n",
    "bnd_info_df['Spread'] = bnd_info_df['Intrrate'] - bnd_info_df['GovInterestRate']\n",
    "for key in ['Crdeem', 'Crtsell', 'Creplm']:\n",
    "    bnd_info_df[key].replace({'Y': 1, 'N': 0}, inplace=True)\n",
    "\n",
    "bnd_info_df.drop(['Basrted', 'Bemkrate'], axis=1, inplace=True)\n",
    "bnd_info_df.loc[:, 'isPut'] = (bnd_info_df['CallOrPut'] == 'P').astype(int)\n",
    "bnd_info_df.loc[:, 'isCall'] = (bnd_info_df['CallOrPut'] == 'C').astype(int)\n",
    "\n",
    "bnd_info_df.loc[:, 'Post'] = bnd_info_df['Listdt'].apply(lambda x: int(x > datetime.datetime(2014, 5, 19)))"
   ]
  },
  {
   "cell_type": "code",
   "execution_count": 52,
   "id": "4c64030992d87f49",
   "metadata": {
    "ExecuteTime": {
     "end_time": "2024-10-27T03:32:24.433068Z",
     "start_time": "2024-10-27T03:32:24.427234Z"
    }
   },
   "outputs": [
    {
     "data": {
      "text/plain": [
       "Index(['Liscd', 'Abbrnme', 'Sctcd', 'Listdt', 'SecurityID', 'Varsortcd',\n",
       "       'Varsort', 'Orgid', 'IssSymbol', 'Acisuquty', 'Pooprc', 'Term',\n",
       "       'Intrrate', 'Crdrate', 'Crdeem', 'Crtsell', 'Creplm', 'OptType',\n",
       "       'CallOrPut', 'GovInterestRate', 'Spread', 'isPut', 'isCall', 'Post',\n",
       "       'year'],\n",
       "      dtype='object')"
      ]
     },
     "execution_count": 52,
     "metadata": {},
     "output_type": "execute_result"
    }
   ],
   "source": [
    "bnd_info_df.keys()"
   ]
  },
  {
   "cell_type": "code",
   "execution_count": 39,
   "id": "c49ec903fc703d5",
   "metadata": {
    "ExecuteTime": {
     "end_time": "2024-10-27T03:21:11.749419Z",
     "start_time": "2024-10-27T03:21:11.742845Z"
    }
   },
   "outputs": [],
   "source": [
    "bnd_info_df.loc[:, const.YEAR] = bnd_info_df['Listdt'].dt.year"
   ]
  },
  {
   "cell_type": "code",
   "execution_count": 40,
   "id": "660a03c1e521d866",
   "metadata": {
    "ExecuteTime": {
     "end_time": "2024-10-27T03:23:01.022044Z",
     "start_time": "2024-10-27T03:23:00.716688Z"
    }
   },
   "outputs": [],
   "source": [
    "with zipfile.ZipFile(os.path.join(const.CSMAR_PATH, '财务指标文件.zip'), 'r') as zip_ref:\n",
    "    with zip_ref.open('CSR_Finidx.csv') as csv_file:\n",
    "        finidx_df: DataFrame = pd.read_csv(csv_file, on_bad_lines='skip')\n",
    "        finidx_df: DataFrame = sort_csmar_data(finidx_df)"
   ]
  },
  {
   "cell_type": "code",
   "execution_count": 42,
   "id": "9df7cec29cdc0cf1",
   "metadata": {
    "ExecuteTime": {
     "end_time": "2024-10-27T03:24:21.041874Z",
     "start_time": "2024-10-27T03:24:21.034164Z"
    }
   },
   "outputs": [],
   "source": [
    "finidx_df['ln_at'] = finidx_df['A100000'].apply(np.log)\n",
    "finidx_df['lev'] = finidx_df['A200000'] / finidx_df['A100000']"
   ]
  },
  {
   "cell_type": "code",
   "execution_count": 66,
   "id": "556acfd6818d9dd1",
   "metadata": {
    "ExecuteTime": {
     "end_time": "2024-10-27T06:13:25.101129Z",
     "start_time": "2024-10-27T06:13:25.034034Z"
    }
   },
   "outputs": [],
   "source": [
    "# finidx_df[const.YEAR] += 1\n",
    "bnd_reg_df = bnd_info_df.merge(finidx_df, how='left', left_on=['IssSymbol', const.YEAR], right_on=['tic', const.YEAR])"
   ]
  },
  {
   "cell_type": "code",
   "execution_count": 55,
   "id": "42cce57cf0c74fad",
   "metadata": {
    "ExecuteTime": {
     "end_time": "2024-10-27T03:32:42.059448Z",
     "start_time": "2024-10-27T03:32:42.054045Z"
    }
   },
   "outputs": [],
   "source": [
    "bnd_reg_df['Liscd'] = bnd_reg_df['Liscd'].astype(int)"
   ]
  },
  {
   "cell_type": "code",
   "execution_count": 67,
   "id": "e7f55e2c2c45ad95",
   "metadata": {
    "ExecuteTime": {
     "end_time": "2024-10-27T06:13:33.409545Z",
     "start_time": "2024-10-27T06:13:33.095744Z"
    }
   },
   "outputs": [],
   "source": [
    "reg_df = pd.read_stata(os.path.join(const.OUTPUT_PATH, '20241026_cc_reg_data_v2.dta'))[\n",
    "    ['tic', const.YEAR, 'has_guarantee']]\n",
    "\n",
    "bnd_reg_df = bnd_reg_df.drop(['tic'], axis=1).merge(reg_df, how='left', left_on=['IssSymbol', const.YEAR],\n",
    "                                                    right_on=['tic', const.YEAR])\n",
    "bnd_reg_df.loc[:, 'has_guarantee'] = bnd_reg_df['has_guarantee'].fillna(0)"
   ]
  },
  {
   "cell_type": "code",
   "execution_count": 60,
   "id": "348dcbd4c39ed1d2",
   "metadata": {
    "ExecuteTime": {
     "end_time": "2024-10-27T03:40:19.521733Z",
     "start_time": "2024-10-27T03:40:19.489712Z"
    }
   },
   "outputs": [],
   "source": [
    "bnd_reg_df['rate'] = bnd_reg_df['Crdrate'].apply(lambda x: 0 if pd.isna(x) else 1 if 'B' in x else 2)"
   ]
  },
  {
   "cell_type": "code",
   "execution_count": 63,
   "id": "f7c96fb92039416c",
   "metadata": {
    "ExecuteTime": {
     "end_time": "2024-10-27T06:12:53.565135Z",
     "start_time": "2024-10-27T06:12:53.389991Z"
    }
   },
   "outputs": [],
   "source": [
    "with zipfile.ZipFile(os.path.join(const.CSMAR_PATH, '债券及主体评级情况表.zip'), 'r') as zip_ref:\n",
    "    with zip_ref.open('BND_Rating.csv') as csv_file:\n",
    "        bnd_rate_df: DataFrame = pd.read_csv(csv_file, on_bad_lines='skip')\n",
    "\n",
    "bnd_rate_df['DeclareDate'] = pd.to_datetime(bnd_rate_df['DeclareDate'])\n",
    "bnd_rate_df['Liscd'] = bnd_rate_df['Liscd'].astype(int)"
   ]
  },
  {
   "cell_type": "code",
   "execution_count": 64,
   "id": "ab81f023f08cce59",
   "metadata": {
    "ExecuteTime": {
     "end_time": "2024-10-27T06:12:54.526746Z",
     "start_time": "2024-10-27T06:12:54.520510Z"
    }
   },
   "outputs": [],
   "source": [
    "# Merge rating information with bond basic information, using the rating closest to the bond Listdt\n",
    "def match_rating(corp_row, ratings_df):\n",
    "    filtered_ratings = ratings_df[ratings_df['Liscd'] == corp_row['Liscd']]\n",
    "    if filtered_ratings.empty:\n",
    "        return pd.Series([None, None])\n",
    "\n",
    "    filtered_ratings['date_diff'] = abs(filtered_ratings['DeclareDate'] - corp_row['Listdt'])\n",
    "    closest_rating = filtered_ratings.loc[filtered_ratings['date_diff'].idxmin()]\n",
    "    return pd.Series([closest_rating['BtcrAdj'], closest_rating['CtcrAdj']])"
   ]
  },
  {
   "cell_type": "code",
   "execution_count": 65,
   "id": "38899c867405cc6",
   "metadata": {
    "ExecuteTime": {
     "end_time": "2024-10-27T06:13:13.211230Z",
     "start_time": "2024-10-27T06:12:55.680756Z"
    }
   },
   "outputs": [],
   "source": [
    "bnd_info_df[['BtcrAdj', 'CtcrAdj']] = bnd_info_df.apply(lambda x: match_rating(x, bnd_rate_df), axis=1)\n"
   ]
  },
  {
   "cell_type": "code",
   "execution_count": 73,
   "id": "fcdbe470629f026d",
   "metadata": {
    "ExecuteTime": {
     "end_time": "2024-10-27T06:20:46.510799Z",
     "start_time": "2024-10-27T06:20:46.479272Z"
    }
   },
   "outputs": [
    {
     "name": "stderr",
     "output_type": "stream",
     "text": [
      "C:\\Users\\wangy\\AppData\\Local\\Temp\\ipykernel_20360\\566518933.py:19: FutureWarning: Downcasting behavior in `replace` is deprecated and will be removed in a future version. To retain the old behavior, explicitly call `result.infer_objects(copy=False)`. To opt-in to the future behavior, set `pd.set_option('future.no_silent_downcasting', True)`\n",
      "  bnd_reg_df[f'{key}_val'] = bnd_reg_df[key].replace(rating_dict)\n",
      "C:\\Users\\wangy\\AppData\\Local\\Temp\\ipykernel_20360\\566518933.py:19: FutureWarning: Downcasting behavior in `replace` is deprecated and will be removed in a future version. To retain the old behavior, explicitly call `result.infer_objects(copy=False)`. To opt-in to the future behavior, set `pd.set_option('future.no_silent_downcasting', True)`\n",
      "  bnd_reg_df[f'{key}_val'] = bnd_reg_df[key].replace(rating_dict)\n",
      "C:\\Users\\wangy\\AppData\\Local\\Temp\\ipykernel_20360\\566518933.py:19: FutureWarning: Downcasting behavior in `replace` is deprecated and will be removed in a future version. To retain the old behavior, explicitly call `result.infer_objects(copy=False)`. To opt-in to the future behavior, set `pd.set_option('future.no_silent_downcasting', True)`\n",
      "  bnd_reg_df[f'{key}_val'] = bnd_reg_df[key].replace(rating_dict)\n"
     ]
    }
   ],
   "source": [
    "rating_dict = {'AAA+': 12,\n",
    "               'AAA': 11,\n",
    "               'AA+sf': 10,\n",
    "               'AA+': 10,\n",
    "               'AA': 9,\n",
    "               'AA-': 8,\n",
    "               'AA- ': 8,\n",
    "               'A+': 7,\n",
    "               'A': 6,\n",
    "               'A-1': 5,\n",
    "               'A-1 ': 5,\n",
    "               'A-': 5,\n",
    "               'BBB+': 4,\n",
    "               'BBB': 3,\n",
    "               'BBB-': 2,\n",
    "               'B': 1,\n",
    "               'C': 0}\n",
    "for key in ['Crdrate', 'BtcrAdj', 'CtcrAdj']:\n",
    "    bnd_reg_df[f'{key}_val'] = bnd_reg_df[key].replace(rating_dict)\n",
    "    bnd_reg_df[key] = bnd_reg_df[key].fillna('C')\n",
    "    bnd_reg_df[f'{key}_val'] = bnd_reg_df[f'{key}_val'].fillna(0)"
   ]
  },
  {
   "cell_type": "code",
   "execution_count": 75,
   "id": "298283006cb117ec",
   "metadata": {
    "ExecuteTime": {
     "end_time": "2024-10-27T06:21:39.483334Z",
     "start_time": "2024-10-27T06:21:39.477242Z"
    }
   },
   "outputs": [],
   "source": [
    "bnd_reg_df['Liscd'] = bnd_reg_df['Liscd'].astype(int)"
   ]
  },
  {
   "cell_type": "code",
   "execution_count": 76,
   "id": "338a4a4116349265",
   "metadata": {
    "ExecuteTime": {
     "end_time": "2024-10-27T06:21:42.624883Z",
     "start_time": "2024-10-27T06:21:42.320559Z"
    }
   },
   "outputs": [],
   "source": [
    "bnd_reg_df.to_stata(os.path.join(const.OUTPUT_PATH, '20241027_corporate_bond_spread.dta'), write_index=False,\n",
    "                    version=119)"
   ]
  },
  {
   "cell_type": "markdown",
   "id": "b48bd36e6dda48bd",
   "metadata": {},
   "source": [
    "# Calculate Investment Efficiency\n",
    "\n",
    "Source: Baik, D. (Young-I., Chen, C. X., & Godsell, D. (2024). Board Gender Diversity and Investment Efficiency: Global Evidence from 83 Country-Level Interventions. The Accounting Review, 99(3), 1–36. https://doi.org/10.2308/TAR-2022-0251\n"
   ]
  },
  {
   "cell_type": "code",
   "id": "3ba18d9483a51c9e",
   "metadata": {
    "ExecuteTime": {
     "end_time": "2024-11-03T11:18:09.856692Z",
     "start_time": "2024-11-03T11:18:08.504813Z"
    }
   },
   "source": [
    "import statsmodels.api as sm\n",
    "\n",
    "full_reg_df = pd.read_stata(os.path.join(const.OUTPUT_PATH, '20241026_cc_reg_data.dta'))\n",
    "\n",
    "reg_df = full_reg_df[['indcd', 'sale_growth', 'tic', 'year', 'CAPEX_RDI_lat_1']].dropna(how='any')\n",
    "\n",
    "# Add an indicator for negative sales growth\n",
    "reg_df['negative_sales_growth'] = np.where(reg_df['sale_growth'] < 0, 1, 0)\n",
    "\n",
    "# Prepare independent variables\n",
    "# Sales growth and interaction term\n",
    "reg_df['interaction'] = reg_df['negative_sales_growth'] * reg_df['sale_growth']\n",
    "\n",
    "# Dependent variable\n",
    "y = reg_df['CAPEX_RDI_lat_1']\n",
    "\n",
    "# Estimate the model for each industry code (cross-sectional regression)\n",
    "residuals = []\n",
    "for indcd, group in reg_df.groupby('indcd'):\n",
    "    X = group[['sale_growth', 'negative_sales_growth', 'interaction']]\n",
    "    X = sm.add_constant(X)  # Adds a constant term for the intercept\n",
    "    model = sm.OLS(group[y.name], X)\n",
    "    results = model.fit()\n",
    "    group['residuals'] = results.resid\n",
    "    residuals.append(group)\n",
    "\n",
    "# Combine residuals from all industry groups\n",
    "df_with_residuals = pd.concat(residuals)\n",
    "\n",
    "# Calculate investment efficiency\n",
    "# Absolute value of residual * -1\n",
    "df_with_residuals['investment_efficiency'] = -1 * df_with_residuals['residuals'].abs()\n",
    "\n",
    "# Alternate definition: 1 if absolute value of residual * -1 is above median, otherwise 0\n",
    "median_residual = df_with_residuals['investment_efficiency'].median()\n",
    "df_with_residuals['investment_efficiency_alt'] = np.where(df_with_residuals['investment_efficiency'] > median_residual,\n",
    "                                                          1, 0)\n",
    "\n",
    "# Display the result\n",
    "df_with_residuals[['indcd', 'CAPEX_RDI_lat_1', 'sale_growth', 'negative_sales_growth', 'investment_efficiency',\n",
    "                   'investment_efficiency_alt']].head()\n"
   ],
   "outputs": [
    {
     "data": {
      "text/plain": [
       "      indcd  CAPEX_RDI_lat_1  sale_growth  negative_sales_growth  \\\n",
       "16881               0.002151     0.364444                      0   \n",
       "16882               0.006760     0.054600                      0   \n",
       "16883               0.001904     0.066165                      0   \n",
       "16884               0.001213     0.013319                      0   \n",
       "16885               0.000509     0.097705                      0   \n",
       "\n",
       "      investment_efficiency  investment_efficiency_alt  \n",
       "16881              -0.04885                          0  \n",
       "16882             -0.043109                          0  \n",
       "16883             -0.048008                          0  \n",
       "16884             -0.048505                          0  \n",
       "16885             -0.049518                          0  "
      ],
      "text/html": [
       "<div>\n",
       "<style scoped>\n",
       "    .dataframe tbody tr th:only-of-type {\n",
       "        vertical-align: middle;\n",
       "    }\n",
       "\n",
       "    .dataframe tbody tr th {\n",
       "        vertical-align: top;\n",
       "    }\n",
       "\n",
       "    .dataframe thead th {\n",
       "        text-align: right;\n",
       "    }\n",
       "</style>\n",
       "<table border=\"1\" class=\"dataframe\">\n",
       "  <thead>\n",
       "    <tr style=\"text-align: right;\">\n",
       "      <th></th>\n",
       "      <th>indcd</th>\n",
       "      <th>CAPEX_RDI_lat_1</th>\n",
       "      <th>sale_growth</th>\n",
       "      <th>negative_sales_growth</th>\n",
       "      <th>investment_efficiency</th>\n",
       "      <th>investment_efficiency_alt</th>\n",
       "    </tr>\n",
       "  </thead>\n",
       "  <tbody>\n",
       "    <tr>\n",
       "      <th>16881</th>\n",
       "      <td></td>\n",
       "      <td>0.002151</td>\n",
       "      <td>0.364444</td>\n",
       "      <td>0</td>\n",
       "      <td>-0.04885</td>\n",
       "      <td>0</td>\n",
       "    </tr>\n",
       "    <tr>\n",
       "      <th>16882</th>\n",
       "      <td></td>\n",
       "      <td>0.006760</td>\n",
       "      <td>0.054600</td>\n",
       "      <td>0</td>\n",
       "      <td>-0.043109</td>\n",
       "      <td>0</td>\n",
       "    </tr>\n",
       "    <tr>\n",
       "      <th>16883</th>\n",
       "      <td></td>\n",
       "      <td>0.001904</td>\n",
       "      <td>0.066165</td>\n",
       "      <td>0</td>\n",
       "      <td>-0.048008</td>\n",
       "      <td>0</td>\n",
       "    </tr>\n",
       "    <tr>\n",
       "      <th>16884</th>\n",
       "      <td></td>\n",
       "      <td>0.001213</td>\n",
       "      <td>0.013319</td>\n",
       "      <td>0</td>\n",
       "      <td>-0.048505</td>\n",
       "      <td>0</td>\n",
       "    </tr>\n",
       "    <tr>\n",
       "      <th>16885</th>\n",
       "      <td></td>\n",
       "      <td>0.000509</td>\n",
       "      <td>0.097705</td>\n",
       "      <td>0</td>\n",
       "      <td>-0.049518</td>\n",
       "      <td>0</td>\n",
       "    </tr>\n",
       "  </tbody>\n",
       "</table>\n",
       "</div>"
      ]
     },
     "execution_count": 33,
     "metadata": {},
     "output_type": "execute_result"
    }
   ],
   "execution_count": 33
  },
  {
   "cell_type": "code",
   "execution_count": 85,
   "id": "85053737c974ed98",
   "metadata": {
    "ExecuteTime": {
     "end_time": "2024-10-27T07:10:51.573724Z",
     "start_time": "2024-10-27T07:10:51.564978Z"
    }
   },
   "outputs": [
    {
     "data": {
      "text/html": [
       "<div>\n",
       "<style scoped>\n",
       "    .dataframe tbody tr th:only-of-type {\n",
       "        vertical-align: middle;\n",
       "    }\n",
       "\n",
       "    .dataframe tbody tr th {\n",
       "        vertical-align: top;\n",
       "    }\n",
       "\n",
       "    .dataframe thead th {\n",
       "        text-align: right;\n",
       "    }\n",
       "</style>\n",
       "<table border=\"1\" class=\"dataframe\">\n",
       "  <thead>\n",
       "    <tr style=\"text-align: right;\">\n",
       "      <th></th>\n",
       "      <th>indcd</th>\n",
       "      <th>sale_growth</th>\n",
       "      <th>tic</th>\n",
       "      <th>year</th>\n",
       "      <th>CAPEX_RDI_lat_1</th>\n",
       "      <th>negative_sales_growth</th>\n",
       "      <th>interaction</th>\n",
       "      <th>residuals</th>\n",
       "      <th>investment_efficiency</th>\n",
       "      <th>investment_efficiency_alt</th>\n",
       "    </tr>\n",
       "  </thead>\n",
       "  <tbody>\n",
       "    <tr>\n",
       "      <th>16794</th>\n",
       "      <td></td>\n",
       "      <td>0.364444</td>\n",
       "      <td>200002</td>\n",
       "      <td>2007.0</td>\n",
       "      <td>0.002151</td>\n",
       "      <td>0</td>\n",
       "      <td>0.0</td>\n",
       "      <td>-0.04885</td>\n",
       "      <td>-0.04885</td>\n",
       "      <td>0</td>\n",
       "    </tr>\n",
       "    <tr>\n",
       "      <th>16795</th>\n",
       "      <td></td>\n",
       "      <td>0.054600</td>\n",
       "      <td>200002</td>\n",
       "      <td>2008.0</td>\n",
       "      <td>0.006760</td>\n",
       "      <td>0</td>\n",
       "      <td>0.0</td>\n",
       "      <td>-0.043109</td>\n",
       "      <td>-0.043109</td>\n",
       "      <td>0</td>\n",
       "    </tr>\n",
       "    <tr>\n",
       "      <th>16796</th>\n",
       "      <td></td>\n",
       "      <td>0.066165</td>\n",
       "      <td>200002</td>\n",
       "      <td>2009.0</td>\n",
       "      <td>0.001904</td>\n",
       "      <td>0</td>\n",
       "      <td>0.0</td>\n",
       "      <td>-0.048008</td>\n",
       "      <td>-0.048008</td>\n",
       "      <td>0</td>\n",
       "    </tr>\n",
       "    <tr>\n",
       "      <th>16797</th>\n",
       "      <td></td>\n",
       "      <td>0.013319</td>\n",
       "      <td>200002</td>\n",
       "      <td>2010.0</td>\n",
       "      <td>0.001213</td>\n",
       "      <td>0</td>\n",
       "      <td>0.0</td>\n",
       "      <td>-0.048505</td>\n",
       "      <td>-0.048505</td>\n",
       "      <td>0</td>\n",
       "    </tr>\n",
       "    <tr>\n",
       "      <th>16798</th>\n",
       "      <td></td>\n",
       "      <td>0.097705</td>\n",
       "      <td>200002</td>\n",
       "      <td>2011.0</td>\n",
       "      <td>0.000509</td>\n",
       "      <td>0</td>\n",
       "      <td>0.0</td>\n",
       "      <td>-0.049518</td>\n",
       "      <td>-0.049518</td>\n",
       "      <td>0</td>\n",
       "    </tr>\n",
       "  </tbody>\n",
       "</table>\n",
       "</div>"
      ],
      "text/plain": [
       "      indcd  sale_growth     tic    year  CAPEX_RDI_lat_1  \\\n",
       "16794           0.364444  200002  2007.0         0.002151   \n",
       "16795           0.054600  200002  2008.0         0.006760   \n",
       "16796           0.066165  200002  2009.0         0.001904   \n",
       "16797           0.013319  200002  2010.0         0.001213   \n",
       "16798           0.097705  200002  2011.0         0.000509   \n",
       "\n",
       "       negative_sales_growth  interaction residuals investment_efficiency  \\\n",
       "16794                      0          0.0  -0.04885              -0.04885   \n",
       "16795                      0          0.0 -0.043109             -0.043109   \n",
       "16796                      0          0.0 -0.048008             -0.048008   \n",
       "16797                      0          0.0 -0.048505             -0.048505   \n",
       "16798                      0          0.0 -0.049518             -0.049518   \n",
       "\n",
       "       investment_efficiency_alt  \n",
       "16794                          0  \n",
       "16795                          0  \n",
       "16796                          0  \n",
       "16797                          0  \n",
       "16798                          0  "
      ]
     },
     "execution_count": 85,
     "metadata": {},
     "output_type": "execute_result"
    }
   ],
   "source": [
    "df_with_residuals.head()"
   ]
  },
  {
   "cell_type": "code",
   "id": "f8e1a01d07e7870e",
   "metadata": {
    "ExecuteTime": {
     "end_time": "2024-11-03T11:18:13.687537Z",
     "start_time": "2024-11-03T11:18:12.987092Z"
    }
   },
   "source": [
    "full_reg_df2 = full_reg_df.merge(\n",
    "    df_with_residuals[[const.TICKER, const.YEAR, 'investment_efficiency', 'investment_efficiency_alt']],\n",
    "    on=[const.TICKER, const.YEAR], how='left')\n",
    "full_reg_df2['investment_efficiency'] = full_reg_df2['investment_efficiency'].astype(float)\n",
    "full_reg_df2.to_stata(os.path.join(const.OUTPUT_PATH, '20241027_cc_reg_data.dta'), write_index=False, version=119)"
   ],
   "outputs": [],
   "execution_count": 34
  },
  {
   "cell_type": "code",
   "execution_count": 84,
   "id": "21277a2870ee632e",
   "metadata": {
    "ExecuteTime": {
     "end_time": "2024-10-27T07:10:03.110412Z",
     "start_time": "2024-10-27T07:10:03.102746Z"
    }
   },
   "outputs": [
    {
     "data": {
      "text/plain": [
       "array(['', 'A01', 'A02', 'A03', 'A04', 'A05', 'B06', 'B07', 'B08', 'B09',\n",
       "       'B10', 'B11', 'C13', 'C14', 'C15', 'C17', 'C18', 'C19', 'C20',\n",
       "       'C21', 'C22', 'C23', 'C24', 'C25', 'C26', 'C27', 'C28', 'C29',\n",
       "       'C30', 'C31', 'C32', 'C33', 'C34', 'C35', 'C36', 'C37', 'C38',\n",
       "       'C39', 'C40', 'C41', 'C42', 'C43', 'D44', 'D45', 'D46', 'E47',\n",
       "       'E48', 'E49', 'E50', 'F51', 'F52', 'G53', 'G54', 'G55', 'G56',\n",
       "       'G58', 'G59', 'G60', 'H61', 'H62', 'I63', 'I64', 'I65', 'J66',\n",
       "       'J67', 'J68', 'J69', 'K70', 'L71', 'L72', 'M73', 'M74', 'M75',\n",
       "       'N77', 'N78', 'O79', 'O80', 'O81', 'P82', 'Q83', 'R85', 'R86',\n",
       "       'R87', 'R88', 'S90'], dtype=object)"
      ]
     },
     "execution_count": 84,
     "metadata": {},
     "output_type": "execute_result"
    }
   ],
   "source": [
    "df_with_residuals['indcd'].unique()"
   ]
  },
  {
   "cell_type": "markdown",
   "id": "5b93f08e1b6e385d",
   "metadata": {},
   "source": [
    "# Construct Loan Level data"
   ]
  },
  {
   "cell_type": "code",
   "execution_count": 28,
   "id": "960e68fe66e5f79d",
   "metadata": {
    "ExecuteTime": {
     "end_time": "2024-10-29T06:39:17.201152Z",
     "start_time": "2024-10-29T06:39:15.248514Z"
    }
   },
   "outputs": [],
   "source": [
    "cbl_loan_df: DataFrame = pd.read_excel(os.path.join(const.CSMAR_PATH, '上市公司贷款', 'CBL_Loan.xlsx'), \n",
    "                                       usecols=['Stkcd', 'Time', 'Bank', 'Money', 'Term', 'Starttime', 'Endtime', 'Guarantee', 'Interest']).rename(\n",
    "    columns={'Time': 'SignDate', 'Bank': 'LoanBank', 'Money': 'LoanAmount', 'Term': 'LoanTerm', \n",
    "             'Starttime': 'LoanStartDate', 'Endtime': 'LoanEndDate', 'Guarantee': 'IsPledge', 'Interest': 'IntersetRate'})\n",
    "cbl_loan_df = cbl_loan_df.iloc[2:].dropna(subset=['IntersetRate'], how='any')"
   ]
  },
  {
   "cell_type": "code",
   "execution_count": 36,
   "id": "d1523dbb3831c3b8",
   "metadata": {
    "ExecuteTime": {
     "end_time": "2024-10-29T06:41:20.486246Z",
     "start_time": "2024-10-29T06:41:20.472508Z"
    }
   },
   "outputs": [],
   "source": [
    "import re\n",
    "\n",
    "# Function to extract the main bank name\n",
    "def extract_main_bank_name(bank_name):\n",
    "    # Match the main bank name before any branch identifiers like '支行', '分行', or '营业部'\n",
    "    match = re.match(r'^(.*?银行)', bank_name)\n",
    "    return match.group(1) if match else bank_name\n",
    "\n",
    "cbl_loan_df.loc[797, 'LoanStartDate'] = '2008-08-01'\n",
    "cbl_loan_df.loc[797, 'LoanEndDate'] = '2015-07-31'\n",
    "cbl_loan_df.loc[11726, 'LoanStartDate'] = '2006-08-01'\n",
    "cbl_loan_df.loc[11726, 'LoanEndDate'] = '2009-07-31'\n",
    "cbl_loan_df.loc[12839, 'LoanStartDate'] = '2005-06-01'\n",
    "cbl_loan_df.loc[12839, 'LoanEndDate'] = '2006-05-31'\n",
    "cbl_loan_df.loc[12840, 'LoanStartDate'] = '2005-03-01'\n",
    "cbl_loan_df.loc[12840, 'LoanEndDate'] = '2006-02-28'\n",
    "cbl_loan_df['IsPledge'] = cbl_loan_df['IsPledge'].notnull().astype(int)\n",
    "cbl_loan_df['LoanBank'] = cbl_loan_df['LoanBank'].apply(extract_main_bank_name)\n",
    "cbl_loan_df['LoanStartDate'] = pd.to_datetime(cbl_loan_df['LoanStartDate'])\n",
    "cbl_loan_df['LoanEndDate'] = pd.to_datetime(cbl_loan_df['LoanEndDate'])\n",
    "cbl_loan_df['LoanTerm'] = cbl_loan_df['LoanTerm'].fillna((cbl_loan_df['LoanEndDate'] - cbl_loan_df['LoanStartDate']).dt.days / 365)\n"
   ]
  },
  {
   "cell_type": "code",
   "execution_count": 38,
   "id": "844a6dd5b7eee65c",
   "metadata": {
    "ExecuteTime": {
     "end_time": "2024-10-29T06:42:12.690299Z",
     "start_time": "2024-10-29T06:42:12.684160Z"
    }
   },
   "outputs": [],
   "source": [
    "cbl_loan_df.to_pickle(os.path.join(const.TEMP_PATH, 'pre2013_cbl_loan_df.pkl'))"
   ]
  },
  {
   "cell_type": "code",
   "execution_count": 4,
   "id": "571bdefb8ec7fe9b",
   "metadata": {
    "ExecuteTime": {
     "end_time": "2024-10-31T07:29:44.972731Z",
     "start_time": "2024-10-31T07:29:38.515294Z"
    }
   },
   "outputs": [
    {
     "name": "stderr",
     "output_type": "stream",
     "text": [
      "C:\\Users\\wangy\\AppData\\Local\\Temp\\ipykernel_1112\\4103463007.py:3: DtypeWarning: Columns (17,18,19,20,24) have mixed types. Specify dtype option on import or set low_memory=False.\n",
      "  cbl_new_loan_df1: DataFrame = pd.read_csv(csv_file, on_bad_lines='skip',\n",
      "C:\\Users\\wangy\\AppData\\Local\\Temp\\ipykernel_1112\\4103463007.py:11: DtypeWarning: Columns (14,17,18,19,20,24,27,28,32,33,36) have mixed types. Specify dtype option on import or set low_memory=False.\n",
      "  cbl_new_loan_df2: DataFrame = pd.read_csv(csv_file, on_bad_lines='skip',\n"
     ]
    }
   ],
   "source": [
    "with zipfile.ZipFile(os.path.join(const.CSMAR_PATH, '上市公司贷款', '2013_2017上市公司向银行借款表(日).zip'), 'r') as zip_ref:\n",
    "    with zip_ref.open('CBL_LoanNew.csv') as csv_file:\n",
    "        cbl_new_loan_df1: DataFrame = pd.read_csv(csv_file, on_bad_lines='skip',\n",
    "                                           usecols=['Symbol', 'DeclareDate', 'LoanBank', 'SignDate', 'MaxLoan', 'LoanTerm', 'LoanStarDate', \n",
    "                                                    'LoanEndDate', 'BaseRate', 'IntersetRate', 'IsPledge']).rename(\n",
    "            columns={'Symbol': 'Stkcd'}).dropna(subset=['IntersetRate'], how='all')\n",
    "        \n",
    "with zipfile.ZipFile(os.path.join(const.CSMAR_PATH, '上市公司贷款', '2018_2019上市公司向银行借款表(日).zip'), 'r') as zip_ref:\n",
    "    with zip_ref.open('CBL_LoanNew.csv') as csv_file:\n",
    "        cbl_new_loan_df2: DataFrame = pd.read_csv(csv_file, on_bad_lines='skip',\n",
    "                                           usecols=['Symbol', 'DeclareDate', 'LoanBank', 'SignDate', 'MaxLoan', 'LoanTerm', 'LoanStarDate', \n",
    "                                                    'LoanEndDate', 'BaseRate', 'IntersetRate', 'IsPledge']).rename(\n",
    "            columns={'Symbol': 'Stkcd'}).dropna(subset=['IntersetRate'], how='all')\n",
    "\n",
    "cbl_new_loan_df: DataFrame = pd.concat([cbl_new_loan_df1, cbl_new_loan_df2], ignore_index=True)"
   ]
  },
  {
   "cell_type": "code",
   "execution_count": 5,
   "id": "3a304a6a0b4bc58f",
   "metadata": {
    "ExecuteTime": {
     "end_time": "2024-10-31T07:29:45.017564Z",
     "start_time": "2024-10-31T07:29:45.007543Z"
    }
   },
   "outputs": [
    {
     "data": {
      "text/html": [
       "<div>\n",
       "<style scoped>\n",
       "    .dataframe tbody tr th:only-of-type {\n",
       "        vertical-align: middle;\n",
       "    }\n",
       "\n",
       "    .dataframe tbody tr th {\n",
       "        vertical-align: top;\n",
       "    }\n",
       "\n",
       "    .dataframe thead th {\n",
       "        text-align: right;\n",
       "    }\n",
       "</style>\n",
       "<table border=\"1\" class=\"dataframe\">\n",
       "  <thead>\n",
       "    <tr style=\"text-align: right;\">\n",
       "      <th></th>\n",
       "      <th>Stkcd</th>\n",
       "      <th>DeclareDate</th>\n",
       "      <th>LoanBank</th>\n",
       "      <th>SignDate</th>\n",
       "      <th>MaxLoan</th>\n",
       "      <th>MinLoan</th>\n",
       "      <th>LatestLoanAmount</th>\n",
       "      <th>AccumLoanAmount</th>\n",
       "      <th>LoanTerm</th>\n",
       "      <th>LoanStarDate</th>\n",
       "      <th>LoanEndDate</th>\n",
       "      <th>BaseRate</th>\n",
       "      <th>IntersetRate</th>\n",
       "      <th>IsPledge</th>\n",
       "    </tr>\n",
       "  </thead>\n",
       "  <tbody>\n",
       "    <tr>\n",
       "      <th>0</th>\n",
       "      <td>000002</td>\n",
       "      <td>2014-04-22</td>\n",
       "      <td>华润深国投信托有限公司</td>\n",
       "      <td>NaN</td>\n",
       "      <td>75000.0</td>\n",
       "      <td>75000.0</td>\n",
       "      <td>NaN</td>\n",
       "      <td>NaN</td>\n",
       "      <td>2.0</td>\n",
       "      <td>NaN</td>\n",
       "      <td>NaN</td>\n",
       "      <td>6.15</td>\n",
       "      <td>7.482</td>\n",
       "      <td>0.0</td>\n",
       "    </tr>\n",
       "    <tr>\n",
       "      <th>1</th>\n",
       "      <td>000005</td>\n",
       "      <td>2016-09-06</td>\n",
       "      <td>上海浦东发展银行股份有限公司</td>\n",
       "      <td>2016-09-02</td>\n",
       "      <td>6000.0</td>\n",
       "      <td>6000.0</td>\n",
       "      <td>NaN</td>\n",
       "      <td>NaN</td>\n",
       "      <td>1.0</td>\n",
       "      <td>NaN</td>\n",
       "      <td>NaN</td>\n",
       "      <td>4.35</td>\n",
       "      <td>4.35</td>\n",
       "      <td>0.0</td>\n",
       "    </tr>\n",
       "    <tr>\n",
       "      <th>2</th>\n",
       "      <td>000005</td>\n",
       "      <td>2017-04-22</td>\n",
       "      <td>长安国际信托股份有限公司</td>\n",
       "      <td>2017-04-20</td>\n",
       "      <td>10000.0</td>\n",
       "      <td>10000.0</td>\n",
       "      <td>NaN</td>\n",
       "      <td>NaN</td>\n",
       "      <td>1.0</td>\n",
       "      <td>NaN</td>\n",
       "      <td>NaN</td>\n",
       "      <td>4.35</td>\n",
       "      <td>7.0</td>\n",
       "      <td>0.0</td>\n",
       "    </tr>\n",
       "    <tr>\n",
       "      <th>3</th>\n",
       "      <td>000030</td>\n",
       "      <td>2015-04-29</td>\n",
       "      <td>一汽财务有限公司</td>\n",
       "      <td>NaN</td>\n",
       "      <td>20000.0</td>\n",
       "      <td>0.0</td>\n",
       "      <td>NaN</td>\n",
       "      <td>NaN</td>\n",
       "      <td>1.0</td>\n",
       "      <td>NaN</td>\n",
       "      <td>NaN</td>\n",
       "      <td>5.35</td>\n",
       "      <td>3.5</td>\n",
       "      <td>0.0</td>\n",
       "    </tr>\n",
       "    <tr>\n",
       "      <th>4</th>\n",
       "      <td>000030</td>\n",
       "      <td>2016-04-21</td>\n",
       "      <td>一汽财务有限公司</td>\n",
       "      <td>NaN</td>\n",
       "      <td>12000.0</td>\n",
       "      <td>0.0</td>\n",
       "      <td>NaN</td>\n",
       "      <td>NaN</td>\n",
       "      <td>1.0</td>\n",
       "      <td>NaN</td>\n",
       "      <td>NaN</td>\n",
       "      <td>4.35</td>\n",
       "      <td>2.0</td>\n",
       "      <td>0.0</td>\n",
       "    </tr>\n",
       "  </tbody>\n",
       "</table>\n",
       "</div>"
      ],
      "text/plain": [
       "    Stkcd DeclareDate        LoanBank    SignDate  MaxLoan  MinLoan  \\\n",
       "0  000002  2014-04-22     华润深国投信托有限公司         NaN  75000.0  75000.0   \n",
       "1  000005  2016-09-06  上海浦东发展银行股份有限公司  2016-09-02   6000.0   6000.0   \n",
       "2  000005  2017-04-22    长安国际信托股份有限公司  2017-04-20  10000.0  10000.0   \n",
       "3  000030  2015-04-29        一汽财务有限公司         NaN  20000.0      0.0   \n",
       "4  000030  2016-04-21        一汽财务有限公司         NaN  12000.0      0.0   \n",
       "\n",
       "  LatestLoanAmount AccumLoanAmount LoanTerm LoanStarDate LoanEndDate BaseRate  \\\n",
       "0              NaN             NaN      2.0          NaN         NaN     6.15   \n",
       "1              NaN             NaN      1.0          NaN         NaN     4.35   \n",
       "2              NaN             NaN      1.0          NaN         NaN     4.35   \n",
       "3              NaN             NaN      1.0          NaN         NaN     5.35   \n",
       "4              NaN             NaN      1.0          NaN         NaN     4.35   \n",
       "\n",
       "  IntersetRate IsPledge  \n",
       "0        7.482      0.0  \n",
       "1         4.35      0.0  \n",
       "2          7.0      0.0  \n",
       "3          3.5      0.0  \n",
       "4          2.0      0.0  "
      ]
     },
     "execution_count": 5,
     "metadata": {},
     "output_type": "execute_result"
    }
   ],
   "source": [
    "cbl_new_loan_df.head()"
   ]
  },
  {
   "cell_type": "code",
   "execution_count": 22,
   "id": "cdc0ed69b24fc3c",
   "metadata": {
    "ExecuteTime": {
     "end_time": "2024-10-31T07:39:02.509896Z",
     "start_time": "2024-10-31T07:39:02.494370Z"
    }
   },
   "outputs": [],
   "source": [
    "cbl_loan_df2: DataFrame = cbl_new_loan_df.drop([1536, 1596, 1608])\n",
    "cbl_loan_df2['SignDate'] = pd.to_datetime(cbl_loan_df2['SignDate'].fillna(cbl_loan_df2['DeclareDate']), errors='coerce')\n",
    "cbl_loan_df2['LoanAmount'] = cbl_loan_df2['MaxLoan']\n",
    "cbl_loan_df2.dropna(subset=['SignDate'], how='any', inplace=True)\n",
    "cbl_loan_df2.dropna(subset=['LoanTerm', 'LoanStarDate', 'LoanEndDate'], how='all', inplace=True)\n",
    "cbl_loan_df2['LoanEndDate'] = pd.to_datetime(cbl_loan_df2['LoanEndDate'])\n",
    "cbl_loan_df2['LoanTerm'] = cbl_loan_df2['LoanTerm'].fillna((cbl_loan_df2['LoanEndDate'] - cbl_loan_df2['SignDate']).dt.days / 365)"
   ]
  },
  {
   "cell_type": "code",
   "execution_count": null,
   "id": "3d445e1fc6908cc5",
   "metadata": {},
   "outputs": [],
   "source": [
    "key_to_drop = ['MaxLoan', 'MinLoan', 'LatestLoanAmount', 'AccumLoanAmount']"
   ]
  },
  {
   "cell_type": "markdown",
   "id": "e0678e1ad04f580d",
   "metadata": {},
   "source": [
    "# Append rating data"
   ]
  },
  {
   "cell_type": "code",
   "execution_count": 3,
   "id": "9c6ceaaa6da8e271",
   "metadata": {
    "ExecuteTime": {
     "end_time": "2024-10-31T13:48:46.333824Z",
     "start_time": "2024-10-31T13:48:46.291623Z"
    }
   },
   "outputs": [],
   "source": [
    "with zipfile.ZipFile(os.path.join(const.CSMAR_PATH, '上市公司贷款', '上市公司信用评级情况表.zip'), 'r') as zip_ref:\n",
    "    with zip_ref.open('DEBT_BOND_RATING.csv') as csv_file:\n",
    "        rating_df: DataFrame = pd.read_csv(csv_file, on_bad_lines='skip').dropna(subset=['LongTermRating'])\n"
   ]
  },
  {
   "cell_type": "code",
   "execution_count": 4,
   "id": "83f781f3c751ff21",
   "metadata": {
    "ExecuteTime": {
     "end_time": "2024-10-31T13:48:48.351891Z",
     "start_time": "2024-10-31T13:48:48.340718Z"
    }
   },
   "outputs": [],
   "source": [
    "rating_df['RatingDate'] = pd.to_datetime(rating_df['RatingDate'])"
   ]
  },
  {
   "cell_type": "code",
   "execution_count": 5,
   "id": "6f6edc1b4e50a6bc",
   "metadata": {
    "ExecuteTime": {
     "end_time": "2024-10-31T13:48:58.457268Z",
     "start_time": "2024-10-31T13:48:58.447102Z"
    }
   },
   "outputs": [
    {
     "name": "stderr",
     "output_type": "stream",
     "text": [
      "/tmp/ipykernel_15040/3367601164.py:2: FutureWarning: Downcasting behavior in `replace` is deprecated and will be removed in a future version. To retain the old behavior, explicitly call `result.infer_objects(copy=False)`. To opt-in to the future behavior, set `pd.set_option('future.no_silent_downcasting', True)`\n",
      "  rating_df['Prospect'] = rating_df['RatingProspect'].replace({'稳定': 0, '正面': 1, '负面': -1, '待决': np.nan})\n"
     ]
    }
   ],
   "source": [
    "rating_df[const.YEAR] = rating_df['RatingDate'].dt.year\n",
    "rating_df['Prospect'] = rating_df['RatingProspect'].replace({'稳定': 0, '正面': 1, '负面': -1, '待决': np.nan})"
   ]
  },
  {
   "cell_type": "code",
   "execution_count": 6,
   "id": "5f1ed46dc85a01a8",
   "metadata": {
    "ExecuteTime": {
     "end_time": "2024-10-31T13:59:05.729725Z",
     "start_time": "2024-10-31T13:59:05.721560Z"
    }
   },
   "outputs": [],
   "source": [
    "import datetime\n",
    "rating_df['Post'] = (rating_df['RatingDate'] > datetime.datetime(2014, 5, 19)).astype(int)"
   ]
  },
  {
   "cell_type": "code",
   "execution_count": 7,
   "id": "849e8cbabca200b2",
   "metadata": {
    "ExecuteTime": {
     "end_time": "2024-10-31T13:53:59.228328Z",
     "start_time": "2024-10-31T13:53:59.221944Z"
    }
   },
   "outputs": [],
   "source": [
    "rating_mapping = {\n",
    "    'AAA+': 13,\n",
    "    'AAA': 12,\n",
    "    'AAA-': 11,\n",
    "    'AA+': 10,\n",
    "    'AA': 9,\n",
    "    'AA-': 8,\n",
    "    'A+': 7,\n",
    "    'A': 6,\n",
    "    'A-1': 5,\n",
    "    'A-': 5,\n",
    "    'BBB+': 4,\n",
    "    'BBB': 4,\n",
    "    'BBB-': 4,\n",
    "    'BB+': 3,\n",
    "    'BB': 3,\n",
    "    'BB-': 3,\n",
    "    'B+': 2,\n",
    "    'B': 2,\n",
    "    'B-': 2,\n",
    "    'CCC': 1,\n",
    "    'CC': 1,\n",
    "    'C': 1\n",
    "}\n",
    "\n",
    "rating_mapping7 = {\n",
    "    'AAA+': 7,\n",
    "    'AAA': 7,\n",
    "    'AAA-': 7,\n",
    "    'AA+': 6,\n",
    "    'AA': 5,\n",
    "    'AA-': 4,\n",
    "    'A+': 3,\n",
    "    'A': 2,\n",
    "    'A-1': 2,\n",
    "    'A-': 2,\n",
    "    'BBB+': 1,\n",
    "    'BBB': 1,\n",
    "    'BBB-': 1,\n",
    "    'BB+': 1,\n",
    "    'BB': 1,\n",
    "    'BB-': 1,\n",
    "    'B+': 1,\n",
    "    'B': 1,\n",
    "    'B-': 1,\n",
    "    'CCC': 1,\n",
    "    'CC': 1,\n",
    "    'C': 1\n",
    "}\n",
    "\n",
    "# [1]常莹莹,曾泉.环境信息透明度与企业信用评级——基于债券评级市场的经验证据[J].金融研究,2019,(05):132-151.\n",
    "rating_mapping5 = {\n",
    "    'AAA+': 5,\n",
    "    'AAA': 5,\n",
    "    'AAA-': 5,\n",
    "    'AA+': 4,\n",
    "    'AA': 4,\n",
    "    'AA-': 4,\n",
    "    'A+': 3,\n",
    "    'A': 3,\n",
    "    'A-1': 3,\n",
    "    'A-': 3,\n",
    "    'BBB+': 2,\n",
    "    'BBB': 2,\n",
    "    'BBB-': 2,\n",
    "    'BB+': 1,\n",
    "    'BB': 1,\n",
    "    'BB-': 1,\n",
    "    'B+': 1,\n",
    "    'B': 1,\n",
    "    'B-': 1,\n",
    "    'CCC': 0,\n",
    "    'CC': 0,\n",
    "    'C': 0\n",
    "}"
   ]
  },
  {
   "cell_type": "code",
   "execution_count": 8,
   "id": "96e500fb05b018e6",
   "metadata": {
    "ExecuteTime": {
     "end_time": "2024-10-31T13:59:09.404324Z",
     "start_time": "2024-10-31T13:59:09.385637Z"
    }
   },
   "outputs": [
    {
     "name": "stderr",
     "output_type": "stream",
     "text": [
      "/tmp/ipykernel_15040/2637504357.py:1: FutureWarning: Downcasting behavior in `replace` is deprecated and will be removed in a future version. To retain the old behavior, explicitly call `result.infer_objects(copy=False)`. To opt-in to the future behavior, set `pd.set_option('future.no_silent_downcasting', True)`\n",
      "  rating_df.loc[:, 'RatingScore13'] = rating_df['LongTermRating'].replace(rating_mapping)\n",
      "/tmp/ipykernel_15040/2637504357.py:2: FutureWarning: Downcasting behavior in `replace` is deprecated and will be removed in a future version. To retain the old behavior, explicitly call `result.infer_objects(copy=False)`. To opt-in to the future behavior, set `pd.set_option('future.no_silent_downcasting', True)`\n",
      "  rating_df.loc[:, 'RatingScore7'] = rating_df['LongTermRating'].replace(rating_mapping7)\n",
      "/tmp/ipykernel_15040/2637504357.py:3: FutureWarning: Downcasting behavior in `replace` is deprecated and will be removed in a future version. To retain the old behavior, explicitly call `result.infer_objects(copy=False)`. To opt-in to the future behavior, set `pd.set_option('future.no_silent_downcasting', True)`\n",
      "  rating_df.loc[:, 'RatingScore5'] = rating_df['LongTermRating'].replace(rating_mapping5)\n"
     ]
    }
   ],
   "source": [
    "rating_df.loc[:, 'RatingScore13'] = rating_df['LongTermRating'].replace(rating_mapping)\n",
    "rating_df.loc[:, 'RatingScore7'] = rating_df['LongTermRating'].replace(rating_mapping7)\n",
    "rating_df.loc[:, 'RatingScore5'] = rating_df['LongTermRating'].replace(rating_mapping5)"
   ]
  },
  {
   "cell_type": "code",
   "execution_count": 86,
   "id": "4144844c2a434747",
   "metadata": {
    "ExecuteTime": {
     "end_time": "2024-10-31T13:16:42.363118Z",
     "start_time": "2024-10-31T13:16:42.359913Z"
    }
   },
   "outputs": [],
   "source": [
    "useless_id = {10486199, 10904, 104724, 105457, 10123793, 10251032, 10486104, 10486199}"
   ]
  },
  {
   "cell_type": "code",
   "execution_count": 16,
   "id": "958b4c34-d6df-4e55-bf3b-ef1a11a1ae89",
   "metadata": {},
   "outputs": [
    {
     "data": {
      "text/html": [
       "<div>\n",
       "<style scoped>\n",
       "    .dataframe tbody tr th:only-of-type {\n",
       "        vertical-align: middle;\n",
       "    }\n",
       "\n",
       "    .dataframe tbody tr th {\n",
       "        vertical-align: top;\n",
       "    }\n",
       "\n",
       "    .dataframe thead th {\n",
       "        text-align: right;\n",
       "    }\n",
       "</style>\n",
       "<table border=\"1\" class=\"dataframe\">\n",
       "  <thead>\n",
       "    <tr style=\"text-align: right;\">\n",
       "      <th></th>\n",
       "      <th>RatingInstitution</th>\n",
       "      <th>RatingInstitutionID</th>\n",
       "    </tr>\n",
       "  </thead>\n",
       "  <tbody>\n",
       "    <tr>\n",
       "      <th>0</th>\n",
       "      <td>联合资信评估有限公司</td>\n",
       "      <td>10897</td>\n",
       "    </tr>\n",
       "    <tr>\n",
       "      <th>3</th>\n",
       "      <td>中诚信国际信用评级有限责任公司</td>\n",
       "      <td>105282</td>\n",
       "    </tr>\n",
       "    <tr>\n",
       "      <th>10</th>\n",
       "      <td>大公国际资信评估有限公司</td>\n",
       "      <td>10898</td>\n",
       "    </tr>\n",
       "    <tr>\n",
       "      <th>54</th>\n",
       "      <td>中诚信证券评估有限公司</td>\n",
       "      <td>10905</td>\n",
       "    </tr>\n",
       "    <tr>\n",
       "      <th>120</th>\n",
       "      <td>联合资信评估股份有限公司</td>\n",
       "      <td>10897</td>\n",
       "    </tr>\n",
       "    <tr>\n",
       "      <th>148</th>\n",
       "      <td>鹏元资信评估有限公司</td>\n",
       "      <td>10903</td>\n",
       "    </tr>\n",
       "    <tr>\n",
       "      <th>163</th>\n",
       "      <td>联合信用评级有限公司</td>\n",
       "      <td>10906</td>\n",
       "    </tr>\n",
       "    <tr>\n",
       "      <th>171</th>\n",
       "      <td>上海新世纪资信评估投资服务有限公司</td>\n",
       "      <td>10900</td>\n",
       "    </tr>\n",
       "    <tr>\n",
       "      <th>214</th>\n",
       "      <td>中债资信评估有限责任公司</td>\n",
       "      <td>10108920</td>\n",
       "    </tr>\n",
       "    <tr>\n",
       "      <th>287</th>\n",
       "      <td>上海远东资信评估有限公司</td>\n",
       "      <td>10904</td>\n",
       "    </tr>\n",
       "    <tr>\n",
       "      <th>395</th>\n",
       "      <td>中证鹏元资信评估股份有限公司</td>\n",
       "      <td>10903</td>\n",
       "    </tr>\n",
       "    <tr>\n",
       "      <th>417</th>\n",
       "      <td>东方金诚国际信用评估有限公司</td>\n",
       "      <td>10102298</td>\n",
       "    </tr>\n",
       "    <tr>\n",
       "      <th>913</th>\n",
       "      <td>标普信用评级(中国)有限公司</td>\n",
       "      <td>10486199</td>\n",
       "    </tr>\n",
       "    <tr>\n",
       "      <th>6488</th>\n",
       "      <td>远东资信评估有限公司</td>\n",
       "      <td>10904</td>\n",
       "    </tr>\n",
       "    <tr>\n",
       "      <th>12257</th>\n",
       "      <td>中国证券登记结算有限责任公司上海分公司</td>\n",
       "      <td>105457</td>\n",
       "    </tr>\n",
       "    <tr>\n",
       "      <th>16540</th>\n",
       "      <td>惠誉国际信用评级有限公司</td>\n",
       "      <td>10123793</td>\n",
       "    </tr>\n",
       "    <tr>\n",
       "      <th>17007</th>\n",
       "      <td>上海新世纪资信评级投资服务有限公司</td>\n",
       "      <td>10900</td>\n",
       "    </tr>\n",
       "    <tr>\n",
       "      <th>18397</th>\n",
       "      <td>中国诚信证券评估有限公司</td>\n",
       "      <td>104724</td>\n",
       "    </tr>\n",
       "    <tr>\n",
       "      <th>18881</th>\n",
       "      <td>惠誉博华信用评级有限公司</td>\n",
       "      <td>10486104</td>\n",
       "    </tr>\n",
       "    <tr>\n",
       "      <th>20080</th>\n",
       "      <td>上海资信有限公司</td>\n",
       "      <td>10251032</td>\n",
       "    </tr>\n",
       "    <tr>\n",
       "      <th>20274</th>\n",
       "      <td>东方金诚资信评估有限公司</td>\n",
       "      <td>10102298</td>\n",
       "    </tr>\n",
       "  </tbody>\n",
       "</table>\n",
       "</div>"
      ],
      "text/plain": [
       "         RatingInstitution  RatingInstitutionID\n",
       "0               联合资信评估有限公司                10897\n",
       "3          中诚信国际信用评级有限责任公司               105282\n",
       "10            大公国际资信评估有限公司                10898\n",
       "54             中诚信证券评估有限公司                10905\n",
       "120           联合资信评估股份有限公司                10897\n",
       "148             鹏元资信评估有限公司                10903\n",
       "163             联合信用评级有限公司                10906\n",
       "171      上海新世纪资信评估投资服务有限公司                10900\n",
       "214           中债资信评估有限责任公司             10108920\n",
       "287           上海远东资信评估有限公司                10904\n",
       "395         中证鹏元资信评估股份有限公司                10903\n",
       "417         东方金诚国际信用评估有限公司             10102298\n",
       "913         标普信用评级(中国)有限公司             10486199\n",
       "6488            远东资信评估有限公司                10904\n",
       "12257  中国证券登记结算有限责任公司上海分公司               105457\n",
       "16540         惠誉国际信用评级有限公司             10123793\n",
       "17007    上海新世纪资信评级投资服务有限公司                10900\n",
       "18397         中国诚信证券评估有限公司               104724\n",
       "18881         惠誉博华信用评级有限公司             10486104\n",
       "20080             上海资信有限公司             10251032\n",
       "20274         东方金诚资信评估有限公司             10102298"
      ]
     },
     "execution_count": 16,
     "metadata": {},
     "output_type": "execute_result"
    }
   ],
   "source": [
    "rating_df[['RatingInstitution', 'RatingInstitutionID']].drop_duplicates()"
   ]
  },
  {
   "cell_type": "code",
   "execution_count": 84,
   "id": "d8660f25a844f60d",
   "metadata": {
    "ExecuteTime": {
     "end_time": "2024-10-31T13:15:01.874944Z",
     "start_time": "2024-10-31T13:15:01.868150Z"
    }
   },
   "outputs": [
    {
     "data": {
      "text/plain": [
       "RatingInstitutionID\n",
       "10897       3639\n",
       "10898       1385\n",
       "10900       2711\n",
       "10903       1935\n",
       "10904         39\n",
       "10905       1748\n",
       "10906       1718\n",
       "104724         1\n",
       "105282      5344\n",
       "105457         1\n",
       "10102298     823\n",
       "10108920     127\n",
       "10123793       3\n",
       "10251032       2\n",
       "10486104       2\n",
       "10486199       7\n",
       "Name: Symbol, dtype: int64"
      ]
     },
     "execution_count": 84,
     "metadata": {},
     "output_type": "execute_result"
    }
   ],
   "source": [
    "valid_rating_df = rating_df.copy()\n",
    "valid_rating_df.groupby('RatingInstitutionID')['Symbol'].count()"
   ]
  },
  {
   "cell_type": "code",
   "execution_count": 71,
   "id": "11c08c6d011c4ca4",
   "metadata": {
    "ExecuteTime": {
     "end_time": "2024-10-31T13:02:13.113963Z",
     "start_time": "2024-10-31T13:02:13.106938Z"
    }
   },
   "outputs": [],
   "source": [
    "valid_rating_df['RatingScore'] = pd.to_numeric(valid_rating_df['RatingScore'], errors='coerce')"
   ]
  },
  {
   "cell_type": "code",
   "execution_count": 92,
   "id": "d83ef778b1dec221",
   "metadata": {
    "ExecuteTime": {
     "end_time": "2024-10-31T13:19:24.327858Z",
     "start_time": "2024-10-31T13:19:24.312199Z"
    }
   },
   "outputs": [],
   "source": [
    "mean_rating = valid_rating_df.loc[~valid_rating_df['RatingInstitutionID'].isin(useless_id)].groupby(\n",
    "    ['Symbol', 'year'])[['RatingScore', 'Prospect']].mean()\n",
    "rating_count = valid_rating_df.loc[~valid_rating_df['RatingInstitutionID'].isin(useless_id)].groupby(\n",
    "    ['Symbol', 'year'])[['RatingInstitutionID']].count()\n",
    "mean_rating = mean_rating.merge(rating_count, left_index=True, right_index=True)"
   ]
  },
  {
   "cell_type": "code",
   "execution_count": 93,
   "id": "2308983e52fed622",
   "metadata": {
    "ExecuteTime": {
     "end_time": "2024-10-31T13:19:26.404458Z",
     "start_time": "2024-10-31T13:19:26.391795Z"
    }
   },
   "outputs": [
    {
     "data": {
      "text/html": [
       "<div>\n",
       "<style scoped>\n",
       "    .dataframe tbody tr th:only-of-type {\n",
       "        vertical-align: middle;\n",
       "    }\n",
       "\n",
       "    .dataframe tbody tr th {\n",
       "        vertical-align: top;\n",
       "    }\n",
       "\n",
       "    .dataframe thead th {\n",
       "        text-align: right;\n",
       "    }\n",
       "</style>\n",
       "<table border=\"1\" class=\"dataframe\">\n",
       "  <thead>\n",
       "    <tr style=\"text-align: right;\">\n",
       "      <th></th>\n",
       "      <th>Symbol</th>\n",
       "      <th>year</th>\n",
       "      <th>RatingScore</th>\n",
       "      <th>Prospect</th>\n",
       "      <th>RatingInstitutionID</th>\n",
       "    </tr>\n",
       "  </thead>\n",
       "  <tbody>\n",
       "    <tr>\n",
       "      <th>0</th>\n",
       "      <td>1</td>\n",
       "      <td>2008</td>\n",
       "      <td>18.0</td>\n",
       "      <td>0.0</td>\n",
       "      <td>2.0</td>\n",
       "    </tr>\n",
       "    <tr>\n",
       "      <th>1</th>\n",
       "      <td>1</td>\n",
       "      <td>2009</td>\n",
       "      <td>19.0</td>\n",
       "      <td>0.0</td>\n",
       "      <td>2.0</td>\n",
       "    </tr>\n",
       "    <tr>\n",
       "      <th>2</th>\n",
       "      <td>1</td>\n",
       "      <td>2010</td>\n",
       "      <td>19.0</td>\n",
       "      <td>0.0</td>\n",
       "      <td>2.0</td>\n",
       "    </tr>\n",
       "    <tr>\n",
       "      <th>3</th>\n",
       "      <td>1</td>\n",
       "      <td>2011</td>\n",
       "      <td>19.0</td>\n",
       "      <td>0.0</td>\n",
       "      <td>4.0</td>\n",
       "    </tr>\n",
       "    <tr>\n",
       "      <th>4</th>\n",
       "      <td>1</td>\n",
       "      <td>2012</td>\n",
       "      <td>20.0</td>\n",
       "      <td>0.0</td>\n",
       "      <td>5.0</td>\n",
       "    </tr>\n",
       "    <tr>\n",
       "      <th>...</th>\n",
       "      <td>...</td>\n",
       "      <td>...</td>\n",
       "      <td>...</td>\n",
       "      <td>...</td>\n",
       "      <td>...</td>\n",
       "    </tr>\n",
       "    <tr>\n",
       "      <th>22485</th>\n",
       "      <td>900950</td>\n",
       "      <td>2016</td>\n",
       "      <td>17.5</td>\n",
       "      <td>0.0</td>\n",
       "      <td>2.0</td>\n",
       "    </tr>\n",
       "    <tr>\n",
       "      <th>22486</th>\n",
       "      <td>900950</td>\n",
       "      <td>2017</td>\n",
       "      <td>20.0</td>\n",
       "      <td>0.0</td>\n",
       "      <td>1.0</td>\n",
       "    </tr>\n",
       "    <tr>\n",
       "      <th>22487</th>\n",
       "      <td>900950</td>\n",
       "      <td>2018</td>\n",
       "      <td>20.0</td>\n",
       "      <td>0.0</td>\n",
       "      <td>1.0</td>\n",
       "    </tr>\n",
       "    <tr>\n",
       "      <th>22488</th>\n",
       "      <td>900950</td>\n",
       "      <td>2019</td>\n",
       "      <td>20.0</td>\n",
       "      <td>0.0</td>\n",
       "      <td>1.0</td>\n",
       "    </tr>\n",
       "    <tr>\n",
       "      <th>22489</th>\n",
       "      <td>900950</td>\n",
       "      <td>2020</td>\n",
       "      <td>20.0</td>\n",
       "      <td>0.0</td>\n",
       "      <td>1.0</td>\n",
       "    </tr>\n",
       "  </tbody>\n",
       "</table>\n",
       "<p>22490 rows × 5 columns</p>\n",
       "</div>"
      ],
      "text/plain": [
       "       Symbol  year  RatingScore  Prospect  RatingInstitutionID\n",
       "0           1  2008         18.0       0.0                  2.0\n",
       "1           1  2009         19.0       0.0                  2.0\n",
       "2           1  2010         19.0       0.0                  2.0\n",
       "3           1  2011         19.0       0.0                  4.0\n",
       "4           1  2012         20.0       0.0                  5.0\n",
       "...       ...   ...          ...       ...                  ...\n",
       "22485  900950  2016         17.5       0.0                  2.0\n",
       "22486  900950  2017         20.0       0.0                  1.0\n",
       "22487  900950  2018         20.0       0.0                  1.0\n",
       "22488  900950  2019         20.0       0.0                  1.0\n",
       "22489  900950  2020         20.0       0.0                  1.0\n",
       "\n",
       "[22490 rows x 5 columns]"
      ]
     },
     "execution_count": 93,
     "metadata": {},
     "output_type": "execute_result"
    }
   ],
   "source": [
    "\n",
    "all_years = pd.MultiIndex.from_product([mean_rating.index.levels[0], range(2008, 2021)], names=['Symbol', 'year'])\n",
    "mean_rating = mean_rating.reindex(all_years)\n",
    "mean_rating.ffill(inplace=True)\n",
    "mean_rating.reset_index(inplace=True)\n",
    "mean_rating\n"
   ]
  },
  {
   "cell_type": "code",
   "execution_count": 94,
   "id": "b2d53a1387c451f0",
   "metadata": {
    "ExecuteTime": {
     "end_time": "2024-10-31T13:19:31.294657Z",
     "start_time": "2024-10-31T13:19:31.286247Z"
    }
   },
   "outputs": [],
   "source": [
    "mean_rating['rating_diff'] = mean_rating.groupby('Symbol')['RatingScore'].diff()\n",
    "mean_rating['is_raise'] = (mean_rating['rating_diff'] > 0).astype(int)\n",
    "mean_rating['is_decrease'] = (mean_rating['rating_diff'] < 0).astype(int)\n"
   ]
  },
  {
   "cell_type": "code",
   "execution_count": 82,
   "id": "30e65cfdf7016bb5",
   "metadata": {
    "ExecuteTime": {
     "end_time": "2024-10-31T13:12:07.889918Z",
     "start_time": "2024-10-31T13:12:07.886503Z"
    }
   },
   "outputs": [],
   "source": [
    "mean_rating[const.YEAR] += 2"
   ]
  },
  {
   "cell_type": "code",
   "execution_count": 95,
   "id": "96d092d34154c29c",
   "metadata": {
    "ExecuteTime": {
     "end_time": "2024-10-31T13:19:34.119610Z",
     "start_time": "2024-10-31T13:19:33.100175Z"
    }
   },
   "outputs": [],
   "source": [
    "reg_df: DataFrame = pd.read_stata(os.path.join(const.OUTPUT_PATH, '20241027_cc_reg_data.dta'))\n",
    "mean_rating.rename(columns={'Symbol': const.TICKER}, inplace=True)\n",
    "reg_df2 = reg_df.merge(mean_rating, on=[const.TICKER, const.YEAR], how='left')\n",
    "mean_rating[const.YEAR] -= 1\n",
    "\n",
    "reg_df2 = reg_df2.merge(mean_rating, on=[const.TICKER, const.YEAR], how='left', suffixes=('', '_1'))\n",
    "reg_df2.to_stata(os.path.join(const.OUTPUT_PATH, '202411011_cc_reg_data.dta'), write_index=False, version=119)"
   ]
  },
  {
   "cell_type": "code",
   "execution_count": 9,
   "id": "6cbbee99c2886280",
   "metadata": {
    "ExecuteTime": {
     "end_time": "2024-11-01T02:25:57.608188Z",
     "start_time": "2024-11-01T02:25:57.313145Z"
    },
    "scrolled": true
   },
   "outputs": [],
   "source": [
    "reg_df: DataFrame = pd.read_stata(os.path.join(const.OUTPUT_PATH, '20241027_cc_reg_data.dta'))\n",
    "rating_df[const.YEAR] = rating_df['RatingDate'].dt.year\n",
    "rating_df['RatingScore21'] = rating_df['RatingScore13'].astype(float)\n",
    "rating_df['RatingScore7'] = rating_df['RatingScore7'].astype(float)\n",
    "rating_df['RatingScore5'] = rating_df['RatingScore5'].astype(float)\n",
    "tmp_reg_df = reg_df.copy()\n",
    "tmp_reg_df[const.YEAR] -= 1\n",
    "rating_reg_df = rating_df.rename(columns={'Symbol': const.TICKER}).merge(tmp_reg_df, on=[const.TICKER, const.YEAR], how='left').merge(\n",
    "    reg_df, on=[const.TICKER, const.YEAR], how='left', suffixes=(\"\", \"_c\"))\n",
    "rating_reg_df.to_stata(os.path.join(const.OUTPUT_PATH, '20241101_cc_rating_reg_data.dta'), write_index=False, version=119)"
   ]
  },
  {
   "cell_type": "code",
   "execution_count": 19,
   "id": "a43ea724a85b79e1",
   "metadata": {},
   "outputs": [
    {
     "data": {
      "text/plain": [
       "RatingInstitutionID\n",
       "10897       324.0\n",
       "10898       174.0\n",
       "10900       258.0\n",
       "10903        82.0\n",
       "10904         1.0\n",
       "10905       375.0\n",
       "10906       336.0\n",
       "104724        0.0\n",
       "105282      582.0\n",
       "105457        0.0\n",
       "10102298     75.0\n",
       "10108920     15.0\n",
       "10123793      0.0\n",
       "10251032      0.0\n",
       "10486104      0.0\n",
       "10486199      0.0\n",
       "Name: has_guarantee_c, dtype: float64"
      ]
     },
     "execution_count": 19,
     "metadata": {},
     "output_type": "execute_result"
    }
   ],
   "source": [
    "rating_reg_df.groupby('RatingInstitutionID')['has_guarantee_c'].sum()"
   ]
  },
  {
   "cell_type": "code",
   "execution_count": 21,
   "id": "e268d137-3d11-464f-87e9-bbcb2e5edb17",
   "metadata": {},
   "outputs": [
    {
     "data": {
      "text/plain": [
       "RatingInstitutionID\n",
       "10897       207.0\n",
       "10898       149.0\n",
       "10900       234.0\n",
       "10903        89.0\n",
       "10904         1.0\n",
       "10905       382.0\n",
       "10906       249.0\n",
       "104724        0.0\n",
       "105282      423.0\n",
       "105457        0.0\n",
       "10102298     56.0\n",
       "10108920     18.0\n",
       "10123793      0.0\n",
       "10251032      0.0\n",
       "10486104      0.0\n",
       "10486199      0.0\n",
       "Name: has_guarantee, dtype: float64"
      ]
     },
     "execution_count": 21,
     "metadata": {},
     "output_type": "execute_result"
    }
   ],
   "source": [
    "rating_reg_df.groupby('RatingInstitutionID')['has_guarantee'].sum()"
   ]
  },
  {
   "cell_type": "code",
   "execution_count": 22,
   "id": "09bed4df-6bde-4346-accd-9bc534a6f07c",
   "metadata": {},
   "outputs": [
    {
     "data": {
      "text/plain": [
       "RatingInstitutionID\n",
       "10897       1127\n",
       "10898        932\n",
       "10900       1527\n",
       "10903        978\n",
       "10904         17\n",
       "10905       1660\n",
       "10906       1338\n",
       "104724         0\n",
       "105282      2071\n",
       "105457         1\n",
       "10102298     281\n",
       "10108920      92\n",
       "10123793       0\n",
       "10251032       0\n",
       "10486104       0\n",
       "10486199       0\n",
       "Name: has_guarantee, dtype: int64"
      ]
     },
     "execution_count": 22,
     "metadata": {},
     "output_type": "execute_result"
    }
   ],
   "source": [
    "rating_reg_df.groupby('RatingInstitutionID')['has_guarantee'].count()"
   ]
  },
  {
   "cell_type": "code",
   "execution_count": 35,
   "id": "135a51b3-0c5f-41d0-a59c-20724317e120",
   "metadata": {},
   "outputs": [],
   "source": [
    "rating_reg_df2 = rating_reg_df.loc[rating_reg_df['RatingInstitutionID'].isin(\n",
    "    {10897, 10898, 10900, 10903, 10905, 10906, 105282, 10102298, 10108920})]\n",
    "reting_reg_df3 = rating_reg_df2.loc[:, ['tic', 'DeclareDate', 'RatingDate', 'RatingInstitutionID', \n",
    "                                        'LongTermRating', 'RatingProspect', 'RatingInstitution',\n",
    "                                        'year', 'Post', 'RatingScore13', 'RatingScore7', 'RatingScore5', 'has_guarantee', \n",
    "                                        'NumGuarantee']].copy()"
   ]
  },
  {
   "cell_type": "code",
   "execution_count": 36,
   "id": "ad1606a2-74ba-4533-a6cb-57c6513d9b6c",
   "metadata": {},
   "outputs": [],
   "source": [
    "with zipfile.ZipFile(os.path.join(const.CSMAR_PATH, 'CSMAR_06-20.zip'), 'r') as zip_ref:\n",
    "    with zip_ref.open('CSMAR_06-20.dta') as dta_file:\n",
    "        finidx_df: DataFrame = pd.read_stata(dta_file).rename(\n",
    "            columns={'code': const.TICKER}).drop(['businessscope', 'mainbussiness', '_merge', 'sigchange',\n",
    "                                                   'shortname', 'indcd', 'prci', 'city', 'accper', 'typrep', \n",
    "                                                  'reptdt', 'annodt', 'y0801b', 'y0901b', 'y1901b', 'enddate', \n",
    "                                                  'largestholder', 'actualcontrollername', 'actualcontrollernatureid', \n",
    "                                                  'sharesnature', 'equitynature', 'equitynatureid', 'hierarchy', \n",
    "                                                  'founder', 'originator', 'auditdate', 'typeauditopin', 'auditor', \n",
    "                                                  'territoryaccountingfirm', 'outsideaccountingfirm', 'territoryauditfeecurrency', \n",
    "                                                  'outsideauditfeecurrency', 'otherfeecurrencycode', 'totalcurrencycode', \n",
    "                                                  'nonstandexplai', 'auditfeedirec', 'industryname', 'stknmec', 'companyopacity', \n",
    "                                                  'csr等级', 'csr技术创新理念', 'csr员工培训', 'csr安全检查', 'csr安全培训', \n",
    "                                                  'csr慰问意识', 'csr慰问人', 'csr慰问金', 'csr质量管理意识', 'csr质量管理体系证书', \n",
    "                                                  'csr客户满意度调查', 'csr供应商公平竞争', 'csr反商业贿赂培训', 'csr环保意识', \n",
    "                                                  'csr环境管理体系认证', 'zipcode', 'secretary', 'secretarytel', \n",
    "                                                  'secretaryfax', 'secretaryemail', 'securityconsultant', \n",
    "                                                  'socialcreditcode', 'sigchange', 'isin', 'fullname', \n",
    "                                                  'legalrepresentative', 'establishdate', 'crcd', 'website', \n",
    "                                                  'email', 'listingdate', 'province', 'listingstate', 'coname', \n",
    "                                                  'coname_cn', 'prvn', 'pftn', 'cont', 'indusa', 'indcodea', 'indusb', \n",
    "                                                  'indcodeb', 'offadd', 'officeaddress', 'registeraddress', 'regstadd'], axis=1)\n",
    "\n",
    "reting_reg_df4: DataFrame = reting_reg_df3.merge(finidx_df, on=[const.TICKER, const.YEAR], how='left')\n",
    "finidx_df[const.YEAR] -= 1\n",
    "reting_reg_df4: DataFrame = reting_reg_df4.merge(finidx_df, on=[const.TICKER, const.YEAR], how='left', suffixes=('', '_l'))\n",
    "for key in ['has_guarantee', 'NumGuarantee']:\n",
    "    reting_reg_df4.loc[:, key] = reting_reg_df4[key].fillna(0)"
   ]
  },
  {
   "cell_type": "code",
   "execution_count": 25,
   "id": "85deb4d7-e85e-457b-af03-a5076ba2c69d",
   "metadata": {},
   "outputs": [
    {
     "name": "stdout",
     "output_type": "stream",
     "text": [
      "tic                             int64\n",
      "DeclareDate                    object\n",
      "RatingDate             datetime64[ns]\n",
      "RatingInstitutionID             int64\n",
      "LongTermRating                 object\n",
      "                            ...      \n",
      "seonetvalue_l                 float32\n",
      "seo_l                         float32\n",
      "seoratio_l                    float32\n",
      "seonetratio_l                 float32\n",
      "dividend_l                    float32\n",
      "Length: 1663, dtype: object\n"
     ]
    }
   ],
   "source": [
    "print(reting_reg_df4.dtypes)"
   ]
  },
  {
   "cell_type": "code",
   "execution_count": 33,
   "id": "669c8194-234c-4976-8c12-b975a897b435",
   "metadata": {},
   "outputs": [
    {
     "data": {
      "text/plain": [
       "(19430, 1509)"
      ]
     },
     "execution_count": 33,
     "metadata": {},
     "output_type": "execute_result"
    }
   ],
   "source": [
    "reting_reg_df4.shape"
   ]
  },
  {
   "cell_type": "code",
   "execution_count": 37,
   "id": "9ea0cbd9-0a8a-43ad-b9b7-a013fa045660",
   "metadata": {
    "scrolled": true
   },
   "outputs": [],
   "source": [
    "reting_reg_df4.to_stata(os.path.join(const.OUTPUT_PATH, '20241101_cc_rating_reg_data_v2.dta'), \n",
    "                        write_index=False, version=119)"
   ]
  },
  {
   "cell_type": "code",
   "execution_count": 27,
   "id": "156fb436-f8a8-4c92-b3a6-2d6ae9c271c8",
   "metadata": {},
   "outputs": [
    {
     "data": {
      "text/plain": [
       "dtype('float32')"
      ]
     },
     "execution_count": 27,
     "metadata": {},
     "output_type": "execute_result"
    }
   ],
   "source": [
    "reting_reg_df4[col].dtype"
   ]
  },
  {
   "cell_type": "code",
   "execution_count": 31,
   "id": "ba4cf794-b416-40ea-b2c7-7c2c6ed434cb",
   "metadata": {},
   "outputs": [
    {
     "name": "stdout",
     "output_type": "stream",
     "text": [
      "Columns with unsupported data types or mixed types: ['DeclareDate', 'LongTermRating', 'RatingProspect', 'RatingInstitution', 'shortname', 'indcd', 'industrycode', 'prci', 'city', 'accper', 'typrep', 'reptdt', 'annodt', 'y0801b', 'y0901b', 'y1901b', 'enddate', 'largestholder', 'actualcontrollername', 'actualcontrollernatureid', 'sharesnature', 'equitynature', 'equitynatureid', 'hierarchy', 'founder', 'originator', 'auditdate', 'typeauditopin', 'auditor', 'territoryaccountingfirm', 'outsideaccountingfirm', 'territoryauditfeecurrency', 'outsideauditfeecurrency', 'otherfeecurrencycode', 'totalcurrencycode', 'nonstandexplai', 'auditfeedirec', 'industryname', 'stknmec', 'companyopacity', 'csr等级', 'csr技术创新理念', 'csr员工培训', 'csr安全检查', 'csr安全培训', 'csr慰问意识', 'csr慰问人', 'csr慰问金', 'csr质量管理意识', 'csr质量管理体系证书', 'csr客户满意度调查', 'csr供应商公平竞争', 'csr反商业贿赂培训', 'csr环保意识', 'csr环境管理体系认证', 'zipcode', 'secretary', 'secretarytel', 'secretaryfax', 'secretaryemail', 'securityconsultant', 'socialcreditcode', 'sigchange', 'isin', 'fullname', 'legalrepresentative', 'establishdate', 'crcd', 'website', 'email', 'listingdate', 'province', 'listingstate', 'coname', 'coname_cn', 'prvn', 'pftn', 'cont', 'indusa', 'indcodea', 'indusb', 'indcodeb', 'shortname_l', 'indcd_l', 'industrycode_l', 'prci_l', 'city_l', 'accper_l', 'typrep_l', 'reptdt_l', 'annodt_l', 'y0801b_l', 'y0901b_l', 'y1901b_l', 'enddate_l', 'largestholder_l', 'actualcontrollername_l', 'actualcontrollernatureid_l', 'sharesnature_l', 'equitynature_l', 'equitynatureid_l', 'hierarchy_l', 'founder_l', 'originator_l', 'auditdate_l', 'typeauditopin_l', 'auditor_l', 'territoryaccountingfirm_l', 'outsideaccountingfirm_l', 'territoryauditfeecurrency_l', 'outsideauditfeecurrency_l', 'otherfeecurrencycode_l', 'totalcurrencycode_l', 'nonstandexplai_l', 'auditfeedirec_l', 'industryname_l', 'stknmec_l', 'companyopacity_l', 'csr等级_l', 'csr技术创新理念_l', 'csr员工培训_l', 'csr安全检查_l', 'csr安全培训_l', 'csr慰问意识_l', 'csr慰问人_l', 'csr慰问金_l', 'csr质量管理意识_l', 'csr质量管理体系证书_l', 'csr客户满意度调查_l', 'csr供应商公平竞争_l', 'csr反商业贿赂培训_l', 'csr环保意识_l', 'csr环境管理体系认证_l', 'zipcode_l', 'secretary_l', 'secretarytel_l', 'secretaryfax_l', 'secretaryemail_l', 'securityconsultant_l', 'socialcreditcode_l', 'sigchange_l', 'isin_l', 'fullname_l', 'legalrepresentative_l', 'establishdate_l', 'crcd_l', 'website_l', 'email_l', 'listingdate_l', 'province_l', 'listingstate_l', 'coname_l', 'coname_cn_l', 'prvn_l', 'pftn_l', 'cont_l', 'indusa_l', 'indcodea_l', 'indusb_l', 'indcodeb_l']\n"
     ]
    }
   ],
   "source": [
    "# Find columns with unsupported data types (e.g., object type but not pure strings)\n",
    "unsupported_columns = []\n",
    "\n",
    "for col in reting_reg_df4.columns:\n",
    "    # Check if the column has unsupported data types\n",
    "    if reting_reg_df4[col].dtype == object:\n",
    "        unsupported_columns.append(col)\n",
    "\n",
    "# Display the columns with unsupported data types or mixed content in string columns\n",
    "print(\"Columns with unsupported data types or mixed types:\", unsupported_columns)"
   ]
  },
  {
   "metadata": {},
   "cell_type": "markdown",
   "source": [
    "# Merge Foreign Related data\n",
    "## step 1 operation revenue"
   ],
   "id": "d8568e96731a67c1"
  },
  {
   "metadata": {
    "ExecuteTime": {
     "end_time": "2024-11-02T00:13:08.323790Z",
     "start_time": "2024-11-02T00:12:58.100175Z"
    }
   },
   "cell_type": "code",
   "source": [
    "with zipfile.ZipFile(os.path.join(const.CSMAR_PATH, '海外直接投资', '海外业务收入表.zip'), 'r') as zip_ref:\n",
    "    with zip_ref.open('OFDI_OPERATEINCOME.xlsx') as excel_file:\n",
    "        ofdi_opeartion_df: DataFrame = pd.read_excel(excel_file)"
   ],
   "id": "e286faf23298a84c",
   "outputs": [
    {
     "name": "stderr",
     "output_type": "stream",
     "text": [
      "D:\\Users\\wangy\\anaconda3\\Lib\\site-packages\\openpyxl\\styles\\stylesheet.py:237: UserWarning: Workbook contains no default style, apply openpyxl's default\n",
      "  warn(\"Workbook contains no default style, apply openpyxl's default\")\n"
     ]
    }
   ],
   "execution_count": 3
  },
  {
   "metadata": {
    "ExecuteTime": {
     "end_time": "2024-11-02T00:14:59.924759Z",
     "start_time": "2024-11-02T00:14:59.907504Z"
    }
   },
   "cell_type": "code",
   "source": [
    "ofdi_opeartion_df = ofdi_opeartion_df.iloc[2:]\n",
    "ofdi_opeartion_df['EndDate'] = pd.to_datetime(ofdi_opeartion_df['EndDate'])"
   ],
   "id": "f54e8b9d9b9ad812",
   "outputs": [],
   "execution_count": 5
  },
  {
   "metadata": {
    "ExecuteTime": {
     "end_time": "2024-11-02T00:15:36.372132Z",
     "start_time": "2024-11-02T00:15:36.355624Z"
    }
   },
   "cell_type": "code",
   "source": [
    "ofdi_opeartion_df[const.YEAR] = ofdi_opeartion_df['EndDate'].dt.year\n",
    "ofdi_opeartion_df[const.TICKER] = ofdi_opeartion_df['Symbol'].astype(int)"
   ],
   "id": "633eec634f3a05",
   "outputs": [],
   "execution_count": 6
  },
  {
   "metadata": {
    "ExecuteTime": {
     "end_time": "2024-11-02T00:20:38.222467Z",
     "start_time": "2024-11-02T00:20:38.186722Z"
    }
   },
   "cell_type": "code",
   "source": [
    "for key in ['Earnings', 'EarningsProportion', 'Costs', 'GrossMargin', 'GrossMarginProportion', 'GrossMarginRate']:\n",
    "    ofdi_opeartion_df[key] = pd.to_numeric(ofdi_opeartion_df[key])"
   ],
   "id": "82fa53d4bac066a",
   "outputs": [],
   "execution_count": 17
  },
  {
   "metadata": {
    "ExecuteTime": {
     "end_time": "2024-11-02T00:20:40.518910Z",
     "start_time": "2024-11-02T00:20:40.492464Z"
    }
   },
   "cell_type": "code",
   "source": [
    "earning_cost = ofdi_opeartion_df.groupby([const.TICKER, const.YEAR])[['Earnings', 'EarningsProportion', 'Costs', \n",
    "                                                                      'GrossMargin', 'GrossMarginProportion']].sum()\n",
    "profit_margin = ofdi_opeartion_df.groupby([const.TICKER, const.YEAR])[['GrossMarginRate']].mean()\n",
    "ofdi_op_df: DataFrame = earning_cost.merge(profit_margin, left_index=True, right_index=True).reset_index(drop=False)"
   ],
   "id": "9e6cefddbad8f51b",
   "outputs": [],
   "execution_count": 18
  },
  {
   "metadata": {
    "ExecuteTime": {
     "end_time": "2024-11-02T00:22:15.422842Z",
     "start_time": "2024-11-02T00:22:15.416778Z"
    }
   },
   "cell_type": "code",
   "source": [
    "for key in ['Earnings', 'EarningsProportion', 'Costs', 'GrossMargin', 'GrossMarginProportion', 'GrossMarginRate']:\n",
    "    ofdi_op_df.loc[ofdi_op_df[key].notnull(), key] = winsorize(ofdi_op_df[key].dropna(), limits=(0.005, 0.005))"
   ],
   "id": "5b6f9f00c8081fc7",
   "outputs": [
    {
     "ename": "SyntaxError",
     "evalue": "invalid syntax (202694357.py, line 2)",
     "output_type": "error",
     "traceback": [
      "\u001B[1;36m  Cell \u001B[1;32mIn[22], line 2\u001B[1;36m\u001B[0m\n\u001B[1;33m    ofdi_op_df.loc[ofdi_op_df[key].notnull(), key] = winsorize(ofdi_op_df[key].dropna(), limits=(0.005, 0.005))b\u001B[0m\n\u001B[1;37m                                                                                                               ^\u001B[0m\n\u001B[1;31mSyntaxError\u001B[0m\u001B[1;31m:\u001B[0m invalid syntax\n"
     ]
    }
   ],
   "execution_count": 22
  },
  {
   "metadata": {
    "ExecuteTime": {
     "end_time": "2024-11-02T00:22:26.357941Z",
     "start_time": "2024-11-02T00:22:26.339166Z"
    }
   },
   "cell_type": "code",
   "source": "ofdi_op_df.describe()",
   "id": "5257fa8d8170069a",
   "outputs": [
    {
     "data": {
      "text/plain": [
       "                 tic          year      Earnings  EarningsProportion  \\\n",
       "count   27234.000000  27234.000000  2.723400e+04        27234.000000   \n",
       "mean   303135.966916   2016.994933  3.171992e+09           54.441355   \n",
       "std    274391.891038      4.821072  1.024779e+10           67.633947   \n",
       "min         1.000000   2003.000000  1.221584e+05            0.003600   \n",
       "25%      2365.250000   2014.000000  1.127073e+08            7.169475   \n",
       "50%    300315.000000   2018.000000  5.187112e+08           28.546950   \n",
       "75%    600601.000000   2021.000000  1.841511e+09           76.298900   \n",
       "max    900956.000000   2023.000000  9.623320e+10          359.411000   \n",
       "\n",
       "              Costs   GrossMargin  GrossMarginProportion  GrossMarginRate  \n",
       "count  2.723400e+04  2.723400e+04           27234.000000     18350.000000  \n",
       "mean   1.529349e+09  3.220780e+08              32.761380        25.376294  \n",
       "std    5.846688e+09  1.150797e+09              61.410259        20.609258  \n",
       "min    0.000000e+00 -8.890504e+07             -48.879800       -66.280800  \n",
       "25%    0.000000e+00  0.000000e+00               0.000000        12.652579  \n",
       "50%    8.299729e+07  2.232888e+07               5.514950        22.267067  \n",
       "75%    6.569451e+08  1.748629e+08              39.641875        34.938875  \n",
       "max    5.645614e+10  1.153920e+10             365.204300        97.946500  "
      ],
      "text/html": [
       "<div>\n",
       "<style scoped>\n",
       "    .dataframe tbody tr th:only-of-type {\n",
       "        vertical-align: middle;\n",
       "    }\n",
       "\n",
       "    .dataframe tbody tr th {\n",
       "        vertical-align: top;\n",
       "    }\n",
       "\n",
       "    .dataframe thead th {\n",
       "        text-align: right;\n",
       "    }\n",
       "</style>\n",
       "<table border=\"1\" class=\"dataframe\">\n",
       "  <thead>\n",
       "    <tr style=\"text-align: right;\">\n",
       "      <th></th>\n",
       "      <th>tic</th>\n",
       "      <th>year</th>\n",
       "      <th>Earnings</th>\n",
       "      <th>EarningsProportion</th>\n",
       "      <th>Costs</th>\n",
       "      <th>GrossMargin</th>\n",
       "      <th>GrossMarginProportion</th>\n",
       "      <th>GrossMarginRate</th>\n",
       "    </tr>\n",
       "  </thead>\n",
       "  <tbody>\n",
       "    <tr>\n",
       "      <th>count</th>\n",
       "      <td>27234.000000</td>\n",
       "      <td>27234.000000</td>\n",
       "      <td>2.723400e+04</td>\n",
       "      <td>27234.000000</td>\n",
       "      <td>2.723400e+04</td>\n",
       "      <td>2.723400e+04</td>\n",
       "      <td>27234.000000</td>\n",
       "      <td>18350.000000</td>\n",
       "    </tr>\n",
       "    <tr>\n",
       "      <th>mean</th>\n",
       "      <td>303135.966916</td>\n",
       "      <td>2016.994933</td>\n",
       "      <td>3.171992e+09</td>\n",
       "      <td>54.441355</td>\n",
       "      <td>1.529349e+09</td>\n",
       "      <td>3.220780e+08</td>\n",
       "      <td>32.761380</td>\n",
       "      <td>25.376294</td>\n",
       "    </tr>\n",
       "    <tr>\n",
       "      <th>std</th>\n",
       "      <td>274391.891038</td>\n",
       "      <td>4.821072</td>\n",
       "      <td>1.024779e+10</td>\n",
       "      <td>67.633947</td>\n",
       "      <td>5.846688e+09</td>\n",
       "      <td>1.150797e+09</td>\n",
       "      <td>61.410259</td>\n",
       "      <td>20.609258</td>\n",
       "    </tr>\n",
       "    <tr>\n",
       "      <th>min</th>\n",
       "      <td>1.000000</td>\n",
       "      <td>2003.000000</td>\n",
       "      <td>1.221584e+05</td>\n",
       "      <td>0.003600</td>\n",
       "      <td>0.000000e+00</td>\n",
       "      <td>-8.890504e+07</td>\n",
       "      <td>-48.879800</td>\n",
       "      <td>-66.280800</td>\n",
       "    </tr>\n",
       "    <tr>\n",
       "      <th>25%</th>\n",
       "      <td>2365.250000</td>\n",
       "      <td>2014.000000</td>\n",
       "      <td>1.127073e+08</td>\n",
       "      <td>7.169475</td>\n",
       "      <td>0.000000e+00</td>\n",
       "      <td>0.000000e+00</td>\n",
       "      <td>0.000000</td>\n",
       "      <td>12.652579</td>\n",
       "    </tr>\n",
       "    <tr>\n",
       "      <th>50%</th>\n",
       "      <td>300315.000000</td>\n",
       "      <td>2018.000000</td>\n",
       "      <td>5.187112e+08</td>\n",
       "      <td>28.546950</td>\n",
       "      <td>8.299729e+07</td>\n",
       "      <td>2.232888e+07</td>\n",
       "      <td>5.514950</td>\n",
       "      <td>22.267067</td>\n",
       "    </tr>\n",
       "    <tr>\n",
       "      <th>75%</th>\n",
       "      <td>600601.000000</td>\n",
       "      <td>2021.000000</td>\n",
       "      <td>1.841511e+09</td>\n",
       "      <td>76.298900</td>\n",
       "      <td>6.569451e+08</td>\n",
       "      <td>1.748629e+08</td>\n",
       "      <td>39.641875</td>\n",
       "      <td>34.938875</td>\n",
       "    </tr>\n",
       "    <tr>\n",
       "      <th>max</th>\n",
       "      <td>900956.000000</td>\n",
       "      <td>2023.000000</td>\n",
       "      <td>9.623320e+10</td>\n",
       "      <td>359.411000</td>\n",
       "      <td>5.645614e+10</td>\n",
       "      <td>1.153920e+10</td>\n",
       "      <td>365.204300</td>\n",
       "      <td>97.946500</td>\n",
       "    </tr>\n",
       "  </tbody>\n",
       "</table>\n",
       "</div>"
      ]
     },
     "execution_count": 23,
     "metadata": {},
     "output_type": "execute_result"
    }
   ],
   "execution_count": 23
  },
  {
   "metadata": {},
   "cell_type": "markdown",
   "source": "## append share structure",
   "id": "3ff57aa448a41512"
  },
  {
   "metadata": {
    "ExecuteTime": {
     "end_time": "2024-11-02T01:16:31.480642Z",
     "start_time": "2024-11-02T01:16:24.430648Z"
    }
   },
   "cell_type": "code",
   "source": [
    "with zipfile.ZipFile(os.path.join(const.CSMAR_PATH, '海外直接投资', '股权信息表.zip'), 'r') as zip_ref:\n",
    "    with zip_ref.open('OFDI_LISTSTKRIGHT.xlsx') as excel_file:\n",
    "        ofdi_ownership_df: DataFrame = pd.read_excel(excel_file)"
   ],
   "id": "3955c1d73c1c1d5f",
   "outputs": [
    {
     "name": "stderr",
     "output_type": "stream",
     "text": [
      "D:\\Users\\wangy\\anaconda3\\Lib\\site-packages\\openpyxl\\styles\\stylesheet.py:237: UserWarning: Workbook contains no default style, apply openpyxl's default\n",
      "  warn(\"Workbook contains no default style, apply openpyxl's default\")\n"
     ]
    }
   ],
   "execution_count": 25
  },
  {
   "metadata": {
    "ExecuteTime": {
     "end_time": "2024-11-02T01:17:17.774355Z",
     "start_time": "2024-11-02T01:17:17.761663Z"
    }
   },
   "cell_type": "code",
   "source": "ofdi_ownership_df.head()",
   "id": "5bdef95a2b83721",
   "outputs": [
    {
     "data": {
      "text/plain": [
       "   Symbol ShortName     EndDate EnterpriseAge TotNumShares NonTradableShares  \\\n",
       "0    证券代码      证券简称      统计截止日期          企业年龄          总股数            未流通股股数   \n",
       "1    没有单位      没有单位        没有单位          没有单位         没有单位              没有单位   \n",
       "2  000001      平安银行  2003-12-31            16   1945822149         536460184   \n",
       "3  000001      平安银行  2004-12-31            17   1945822149         536460184   \n",
       "4  000001      平安银行  2005-12-31            18   1945822149         536460184   \n",
       "\n",
       "  LockShares TradeShares  Zindex     Herfindahl5     Herfindahl10  \\\n",
       "0    限售流通股股数      已流通股股数     Z指数  Herfindahl_5指数  Herfindahl_10指数   \n",
       "1       没有单位        没有单位    没有单位            没有单位             没有单位   \n",
       "2          0  1409361965  1.0653        0.000058         0.000066   \n",
       "3        NaN  1409361965  1.0111        0.000059         0.000082   \n",
       "4        NaN  1409361965  1.7563        0.000121         0.000153   \n",
       "\n",
       "  InsInvestorProp StatesharesProp ForeignInvestorProp BalanceIndicators  \\\n",
       "0       机构投资者持股比例         国有股持股比例           境外投资者持股比例            股权制衡指标   \n",
       "1            没有单位            没有单位                没有单位              没有单位   \n",
       "2         26.6754            7.08                 NaN            2.0805   \n",
       "3         27.8712               4               17.89            0.3924   \n",
       "4         29.5501             3.2               17.89             0.393   \n",
       "\n",
       "  TotalNumSectoFifth ShareholderFirstProp  \n",
       "0   其中：第2-5大股东持股比例合计         其中：第一大股东持股比例  \n",
       "1               没有单位                 没有单位  \n",
       "2              14.73                 7.08  \n",
       "3               7.02                17.89  \n",
       "4               7.03                17.89  "
      ],
      "text/html": [
       "<div>\n",
       "<style scoped>\n",
       "    .dataframe tbody tr th:only-of-type {\n",
       "        vertical-align: middle;\n",
       "    }\n",
       "\n",
       "    .dataframe tbody tr th {\n",
       "        vertical-align: top;\n",
       "    }\n",
       "\n",
       "    .dataframe thead th {\n",
       "        text-align: right;\n",
       "    }\n",
       "</style>\n",
       "<table border=\"1\" class=\"dataframe\">\n",
       "  <thead>\n",
       "    <tr style=\"text-align: right;\">\n",
       "      <th></th>\n",
       "      <th>Symbol</th>\n",
       "      <th>ShortName</th>\n",
       "      <th>EndDate</th>\n",
       "      <th>EnterpriseAge</th>\n",
       "      <th>TotNumShares</th>\n",
       "      <th>NonTradableShares</th>\n",
       "      <th>LockShares</th>\n",
       "      <th>TradeShares</th>\n",
       "      <th>Zindex</th>\n",
       "      <th>Herfindahl5</th>\n",
       "      <th>Herfindahl10</th>\n",
       "      <th>InsInvestorProp</th>\n",
       "      <th>StatesharesProp</th>\n",
       "      <th>ForeignInvestorProp</th>\n",
       "      <th>BalanceIndicators</th>\n",
       "      <th>TotalNumSectoFifth</th>\n",
       "      <th>ShareholderFirstProp</th>\n",
       "    </tr>\n",
       "  </thead>\n",
       "  <tbody>\n",
       "    <tr>\n",
       "      <th>0</th>\n",
       "      <td>证券代码</td>\n",
       "      <td>证券简称</td>\n",
       "      <td>统计截止日期</td>\n",
       "      <td>企业年龄</td>\n",
       "      <td>总股数</td>\n",
       "      <td>未流通股股数</td>\n",
       "      <td>限售流通股股数</td>\n",
       "      <td>已流通股股数</td>\n",
       "      <td>Z指数</td>\n",
       "      <td>Herfindahl_5指数</td>\n",
       "      <td>Herfindahl_10指数</td>\n",
       "      <td>机构投资者持股比例</td>\n",
       "      <td>国有股持股比例</td>\n",
       "      <td>境外投资者持股比例</td>\n",
       "      <td>股权制衡指标</td>\n",
       "      <td>其中：第2-5大股东持股比例合计</td>\n",
       "      <td>其中：第一大股东持股比例</td>\n",
       "    </tr>\n",
       "    <tr>\n",
       "      <th>1</th>\n",
       "      <td>没有单位</td>\n",
       "      <td>没有单位</td>\n",
       "      <td>没有单位</td>\n",
       "      <td>没有单位</td>\n",
       "      <td>没有单位</td>\n",
       "      <td>没有单位</td>\n",
       "      <td>没有单位</td>\n",
       "      <td>没有单位</td>\n",
       "      <td>没有单位</td>\n",
       "      <td>没有单位</td>\n",
       "      <td>没有单位</td>\n",
       "      <td>没有单位</td>\n",
       "      <td>没有单位</td>\n",
       "      <td>没有单位</td>\n",
       "      <td>没有单位</td>\n",
       "      <td>没有单位</td>\n",
       "      <td>没有单位</td>\n",
       "    </tr>\n",
       "    <tr>\n",
       "      <th>2</th>\n",
       "      <td>000001</td>\n",
       "      <td>平安银行</td>\n",
       "      <td>2003-12-31</td>\n",
       "      <td>16</td>\n",
       "      <td>1945822149</td>\n",
       "      <td>536460184</td>\n",
       "      <td>0</td>\n",
       "      <td>1409361965</td>\n",
       "      <td>1.0653</td>\n",
       "      <td>0.000058</td>\n",
       "      <td>0.000066</td>\n",
       "      <td>26.6754</td>\n",
       "      <td>7.08</td>\n",
       "      <td>NaN</td>\n",
       "      <td>2.0805</td>\n",
       "      <td>14.73</td>\n",
       "      <td>7.08</td>\n",
       "    </tr>\n",
       "    <tr>\n",
       "      <th>3</th>\n",
       "      <td>000001</td>\n",
       "      <td>平安银行</td>\n",
       "      <td>2004-12-31</td>\n",
       "      <td>17</td>\n",
       "      <td>1945822149</td>\n",
       "      <td>536460184</td>\n",
       "      <td>NaN</td>\n",
       "      <td>1409361965</td>\n",
       "      <td>1.0111</td>\n",
       "      <td>0.000059</td>\n",
       "      <td>0.000082</td>\n",
       "      <td>27.8712</td>\n",
       "      <td>4</td>\n",
       "      <td>17.89</td>\n",
       "      <td>0.3924</td>\n",
       "      <td>7.02</td>\n",
       "      <td>17.89</td>\n",
       "    </tr>\n",
       "    <tr>\n",
       "      <th>4</th>\n",
       "      <td>000001</td>\n",
       "      <td>平安银行</td>\n",
       "      <td>2005-12-31</td>\n",
       "      <td>18</td>\n",
       "      <td>1945822149</td>\n",
       "      <td>536460184</td>\n",
       "      <td>NaN</td>\n",
       "      <td>1409361965</td>\n",
       "      <td>1.7563</td>\n",
       "      <td>0.000121</td>\n",
       "      <td>0.000153</td>\n",
       "      <td>29.5501</td>\n",
       "      <td>3.2</td>\n",
       "      <td>17.89</td>\n",
       "      <td>0.393</td>\n",
       "      <td>7.03</td>\n",
       "      <td>17.89</td>\n",
       "    </tr>\n",
       "  </tbody>\n",
       "</table>\n",
       "</div>"
      ]
     },
     "execution_count": 28,
     "metadata": {},
     "output_type": "execute_result"
    }
   ],
   "execution_count": 28
  },
  {
   "metadata": {
    "ExecuteTime": {
     "end_time": "2024-11-02T01:21:47.096060Z",
     "start_time": "2024-11-02T01:21:47.063538Z"
    }
   },
   "cell_type": "code",
   "source": [
    "# ofdi_ownership_df = ofdi_ownership_df.iloc[2:]\n",
    "ofdi_ownership_df['EndDate'] = pd.to_datetime(ofdi_ownership_df['EndDate'])\n",
    "ofdi_ownership_df[const.YEAR] = ofdi_ownership_df['EndDate'].dt.year\n",
    "ofdi_ownership_df[const.TICKER] = ofdi_ownership_df['Symbol'].astype(int)\n",
    "ofdi_ownership_df['ForeignInvestorProp'] = pd.to_numeric(ofdi_ownership_df['ForeignInvestorProp'])\n",
    "ofdi_ownership_df['StatesharesProp'] = pd.to_numeric(ofdi_ownership_df['StatesharesProp'])\n",
    "ofdi_ownership_df['InsInvestorProp'] = pd.to_numeric(ofdi_ownership_df['InsInvestorProp'])"
   ],
   "id": "cd93e381f04e7963",
   "outputs": [
    {
     "name": "stderr",
     "output_type": "stream",
     "text": [
      "C:\\Users\\wangy\\AppData\\Local\\Temp\\ipykernel_26204\\1618070116.py:2: SettingWithCopyWarning: \n",
      "A value is trying to be set on a copy of a slice from a DataFrame.\n",
      "Try using .loc[row_indexer,col_indexer] = value instead\n",
      "\n",
      "See the caveats in the documentation: https://pandas.pydata.org/pandas-docs/stable/user_guide/indexing.html#returning-a-view-versus-a-copy\n",
      "  ofdi_ownership_df['EndDate'] = pd.to_datetime(ofdi_ownership_df['EndDate'])\n",
      "C:\\Users\\wangy\\AppData\\Local\\Temp\\ipykernel_26204\\1618070116.py:3: SettingWithCopyWarning: \n",
      "A value is trying to be set on a copy of a slice from a DataFrame.\n",
      "Try using .loc[row_indexer,col_indexer] = value instead\n",
      "\n",
      "See the caveats in the documentation: https://pandas.pydata.org/pandas-docs/stable/user_guide/indexing.html#returning-a-view-versus-a-copy\n",
      "  ofdi_ownership_df[const.YEAR] = ofdi_ownership_df['EndDate'].dt.year\n",
      "C:\\Users\\wangy\\AppData\\Local\\Temp\\ipykernel_26204\\1618070116.py:4: SettingWithCopyWarning: \n",
      "A value is trying to be set on a copy of a slice from a DataFrame.\n",
      "Try using .loc[row_indexer,col_indexer] = value instead\n",
      "\n",
      "See the caveats in the documentation: https://pandas.pydata.org/pandas-docs/stable/user_guide/indexing.html#returning-a-view-versus-a-copy\n",
      "  ofdi_ownership_df[const.TICKER] = ofdi_ownership_df['Symbol'].astype(int)\n",
      "C:\\Users\\wangy\\AppData\\Local\\Temp\\ipykernel_26204\\1618070116.py:5: SettingWithCopyWarning: \n",
      "A value is trying to be set on a copy of a slice from a DataFrame.\n",
      "Try using .loc[row_indexer,col_indexer] = value instead\n",
      "\n",
      "See the caveats in the documentation: https://pandas.pydata.org/pandas-docs/stable/user_guide/indexing.html#returning-a-view-versus-a-copy\n",
      "  ofdi_ownership_df['ForeignInvestorProp'] = pd.to_numeric(ofdi_ownership_df['ForeignInvestorProp'])\n",
      "C:\\Users\\wangy\\AppData\\Local\\Temp\\ipykernel_26204\\1618070116.py:6: SettingWithCopyWarning: \n",
      "A value is trying to be set on a copy of a slice from a DataFrame.\n",
      "Try using .loc[row_indexer,col_indexer] = value instead\n",
      "\n",
      "See the caveats in the documentation: https://pandas.pydata.org/pandas-docs/stable/user_guide/indexing.html#returning-a-view-versus-a-copy\n",
      "  ofdi_ownership_df['StatesharesProp'] = pd.to_numeric(ofdi_ownership_df['StatesharesProp'])\n",
      "C:\\Users\\wangy\\AppData\\Local\\Temp\\ipykernel_26204\\1618070116.py:7: SettingWithCopyWarning: \n",
      "A value is trying to be set on a copy of a slice from a DataFrame.\n",
      "Try using .loc[row_indexer,col_indexer] = value instead\n",
      "\n",
      "See the caveats in the documentation: https://pandas.pydata.org/pandas-docs/stable/user_guide/indexing.html#returning-a-view-versus-a-copy\n",
      "  ofdi_ownership_df['InsInvestorProp'] = pd.to_numeric(ofdi_ownership_df['InsInvestorProp'])\n"
     ]
    }
   ],
   "execution_count": 31
  },
  {
   "metadata": {
    "ExecuteTime": {
     "end_time": "2024-11-02T01:51:03.155369Z",
     "start_time": "2024-11-02T01:51:03.134958Z"
    }
   },
   "cell_type": "code",
   "source": [
    "ofdi_df: DataFrame = ofdi_op_df.merge(ofdi_ownership_df[[const.TICKER, const.YEAR, 'InsInvestorProp', 'StatesharesProp', 'ForeignInvestorProp']], \n",
    "                                      on=[const.TICKER, const.YEAR], how='outer')"
   ],
   "id": "edd85ff0465a7321",
   "outputs": [],
   "execution_count": 42
  },
  {
   "metadata": {},
   "cell_type": "markdown",
   "source": "## Count foreign firms number",
   "id": "c673e1aa2cc9350a"
  },
  {
   "metadata": {
    "ExecuteTime": {
     "end_time": "2024-11-02T01:40:33.460184Z",
     "start_time": "2024-11-02T01:40:05.906440Z"
    }
   },
   "cell_type": "code",
   "source": [
    "with zipfile.ZipFile(os.path.join(const.CSMAR_PATH, '海外直接投资', '海外关联公司表.zip'), 'r') as zip_ref:\n",
    "    with zip_ref.open('OFDI_AFFCOMPINFO.xlsx') as excel_file:\n",
    "        ofdi_subfirm_df: DataFrame = pd.read_excel(excel_file).iloc[2:]"
   ],
   "id": "62c28b6be16455e5",
   "outputs": [
    {
     "name": "stderr",
     "output_type": "stream",
     "text": [
      "D:\\Users\\wangy\\anaconda3\\Lib\\site-packages\\openpyxl\\styles\\stylesheet.py:237: UserWarning: Workbook contains no default style, apply openpyxl's default\n",
      "  warn(\"Workbook contains no default style, apply openpyxl's default\")\n"
     ]
    }
   ],
   "execution_count": 34
  },
  {
   "metadata": {
    "ExecuteTime": {
     "end_time": "2024-11-02T01:41:10.938813Z",
     "start_time": "2024-11-02T01:41:10.923678Z"
    }
   },
   "cell_type": "code",
   "source": "ofdi_subfirm_df.head()",
   "id": "a43b06097971867e",
   "outputs": [
    {
     "data": {
      "text/plain": [
       "   Symbol ShortName     EndDate    RalatedParty RelationshipID  \\\n",
       "2  000002       万科A  1999-12-31      永达中国投资有限公司              1   \n",
       "3  000002       万科A  1999-12-31        万科影视有限公司              1   \n",
       "4  000002       万科A  1999-12-31      万科中国投资有限公司              1   \n",
       "5  000002       万科A  1999-12-31  万科企业股份有限公司美国公司              1   \n",
       "6  000002       万科A  2000-12-31      永达中国投资有限公司              1   \n",
       "\n",
       "  RegisterCapital BusinessScope RegisterAddress CountryName IsBRCountry  ...  \\\n",
       "2           10000            投资              香港        中国香港           0  ...   \n",
       "3           50000            投资              香港        中国香港           0  ...   \n",
       "4           50000            投资              香港        中国香港           0  ...   \n",
       "5          100000            商贸              美国          美国           0  ...   \n",
       "6           10000            投资             NaN        中国香港           0  ...   \n",
       "\n",
       "  DirectHoldingRatio IndirectHoldingRatio TotalHoldingRatio TotalAssets  \\\n",
       "2                100                  NaN               100         NaN   \n",
       "3                NaN                  100               100         NaN   \n",
       "4                NaN                  100               100         NaN   \n",
       "5                100                  NaN               100         NaN   \n",
       "6                100                  NaN               100         NaN   \n",
       "\n",
       "  OperatingEvenue NetProfit TotalCost CorporateIncomeTax IsExit       Currency  \n",
       "2             NaN       NaN       NaN                NaN    NaN  注册资本HKD；其他CNY  \n",
       "3             NaN       NaN       NaN                NaN    NaN  注册资本HKD；其他CNY  \n",
       "4             NaN       NaN       NaN                NaN    NaN  注册资本HKD；其他CNY  \n",
       "5             NaN       NaN       NaN                NaN    NaN  注册资本USD；其他CNY  \n",
       "6             NaN       NaN       NaN                NaN    NaN  注册资本HKD；其他CNY  \n",
       "\n",
       "[5 rows x 22 columns]"
      ],
      "text/html": [
       "<div>\n",
       "<style scoped>\n",
       "    .dataframe tbody tr th:only-of-type {\n",
       "        vertical-align: middle;\n",
       "    }\n",
       "\n",
       "    .dataframe tbody tr th {\n",
       "        vertical-align: top;\n",
       "    }\n",
       "\n",
       "    .dataframe thead th {\n",
       "        text-align: right;\n",
       "    }\n",
       "</style>\n",
       "<table border=\"1\" class=\"dataframe\">\n",
       "  <thead>\n",
       "    <tr style=\"text-align: right;\">\n",
       "      <th></th>\n",
       "      <th>Symbol</th>\n",
       "      <th>ShortName</th>\n",
       "      <th>EndDate</th>\n",
       "      <th>RalatedParty</th>\n",
       "      <th>RelationshipID</th>\n",
       "      <th>RegisterCapital</th>\n",
       "      <th>BusinessScope</th>\n",
       "      <th>RegisterAddress</th>\n",
       "      <th>CountryName</th>\n",
       "      <th>IsBRCountry</th>\n",
       "      <th>...</th>\n",
       "      <th>DirectHoldingRatio</th>\n",
       "      <th>IndirectHoldingRatio</th>\n",
       "      <th>TotalHoldingRatio</th>\n",
       "      <th>TotalAssets</th>\n",
       "      <th>OperatingEvenue</th>\n",
       "      <th>NetProfit</th>\n",
       "      <th>TotalCost</th>\n",
       "      <th>CorporateIncomeTax</th>\n",
       "      <th>IsExit</th>\n",
       "      <th>Currency</th>\n",
       "    </tr>\n",
       "  </thead>\n",
       "  <tbody>\n",
       "    <tr>\n",
       "      <th>2</th>\n",
       "      <td>000002</td>\n",
       "      <td>万科A</td>\n",
       "      <td>1999-12-31</td>\n",
       "      <td>永达中国投资有限公司</td>\n",
       "      <td>1</td>\n",
       "      <td>10000</td>\n",
       "      <td>投资</td>\n",
       "      <td>香港</td>\n",
       "      <td>中国香港</td>\n",
       "      <td>0</td>\n",
       "      <td>...</td>\n",
       "      <td>100</td>\n",
       "      <td>NaN</td>\n",
       "      <td>100</td>\n",
       "      <td>NaN</td>\n",
       "      <td>NaN</td>\n",
       "      <td>NaN</td>\n",
       "      <td>NaN</td>\n",
       "      <td>NaN</td>\n",
       "      <td>NaN</td>\n",
       "      <td>注册资本HKD；其他CNY</td>\n",
       "    </tr>\n",
       "    <tr>\n",
       "      <th>3</th>\n",
       "      <td>000002</td>\n",
       "      <td>万科A</td>\n",
       "      <td>1999-12-31</td>\n",
       "      <td>万科影视有限公司</td>\n",
       "      <td>1</td>\n",
       "      <td>50000</td>\n",
       "      <td>投资</td>\n",
       "      <td>香港</td>\n",
       "      <td>中国香港</td>\n",
       "      <td>0</td>\n",
       "      <td>...</td>\n",
       "      <td>NaN</td>\n",
       "      <td>100</td>\n",
       "      <td>100</td>\n",
       "      <td>NaN</td>\n",
       "      <td>NaN</td>\n",
       "      <td>NaN</td>\n",
       "      <td>NaN</td>\n",
       "      <td>NaN</td>\n",
       "      <td>NaN</td>\n",
       "      <td>注册资本HKD；其他CNY</td>\n",
       "    </tr>\n",
       "    <tr>\n",
       "      <th>4</th>\n",
       "      <td>000002</td>\n",
       "      <td>万科A</td>\n",
       "      <td>1999-12-31</td>\n",
       "      <td>万科中国投资有限公司</td>\n",
       "      <td>1</td>\n",
       "      <td>50000</td>\n",
       "      <td>投资</td>\n",
       "      <td>香港</td>\n",
       "      <td>中国香港</td>\n",
       "      <td>0</td>\n",
       "      <td>...</td>\n",
       "      <td>NaN</td>\n",
       "      <td>100</td>\n",
       "      <td>100</td>\n",
       "      <td>NaN</td>\n",
       "      <td>NaN</td>\n",
       "      <td>NaN</td>\n",
       "      <td>NaN</td>\n",
       "      <td>NaN</td>\n",
       "      <td>NaN</td>\n",
       "      <td>注册资本HKD；其他CNY</td>\n",
       "    </tr>\n",
       "    <tr>\n",
       "      <th>5</th>\n",
       "      <td>000002</td>\n",
       "      <td>万科A</td>\n",
       "      <td>1999-12-31</td>\n",
       "      <td>万科企业股份有限公司美国公司</td>\n",
       "      <td>1</td>\n",
       "      <td>100000</td>\n",
       "      <td>商贸</td>\n",
       "      <td>美国</td>\n",
       "      <td>美国</td>\n",
       "      <td>0</td>\n",
       "      <td>...</td>\n",
       "      <td>100</td>\n",
       "      <td>NaN</td>\n",
       "      <td>100</td>\n",
       "      <td>NaN</td>\n",
       "      <td>NaN</td>\n",
       "      <td>NaN</td>\n",
       "      <td>NaN</td>\n",
       "      <td>NaN</td>\n",
       "      <td>NaN</td>\n",
       "      <td>注册资本USD；其他CNY</td>\n",
       "    </tr>\n",
       "    <tr>\n",
       "      <th>6</th>\n",
       "      <td>000002</td>\n",
       "      <td>万科A</td>\n",
       "      <td>2000-12-31</td>\n",
       "      <td>永达中国投资有限公司</td>\n",
       "      <td>1</td>\n",
       "      <td>10000</td>\n",
       "      <td>投资</td>\n",
       "      <td>NaN</td>\n",
       "      <td>中国香港</td>\n",
       "      <td>0</td>\n",
       "      <td>...</td>\n",
       "      <td>100</td>\n",
       "      <td>NaN</td>\n",
       "      <td>100</td>\n",
       "      <td>NaN</td>\n",
       "      <td>NaN</td>\n",
       "      <td>NaN</td>\n",
       "      <td>NaN</td>\n",
       "      <td>NaN</td>\n",
       "      <td>NaN</td>\n",
       "      <td>注册资本HKD；其他CNY</td>\n",
       "    </tr>\n",
       "  </tbody>\n",
       "</table>\n",
       "<p>5 rows × 22 columns</p>\n",
       "</div>"
      ]
     },
     "execution_count": 35,
     "metadata": {},
     "output_type": "execute_result"
    }
   ],
   "execution_count": 35
  },
  {
   "metadata": {
    "ExecuteTime": {
     "end_time": "2024-11-02T01:44:01.432592Z",
     "start_time": "2024-11-02T01:44:01.406083Z"
    }
   },
   "cell_type": "code",
   "source": [
    "ofdi_subfirm_df[const.TICKER] = ofdi_subfirm_df['Symbol'].astype(int)\n",
    "ofdi_subfirm_df['EndDate'] = pd.to_datetime(ofdi_subfirm_df['EndDate'])\n",
    "ofdi_subfirm_df[const.YEAR] = ofdi_subfirm_df['EndDate'].dt.year\n"
   ],
   "id": "e33635813f334614",
   "outputs": [],
   "execution_count": 37
  },
  {
   "metadata": {
    "ExecuteTime": {
     "end_time": "2024-11-02T01:50:00.932919Z",
     "start_time": "2024-11-02T01:50:00.885273Z"
    }
   },
   "cell_type": "code",
   "source": [
    "for key in ['RegisterCapital', 'IsBRCountry', 'IsTaxHaven', 'TotalAssets', 'OperatingEvenue', 'NetProfit', 'TotalCost']:\n",
    "    ofdi_subfirm_df[key] = pd.to_numeric(ofdi_subfirm_df[key])\n",
    "    \n",
    "num_subfirm_df = ofdi_subfirm_df.groupby([const.TICKER, const.YEAR])['Symbol'].count()\n",
    "sub_firm_amount = ofdi_subfirm_df.groupby([const.TICKER, const.YEAR])[[\n",
    "    'RegisterCapital', 'IsBRCountry', 'IsTaxHaven', 'TotalAssets', 'OperatingEvenue', 'NetProfit', 'TotalCost']].sum()\n",
    "ofdi_subfirm_df: DataFrame = sub_firm_amount.merge(num_subfirm_df, left_index=True, right_index=True).reset_index(\n",
    "    drop=False).rename(columns={'Symbol': 'SubFirmNum', 'RegisterCapital': 'SubFirmAmount', 'IsBRCountry': 'BRCountryNum',\n",
    "                                'IsTaxHaven': 'TaxHavenNum', 'TotalAssets': 'SubFirmAT', 'OperatingEvenue': 'SubFirmOE', 'NetProfit': 'SubFirmProfit',\n",
    "                                'TotalCost': 'SubFirmInvest'})"
   ],
   "id": "1df7b81cb352c498",
   "outputs": [],
   "execution_count": 40
  },
  {
   "metadata": {
    "ExecuteTime": {
     "end_time": "2024-11-02T01:51:10.157868Z",
     "start_time": "2024-11-02T01:51:10.140425Z"
    }
   },
   "cell_type": "code",
   "source": "ofdi_df: DataFrame = ofdi_df.merge(ofdi_subfirm_df, on=[const.TICKER, const.YEAR], how='outer')",
   "id": "15317df4df9b5174",
   "outputs": [],
   "execution_count": 43
  },
  {
   "metadata": {
    "ExecuteTime": {
     "end_time": "2024-11-02T01:53:39.664875Z",
     "start_time": "2024-11-02T01:53:39.660161Z"
    }
   },
   "cell_type": "code",
   "source": [
    "ofdi_df.rename(columns={'Earnings': 'ForeignEarnings', 'EarningsProportion': 'ForeignEarningsProportion', 'Costs': 'ForeignCosts', \n",
    "                        'GrossMargin': 'ForeignMargin', 'GrossMarginRate': 'ForeignMarginRate', 'GrossMarginProportion': 'ForeignMarginRatio'}, inplace=True)"
   ],
   "id": "f764287f6ff1e0a0",
   "outputs": [],
   "execution_count": 46
  },
  {
   "metadata": {
    "ExecuteTime": {
     "end_time": "2024-11-02T01:53:48.732763Z",
     "start_time": "2024-11-02T01:53:48.721617Z"
    }
   },
   "cell_type": "code",
   "source": "ofdi_df.head()",
   "id": "62c48f20b1571d50",
   "outputs": [
    {
     "data": {
      "text/plain": [
       "   tic  year  ForeignEarnings  ForeignEarningsProportion  ForeignCosts  \\\n",
       "0    1  2003              NaN                        NaN           NaN   \n",
       "1    1  2004              NaN                        NaN           NaN   \n",
       "2    1  2005              NaN                        NaN           NaN   \n",
       "3    1  2006              NaN                        NaN           NaN   \n",
       "4    1  2007              NaN                        NaN           NaN   \n",
       "\n",
       "   ForeignMargin  ForeignMarginRatio  ForeignMarginRate  InsInvestorProp  \\\n",
       "0            NaN                 NaN                NaN          26.6754   \n",
       "1            NaN                 NaN                NaN          27.8712   \n",
       "2            NaN                 NaN                NaN          29.5501   \n",
       "3            NaN                 NaN                NaN          38.6432   \n",
       "4            NaN                 NaN                NaN          61.7833   \n",
       "\n",
       "   StatesharesProp  ForeignInvestorProp  SubFirmAmount  BRCountryNum  \\\n",
       "0             7.08                  NaN            NaN           NaN   \n",
       "1             4.00                17.89            NaN           NaN   \n",
       "2             3.20                17.89            NaN           NaN   \n",
       "3             3.20                17.89            NaN           NaN   \n",
       "4             2.99                16.70            NaN           NaN   \n",
       "\n",
       "   TaxHavenNum  SubFirmAT  SubFirmOE  SubFirmProfit  SubFirmInvest  SubFirmNum  \n",
       "0          NaN        NaN        NaN            NaN            NaN         NaN  \n",
       "1          NaN        NaN        NaN            NaN            NaN         NaN  \n",
       "2          NaN        NaN        NaN            NaN            NaN         NaN  \n",
       "3          NaN        NaN        NaN            NaN            NaN         NaN  \n",
       "4          NaN        NaN        NaN            NaN            NaN         NaN  "
      ],
      "text/html": [
       "<div>\n",
       "<style scoped>\n",
       "    .dataframe tbody tr th:only-of-type {\n",
       "        vertical-align: middle;\n",
       "    }\n",
       "\n",
       "    .dataframe tbody tr th {\n",
       "        vertical-align: top;\n",
       "    }\n",
       "\n",
       "    .dataframe thead th {\n",
       "        text-align: right;\n",
       "    }\n",
       "</style>\n",
       "<table border=\"1\" class=\"dataframe\">\n",
       "  <thead>\n",
       "    <tr style=\"text-align: right;\">\n",
       "      <th></th>\n",
       "      <th>tic</th>\n",
       "      <th>year</th>\n",
       "      <th>ForeignEarnings</th>\n",
       "      <th>ForeignEarningsProportion</th>\n",
       "      <th>ForeignCosts</th>\n",
       "      <th>ForeignMargin</th>\n",
       "      <th>ForeignMarginRatio</th>\n",
       "      <th>ForeignMarginRate</th>\n",
       "      <th>InsInvestorProp</th>\n",
       "      <th>StatesharesProp</th>\n",
       "      <th>ForeignInvestorProp</th>\n",
       "      <th>SubFirmAmount</th>\n",
       "      <th>BRCountryNum</th>\n",
       "      <th>TaxHavenNum</th>\n",
       "      <th>SubFirmAT</th>\n",
       "      <th>SubFirmOE</th>\n",
       "      <th>SubFirmProfit</th>\n",
       "      <th>SubFirmInvest</th>\n",
       "      <th>SubFirmNum</th>\n",
       "    </tr>\n",
       "  </thead>\n",
       "  <tbody>\n",
       "    <tr>\n",
       "      <th>0</th>\n",
       "      <td>1</td>\n",
       "      <td>2003</td>\n",
       "      <td>NaN</td>\n",
       "      <td>NaN</td>\n",
       "      <td>NaN</td>\n",
       "      <td>NaN</td>\n",
       "      <td>NaN</td>\n",
       "      <td>NaN</td>\n",
       "      <td>26.6754</td>\n",
       "      <td>7.08</td>\n",
       "      <td>NaN</td>\n",
       "      <td>NaN</td>\n",
       "      <td>NaN</td>\n",
       "      <td>NaN</td>\n",
       "      <td>NaN</td>\n",
       "      <td>NaN</td>\n",
       "      <td>NaN</td>\n",
       "      <td>NaN</td>\n",
       "      <td>NaN</td>\n",
       "    </tr>\n",
       "    <tr>\n",
       "      <th>1</th>\n",
       "      <td>1</td>\n",
       "      <td>2004</td>\n",
       "      <td>NaN</td>\n",
       "      <td>NaN</td>\n",
       "      <td>NaN</td>\n",
       "      <td>NaN</td>\n",
       "      <td>NaN</td>\n",
       "      <td>NaN</td>\n",
       "      <td>27.8712</td>\n",
       "      <td>4.00</td>\n",
       "      <td>17.89</td>\n",
       "      <td>NaN</td>\n",
       "      <td>NaN</td>\n",
       "      <td>NaN</td>\n",
       "      <td>NaN</td>\n",
       "      <td>NaN</td>\n",
       "      <td>NaN</td>\n",
       "      <td>NaN</td>\n",
       "      <td>NaN</td>\n",
       "    </tr>\n",
       "    <tr>\n",
       "      <th>2</th>\n",
       "      <td>1</td>\n",
       "      <td>2005</td>\n",
       "      <td>NaN</td>\n",
       "      <td>NaN</td>\n",
       "      <td>NaN</td>\n",
       "      <td>NaN</td>\n",
       "      <td>NaN</td>\n",
       "      <td>NaN</td>\n",
       "      <td>29.5501</td>\n",
       "      <td>3.20</td>\n",
       "      <td>17.89</td>\n",
       "      <td>NaN</td>\n",
       "      <td>NaN</td>\n",
       "      <td>NaN</td>\n",
       "      <td>NaN</td>\n",
       "      <td>NaN</td>\n",
       "      <td>NaN</td>\n",
       "      <td>NaN</td>\n",
       "      <td>NaN</td>\n",
       "    </tr>\n",
       "    <tr>\n",
       "      <th>3</th>\n",
       "      <td>1</td>\n",
       "      <td>2006</td>\n",
       "      <td>NaN</td>\n",
       "      <td>NaN</td>\n",
       "      <td>NaN</td>\n",
       "      <td>NaN</td>\n",
       "      <td>NaN</td>\n",
       "      <td>NaN</td>\n",
       "      <td>38.6432</td>\n",
       "      <td>3.20</td>\n",
       "      <td>17.89</td>\n",
       "      <td>NaN</td>\n",
       "      <td>NaN</td>\n",
       "      <td>NaN</td>\n",
       "      <td>NaN</td>\n",
       "      <td>NaN</td>\n",
       "      <td>NaN</td>\n",
       "      <td>NaN</td>\n",
       "      <td>NaN</td>\n",
       "    </tr>\n",
       "    <tr>\n",
       "      <th>4</th>\n",
       "      <td>1</td>\n",
       "      <td>2007</td>\n",
       "      <td>NaN</td>\n",
       "      <td>NaN</td>\n",
       "      <td>NaN</td>\n",
       "      <td>NaN</td>\n",
       "      <td>NaN</td>\n",
       "      <td>NaN</td>\n",
       "      <td>61.7833</td>\n",
       "      <td>2.99</td>\n",
       "      <td>16.70</td>\n",
       "      <td>NaN</td>\n",
       "      <td>NaN</td>\n",
       "      <td>NaN</td>\n",
       "      <td>NaN</td>\n",
       "      <td>NaN</td>\n",
       "      <td>NaN</td>\n",
       "      <td>NaN</td>\n",
       "      <td>NaN</td>\n",
       "    </tr>\n",
       "  </tbody>\n",
       "</table>\n",
       "</div>"
      ]
     },
     "execution_count": 47,
     "metadata": {},
     "output_type": "execute_result"
    }
   ],
   "execution_count": 47
  },
  {
   "metadata": {},
   "cell_type": "markdown",
   "source": "## Construct MA information",
   "id": "a38ccfad8e2f1267"
  },
  {
   "metadata": {
    "ExecuteTime": {
     "end_time": "2024-11-02T04:31:07.183022Z",
     "start_time": "2024-11-02T04:31:04.186817Z"
    }
   },
   "cell_type": "code",
   "source": [
    "with zipfile.ZipFile(os.path.join(const.CSMAR_PATH, '海外直接投资', '交易信息总表.zip'), 'r') as zip_ref:\n",
    "    with zip_ref.open('OFDI_TRADINGMAIN.xlsx') as excel_file:\n",
    "        ofdi_ma_df: DataFrame = pd.read_excel(excel_file).iloc[2:]"
   ],
   "id": "7565f0de746a9b69",
   "outputs": [
    {
     "name": "stderr",
     "output_type": "stream",
     "text": [
      "D:\\Users\\wangy\\anaconda3\\Lib\\site-packages\\openpyxl\\styles\\stylesheet.py:237: UserWarning: Workbook contains no default style, apply openpyxl's default\n",
      "  warn(\"Workbook contains no default style, apply openpyxl's default\")\n"
     ]
    }
   ],
   "execution_count": 59
  },
  {
   "metadata": {
    "ExecuteTime": {
     "end_time": "2024-11-02T04:26:07.372986Z",
     "start_time": "2024-11-02T04:26:07.358933Z"
    }
   },
   "cell_type": "code",
   "source": "ofdi_ma_df.head()",
   "id": "385607dd669dc934",
   "outputs": [
    {
     "data": {
      "text/plain": [
       "        EventID  Symbol ShortName FirstDeclareDate  \\\n",
       "2  260000000001  000001      平安银行       2004-06-01   \n",
       "3  260000000006  000001      平安银行       2009-06-16   \n",
       "4  260000000008  000002       万科A       2000-06-22   \n",
       "5  210000002316  000002       万科A       2005-12-20   \n",
       "6  210000002317  000002       万科A       2005-12-20   \n",
       "\n",
       "                                Buyer  \\\n",
       "2            Newbridge Asia AIVⅢ,L.P.   \n",
       "3                    中国平安保险(集团)股份有限公司   \n",
       "4  FULL KNOWLEDGE INVESTMENTS LIMITED   \n",
       "5                Reco Ziyang Pte Ltd.   \n",
       "6                Reco Ziyang Pte Ltd.   \n",
       "\n",
       "                                              Seller       Underlying  \\\n",
       "2  深圳国际信托投资有限责任公司,深圳市城市建设开发(集团)公司,深圳市劳动和社会保障局,深圳市...     深圳发展银行股份有限公司   \n",
       "3                       Newbridge Asia AIV III, L.P.     深圳发展银行股份有限公司   \n",
       "4                                     深圳经济特区发展(集团)公司       万科企业股份有限公司   \n",
       "5                                         永达中国投资有限公司  沈阳万科永达房地产开发有限公司   \n",
       "6                                      上海万科房地产集团有限公司      无锡万科房地产有限公司   \n",
       "\n",
       "  LatestDeclareDate FinishDeclareDate LastSchedule  ... IsSucceed  \\\n",
       "2        2004-12-30        2004-12-31       完成或者过户  ...         Y   \n",
       "3        2010-05-08        2010-05-08       完成或者过户  ...         Y   \n",
       "4        2000-06-20        2000-06-22         取消方案  ...         N   \n",
       "5        2005-12-20               NaN        董事会通过  ...       NaN   \n",
       "6        2005-12-20               NaN        董事会通过  ...       NaN   \n",
       "\n",
       "  RestructuringTypeID UnderlyingTypeID UnderlyingValue  ExpenseValue  \\\n",
       "2               S3008            S3202             NaN    1235471061   \n",
       "3               S3008            S3202             NaN   11449117658   \n",
       "4               S3008            S3202             NaN  228153971.54   \n",
       "5               S3002            S3202             NaN      99188370   \n",
       "6               S3002            S3202             NaN     192600000   \n",
       "\n",
       "  PayTypeID SourceTypesID RelevanceSign MajorRestructuringSign  \\\n",
       "2     Q1602         Q2102             N                      N   \n",
       "3     Q1602         Q2102             N                      N   \n",
       "4     Q1602         Q2102             N                      N   \n",
       "5     Q1602         Q2102             N                      N   \n",
       "6     Q1602         Q2102             N                      N   \n",
       "\n",
       "                                             Outline  \n",
       "2  NewbridgeAsiaAIVⅢ,L.P.已于2004年5月29日与深圳市投资管理公司、深...  \n",
       "3  2009年6月12日,信息披露义务人与中国平安签署了《股份购买协议》,协议主要内容如下:转让...  \n",
       "4  本公司接获第一大股东深圳经济特区发展(集团)公司(“特发公司”)及中国华润总公司知会,双方于...  \n",
       "5  万科A董事会决议将公司之全资附属公司永达中国投资有限公司持有的沈阳万科永达房地产开发有限公司...  \n",
       "6  万科A董事会决议将公司之全资附属公司上海万科房地产集团有限公司持有的无锡万科房地产有限公司4...  \n",
       "\n",
       "[5 rows x 23 columns]"
      ],
      "text/html": [
       "<div>\n",
       "<style scoped>\n",
       "    .dataframe tbody tr th:only-of-type {\n",
       "        vertical-align: middle;\n",
       "    }\n",
       "\n",
       "    .dataframe tbody tr th {\n",
       "        vertical-align: top;\n",
       "    }\n",
       "\n",
       "    .dataframe thead th {\n",
       "        text-align: right;\n",
       "    }\n",
       "</style>\n",
       "<table border=\"1\" class=\"dataframe\">\n",
       "  <thead>\n",
       "    <tr style=\"text-align: right;\">\n",
       "      <th></th>\n",
       "      <th>EventID</th>\n",
       "      <th>Symbol</th>\n",
       "      <th>ShortName</th>\n",
       "      <th>FirstDeclareDate</th>\n",
       "      <th>Buyer</th>\n",
       "      <th>Seller</th>\n",
       "      <th>Underlying</th>\n",
       "      <th>LatestDeclareDate</th>\n",
       "      <th>FinishDeclareDate</th>\n",
       "      <th>LastSchedule</th>\n",
       "      <th>...</th>\n",
       "      <th>IsSucceed</th>\n",
       "      <th>RestructuringTypeID</th>\n",
       "      <th>UnderlyingTypeID</th>\n",
       "      <th>UnderlyingValue</th>\n",
       "      <th>ExpenseValue</th>\n",
       "      <th>PayTypeID</th>\n",
       "      <th>SourceTypesID</th>\n",
       "      <th>RelevanceSign</th>\n",
       "      <th>MajorRestructuringSign</th>\n",
       "      <th>Outline</th>\n",
       "    </tr>\n",
       "  </thead>\n",
       "  <tbody>\n",
       "    <tr>\n",
       "      <th>2</th>\n",
       "      <td>260000000001</td>\n",
       "      <td>000001</td>\n",
       "      <td>平安银行</td>\n",
       "      <td>2004-06-01</td>\n",
       "      <td>Newbridge Asia AIVⅢ,L.P.</td>\n",
       "      <td>深圳国际信托投资有限责任公司,深圳市城市建设开发(集团)公司,深圳市劳动和社会保障局,深圳市...</td>\n",
       "      <td>深圳发展银行股份有限公司</td>\n",
       "      <td>2004-12-30</td>\n",
       "      <td>2004-12-31</td>\n",
       "      <td>完成或者过户</td>\n",
       "      <td>...</td>\n",
       "      <td>Y</td>\n",
       "      <td>S3008</td>\n",
       "      <td>S3202</td>\n",
       "      <td>NaN</td>\n",
       "      <td>1235471061</td>\n",
       "      <td>Q1602</td>\n",
       "      <td>Q2102</td>\n",
       "      <td>N</td>\n",
       "      <td>N</td>\n",
       "      <td>NewbridgeAsiaAIVⅢ,L.P.已于2004年5月29日与深圳市投资管理公司、深...</td>\n",
       "    </tr>\n",
       "    <tr>\n",
       "      <th>3</th>\n",
       "      <td>260000000006</td>\n",
       "      <td>000001</td>\n",
       "      <td>平安银行</td>\n",
       "      <td>2009-06-16</td>\n",
       "      <td>中国平安保险(集团)股份有限公司</td>\n",
       "      <td>Newbridge Asia AIV III, L.P.</td>\n",
       "      <td>深圳发展银行股份有限公司</td>\n",
       "      <td>2010-05-08</td>\n",
       "      <td>2010-05-08</td>\n",
       "      <td>完成或者过户</td>\n",
       "      <td>...</td>\n",
       "      <td>Y</td>\n",
       "      <td>S3008</td>\n",
       "      <td>S3202</td>\n",
       "      <td>NaN</td>\n",
       "      <td>11449117658</td>\n",
       "      <td>Q1602</td>\n",
       "      <td>Q2102</td>\n",
       "      <td>N</td>\n",
       "      <td>N</td>\n",
       "      <td>2009年6月12日,信息披露义务人与中国平安签署了《股份购买协议》,协议主要内容如下:转让...</td>\n",
       "    </tr>\n",
       "    <tr>\n",
       "      <th>4</th>\n",
       "      <td>260000000008</td>\n",
       "      <td>000002</td>\n",
       "      <td>万科A</td>\n",
       "      <td>2000-06-22</td>\n",
       "      <td>FULL KNOWLEDGE INVESTMENTS LIMITED</td>\n",
       "      <td>深圳经济特区发展(集团)公司</td>\n",
       "      <td>万科企业股份有限公司</td>\n",
       "      <td>2000-06-20</td>\n",
       "      <td>2000-06-22</td>\n",
       "      <td>取消方案</td>\n",
       "      <td>...</td>\n",
       "      <td>N</td>\n",
       "      <td>S3008</td>\n",
       "      <td>S3202</td>\n",
       "      <td>NaN</td>\n",
       "      <td>228153971.54</td>\n",
       "      <td>Q1602</td>\n",
       "      <td>Q2102</td>\n",
       "      <td>N</td>\n",
       "      <td>N</td>\n",
       "      <td>本公司接获第一大股东深圳经济特区发展(集团)公司(“特发公司”)及中国华润总公司知会,双方于...</td>\n",
       "    </tr>\n",
       "    <tr>\n",
       "      <th>5</th>\n",
       "      <td>210000002316</td>\n",
       "      <td>000002</td>\n",
       "      <td>万科A</td>\n",
       "      <td>2005-12-20</td>\n",
       "      <td>Reco Ziyang Pte Ltd.</td>\n",
       "      <td>永达中国投资有限公司</td>\n",
       "      <td>沈阳万科永达房地产开发有限公司</td>\n",
       "      <td>2005-12-20</td>\n",
       "      <td>NaN</td>\n",
       "      <td>董事会通过</td>\n",
       "      <td>...</td>\n",
       "      <td>NaN</td>\n",
       "      <td>S3002</td>\n",
       "      <td>S3202</td>\n",
       "      <td>NaN</td>\n",
       "      <td>99188370</td>\n",
       "      <td>Q1602</td>\n",
       "      <td>Q2102</td>\n",
       "      <td>N</td>\n",
       "      <td>N</td>\n",
       "      <td>万科A董事会决议将公司之全资附属公司永达中国投资有限公司持有的沈阳万科永达房地产开发有限公司...</td>\n",
       "    </tr>\n",
       "    <tr>\n",
       "      <th>6</th>\n",
       "      <td>210000002317</td>\n",
       "      <td>000002</td>\n",
       "      <td>万科A</td>\n",
       "      <td>2005-12-20</td>\n",
       "      <td>Reco Ziyang Pte Ltd.</td>\n",
       "      <td>上海万科房地产集团有限公司</td>\n",
       "      <td>无锡万科房地产有限公司</td>\n",
       "      <td>2005-12-20</td>\n",
       "      <td>NaN</td>\n",
       "      <td>董事会通过</td>\n",
       "      <td>...</td>\n",
       "      <td>NaN</td>\n",
       "      <td>S3002</td>\n",
       "      <td>S3202</td>\n",
       "      <td>NaN</td>\n",
       "      <td>192600000</td>\n",
       "      <td>Q1602</td>\n",
       "      <td>Q2102</td>\n",
       "      <td>N</td>\n",
       "      <td>N</td>\n",
       "      <td>万科A董事会决议将公司之全资附属公司上海万科房地产集团有限公司持有的无锡万科房地产有限公司4...</td>\n",
       "    </tr>\n",
       "  </tbody>\n",
       "</table>\n",
       "<p>5 rows × 23 columns</p>\n",
       "</div>"
      ]
     },
     "execution_count": 49,
     "metadata": {},
     "output_type": "execute_result"
    }
   ],
   "execution_count": 49
  },
  {
   "metadata": {
    "ExecuteTime": {
     "end_time": "2024-11-02T04:31:07.201817Z",
     "start_time": "2024-11-02T04:31:07.187559Z"
    }
   },
   "cell_type": "code",
   "source": [
    "ofdi_ma_df[const.TICKER] = ofdi_ma_df.Symbol.astype(int)\n",
    "ofdi_ma_df['FinishDeclareDate'] = pd.to_datetime(ofdi_ma_df['FinishDeclareDate'])\n",
    "ofdi_ma_df[const.YEAR] = ofdi_ma_df['FinishDeclareDate'].dt.year\n",
    "ofdi_ma_df['ExpenseValue'] = pd.to_numeric(ofdi_ma_df['ExpenseValue'])\n",
    "ofdi_ma_df = ofdi_ma_df.loc[ofdi_ma_df['IsSucceed'] != 'N']"
   ],
   "id": "da5641a4d6234ecd",
   "outputs": [],
   "execution_count": 60
  },
  {
   "metadata": {
    "ExecuteTime": {
     "end_time": "2024-11-02T04:31:07.971679Z",
     "start_time": "2024-11-02T04:31:07.962872Z"
    }
   },
   "cell_type": "code",
   "source": [
    "ma_num = ofdi_ma_df.groupby([const.TICKER, const.YEAR])['EventID'].count()\n",
    "ma_amt = ofdi_ma_df.groupby([const.TICKER, const.YEAR])['ExpenseValue'].sum()\n",
    "ofdi_foreign_ma = pd.concat([ma_amt, ma_num], axis=1)"
   ],
   "id": "6e6bfadf3a4c371",
   "outputs": [],
   "execution_count": 61
  },
  {
   "metadata": {
    "ExecuteTime": {
     "end_time": "2024-11-02T04:32:14.189292Z",
     "start_time": "2024-11-02T04:32:14.184539Z"
    }
   },
   "cell_type": "code",
   "source": "ofdi_fma_df = ofdi_foreign_ma.reset_index(drop=False).rename(columns={'ExpenseValue': 'ForeignMAValue', 'EventID': 'ForeignMANum'})",
   "id": "6083eb541d444f86",
   "outputs": [],
   "execution_count": 63
  },
  {
   "metadata": {
    "ExecuteTime": {
     "end_time": "2024-11-02T04:32:49.123592Z",
     "start_time": "2024-11-02T04:32:49.107579Z"
    }
   },
   "cell_type": "code",
   "source": "ofdi_df = ofdi_df.merge(ofdi_fma_df, on=[const.TICKER, const.YEAR], how='left')",
   "id": "3034b87562172782",
   "outputs": [],
   "execution_count": 64
  },
  {
   "metadata": {},
   "cell_type": "markdown",
   "source": "## append basic financial information",
   "id": "8fd954cbca8d3082"
  },
  {
   "metadata": {
    "ExecuteTime": {
     "end_time": "2024-11-02T04:36:10.834684Z",
     "start_time": "2024-11-02T04:35:54.812835Z"
    }
   },
   "cell_type": "code",
   "source": [
    "with zipfile.ZipFile(os.path.join(const.CSMAR_PATH, '海外直接投资', '财务指标表.zip'), 'r') as zip_ref:\n",
    "    with zip_ref.open('OFDI_FININDEX.xlsx') as excel_file:\n",
    "        finindex_df: DataFrame = pd.read_excel(excel_file, usecols=['Symbol', 'EndDate', 'TotalAsset']).iloc[2:]\n",
    "        \n",
    "finindex_df['EndDate'] = pd.to_datetime(finindex_df['EndDate'])\n",
    "finindex_df[const.YEAR] = finindex_df['EndDate'].dt.year\n",
    "finindex_df[const.TICKER] = finindex_df['Symbol'].astype(int)\n",
    "finindex_df['TotalAsset'] = pd.to_numeric(finindex_df['TotalAsset'])"
   ],
   "id": "31d65b8da1556776",
   "outputs": [
    {
     "name": "stderr",
     "output_type": "stream",
     "text": [
      "D:\\Users\\wangy\\anaconda3\\Lib\\site-packages\\openpyxl\\styles\\stylesheet.py:237: UserWarning: Workbook contains no default style, apply openpyxl's default\n",
      "  warn(\"Workbook contains no default style, apply openpyxl's default\")\n"
     ]
    }
   ],
   "execution_count": 66
  },
  {
   "metadata": {
    "ExecuteTime": {
     "end_time": "2024-11-02T04:37:32.894393Z",
     "start_time": "2024-11-02T04:37:32.863993Z"
    }
   },
   "cell_type": "code",
   "source": [
    "tmp_fin_df = finindex_df[[const.TICKER, const.YEAR, 'TotalAsset']].copy()\n",
    "tmp_fin_df[const.YEAR] -= 1\n",
    "ofdi_at_df: DataFrame = ofdi_df.merge(finindex_df[[const.TICKER, const.YEAR, 'TotalAsset']], on=[const.TICKER, const.YEAR], how='left').merge(\n",
    "    tmp_fin_df, on=[const.TICKER, const.YEAR], how='left', suffixes=('', '_1'))"
   ],
   "id": "2f2924f99e8270a7",
   "outputs": [],
   "execution_count": 67
  },
  {
   "metadata": {
    "ExecuteTime": {
     "end_time": "2024-11-02T04:37:40.234576Z",
     "start_time": "2024-11-02T04:37:40.229338Z"
    }
   },
   "cell_type": "code",
   "source": "ofdi_at_df.keys()",
   "id": "2ddf541ff31efae9",
   "outputs": [
    {
     "data": {
      "text/plain": [
       "Index(['tic', 'year', 'ForeignEarnings', 'ForeignEarningsProportion',\n",
       "       'ForeignCosts', 'ForeignMargin', 'ForeignMarginRatio',\n",
       "       'ForeignMarginRate', 'InsInvestorProp', 'StatesharesProp',\n",
       "       'ForeignInvestorProp', 'SubFirmAmount', 'BRCountryNum', 'TaxHavenNum',\n",
       "       'SubFirmAT', 'SubFirmOE', 'SubFirmProfit', 'SubFirmInvest',\n",
       "       'SubFirmNum', 'ForeignMAValue', 'ForeignMANum', 'TotalAsset',\n",
       "       'TotalAsset_1'],\n",
       "      dtype='object')"
      ]
     },
     "execution_count": 68,
     "metadata": {},
     "output_type": "execute_result"
    }
   ],
   "execution_count": 68
  },
  {
   "metadata": {
    "ExecuteTime": {
     "end_time": "2024-11-02T04:39:53.313931Z",
     "start_time": "2024-11-02T04:39:53.301009Z"
    }
   },
   "cell_type": "code",
   "source": [
    "for key in ['ForeignEarnings', 'ForeignCosts', 'ForeignMargin', 'SubFirmAmount', 'SubFirmAT', 'SubFirmOE', 'SubFirmProfit', 'SubFirmInvest', 'ForeignMAValue']:\n",
    "    ofdi_at_df.loc[:, f'{key}_at'] = ofdi_at_df[key] / ofdi_at_df.TotalAsset\n",
    "    ofdi_at_df.loc[:, f'{key}_lat'] = ofdi_at_df[key] / ofdi_at_df.TotalAsset_1\n"
   ],
   "id": "75d8011d3ee50e18",
   "outputs": [],
   "execution_count": 69
  },
  {
   "metadata": {
    "ExecuteTime": {
     "end_time": "2024-11-02T04:43:06.437997Z",
     "start_time": "2024-11-02T04:43:06.428459Z"
    }
   },
   "cell_type": "code",
   "source": "ofdi_at_df.to_pickle(os.path.join(const.TEMP_PATH, 'firm_foreign_activities.pkl'))",
   "id": "2cd4a7fc4a08aef4",
   "outputs": [],
   "execution_count": 71
  },
  {
   "metadata": {},
   "cell_type": "markdown",
   "source": "# Merge OFDI data with regression data",
   "id": "eb1e89980bccb767"
  },
  {
   "metadata": {
    "ExecuteTime": {
     "end_time": "2024-11-03T11:20:58.615954Z",
     "start_time": "2024-11-03T11:20:58.341458Z"
    }
   },
   "cell_type": "code",
   "source": [
    "ofdi_at_df: DataFrame = pd.read_pickle(os.path.join(const.TEMP_PATH, 'firm_foreign_activities.pkl')).drop(\n",
    "    ['TotalAsset', 'TotalAsset_1'], axis=1)\n",
    "reg_df: DataFrame = pd.read_stata(os.path.join(const.OUTPUT_PATH, '20241027_cc_reg_data.dta'))"
   ],
   "id": "98265280df840b46",
   "outputs": [],
   "execution_count": 35
  },
  {
   "metadata": {
    "ExecuteTime": {
     "end_time": "2024-11-03T11:21:28.529447Z",
     "start_time": "2024-11-03T11:21:28.286354Z"
    }
   },
   "cell_type": "code",
   "source": [
    "tmp_ofdi_df: DataFrame = ofdi_at_df.copy()\n",
    "tmp_ofdi_df[const.YEAR] -= 1\n",
    "reg_df2: DataFrame = reg_df.merge(ofdi_at_df, on=[const.TICKER, const.YEAR], how='left').merge(\n",
    "    tmp_ofdi_df, on=[const.TICKER, const.YEAR], how='left', suffixes=('', '_1'))"
   ],
   "id": "f9f020c2bb12d9ca",
   "outputs": [],
   "execution_count": 37
  },
  {
   "metadata": {
    "ExecuteTime": {
     "end_time": "2024-11-03T07:42:24.424925Z",
     "start_time": "2024-11-03T07:42:24.418690Z"
    }
   },
   "cell_type": "code",
   "source": "reg_df2.shape",
   "id": "9d9daead58e5fa0b",
   "outputs": [
    {
     "data": {
      "text/plain": [
       "(41072, 330)"
      ]
     },
     "execution_count": 10,
     "metadata": {},
     "output_type": "execute_result"
    }
   ],
   "execution_count": 10
  },
  {
   "metadata": {
    "ExecuteTime": {
     "end_time": "2024-11-03T11:37:15.929864Z",
     "start_time": "2024-11-03T11:37:15.924362Z"
    }
   },
   "cell_type": "code",
   "source": "tmp_ofdi_df.keys()",
   "id": "cc09f8d1fd3bca3e",
   "outputs": [
    {
     "data": {
      "text/plain": [
       "Index(['tic', 'year', 'ForeignEarnings', 'ForeignEarningsProportion',\n",
       "       'ForeignCosts', 'ForeignMargin', 'ForeignMarginRatio',\n",
       "       'ForeignMarginRate', 'InsInvestorProp', 'StatesharesProp',\n",
       "       'ForeignInvestorProp', 'SubFirmAmount', 'BRCountryNum', 'TaxHavenNum',\n",
       "       'SubFirmAT', 'SubFirmOE', 'SubFirmProfit', 'SubFirmInvest',\n",
       "       'SubFirmNum', 'ForeignMAValue', 'ForeignMANum', 'ForeignEarnings_at',\n",
       "       'ForeignEarnings_lat', 'ForeignCosts_at', 'ForeignCosts_lat',\n",
       "       'ForeignMargin_at', 'ForeignMargin_lat', 'SubFirmAmount_at',\n",
       "       'SubFirmAmount_lat', 'SubFirmAT_at', 'SubFirmAT_lat', 'SubFirmOE_at',\n",
       "       'SubFirmOE_lat', 'SubFirmProfit_at', 'SubFirmProfit_lat',\n",
       "       'SubFirmInvest_at', 'SubFirmInvest_lat', 'ForeignMAValue_at',\n",
       "       'ForeignMAValue_lat'],\n",
       "      dtype='object')"
      ]
     },
     "execution_count": 41,
     "metadata": {},
     "output_type": "execute_result"
    }
   ],
   "execution_count": 41
  },
  {
   "metadata": {
    "ExecuteTime": {
     "end_time": "2024-11-03T11:21:29.987508Z",
     "start_time": "2024-11-03T11:21:29.861299Z"
    }
   },
   "cell_type": "code",
   "source": [
    "for key in tmp_ofdi_df.keys():\n",
    "    if key in {const.TICKER, const.YEAR}:\n",
    "        continue\n",
    "    reg_df2.loc[reg_df2[key].notnull(), key] = winsorize(reg_df2[key].dropna(), limits=(0.01, 0.01))\n",
    "    reg_df2.loc[reg_df2[f'{key}_1'].notnull(), f'{key}_1'] = winsorize(reg_df2[f'{key}_1'].dropna(), limits=(0.01, 0.01))\n",
    "    reg_df2.loc[:, f'{key}_01'] = reg_df2[f'{key}_1'].fillna(reg_df2[key]).fillna(0)"
   ],
   "id": "ca365405b713a591",
   "outputs": [],
   "execution_count": 38
  },
  {
   "metadata": {
    "ExecuteTime": {
     "end_time": "2024-11-03T11:21:31.514120Z",
     "start_time": "2024-11-03T11:21:31.400001Z"
    }
   },
   "cell_type": "code",
   "source": [
    "reg_df2.dropna(subset=['size', 'TobinQ', 'OCF_lat', 'lev', 'top1', 'sale_growth', 'CAPEX_lat_1', 'soe'], how='any', inplace=True)\n",
    "reg_df3: DataFrame = reg_df2[reg_df2[const.YEAR].apply(lambda x: 2009 < x < 2019)].copy()\n",
    "reg_df3['Post_has_guarantee'] = reg_df3['Post2014'] * reg_df3['has_guarantee']\n",
    "reg_df3['Post_NumGuarantee'] = reg_df3['Post2014'] * reg_df3['NumGuarantee']"
   ],
   "id": "9d5d8271f0a40d27",
   "outputs": [],
   "execution_count": 39
  },
  {
   "metadata": {
    "ExecuteTime": {
     "end_time": "2024-11-03T11:21:33.094326Z",
     "start_time": "2024-11-03T11:21:32.692044Z"
    }
   },
   "cell_type": "code",
   "source": "reg_df3.to_stata(os.path.join(const.OUTPUT_PATH, '20241103_cc_reg_data.dta'), version=119, write_index=False)",
   "id": "69855794d492b69b",
   "outputs": [],
   "execution_count": 40
  },
  {
   "metadata": {},
   "cell_type": "markdown",
   "source": "## Append foreign shareholder information",
   "id": "6f84524e49ff1566"
  },
  {
   "metadata": {
    "ExecuteTime": {
     "end_time": "2024-11-03T11:46:43.252451Z",
     "start_time": "2024-11-03T11:46:43.132534Z"
    }
   },
   "cell_type": "code",
   "source": [
    "with zipfile.ZipFile(os.path.join(const.CSMAR_PATH, '股东', '上市公司股本结构文件.zip'), 'r') as zip_ref:\n",
    "    with zip_ref.open('HLD_Capstru.csv') as csv_file:\n",
    "        hld_df: DataFrame = pd.read_csv(csv_file).dropna(how='any')\n",
    "        hld_df['Reptdt'] = pd.to_datetime(hld_df['Reptdt'])\n",
    "        hld_df.loc[:, const.YEAR] = hld_df['Reptdt'].dt.year\n",
    "        hld_df['ForeignInvestorProp'] = hld_df['Nshrlpf'] / hld_df['Nshrttl']"
   ],
   "id": "64ccfd7ac3854e0b",
   "outputs": [],
   "execution_count": 42
  },
  {
   "metadata": {
    "ExecuteTime": {
     "end_time": "2024-11-03T11:47:12.201671Z",
     "start_time": "2024-11-03T11:47:12.191304Z"
    }
   },
   "cell_type": "code",
   "source": "hld_df.head()",
   "id": "d5cabc32ad66c371",
   "outputs": [
    {
     "data": {
      "text/plain": [
       "   Stkcd     Reptdt       Nshrttl  Nshrlpf  year  ForeignInvestorProp\n",
       "0      1 2003-03-31  1.945822e+09      0.0  2003                  0.0\n",
       "1      1 2003-06-30  1.945822e+09      0.0  2003                  0.0\n",
       "2      1 2003-09-30  1.945822e+09      0.0  2003                  0.0\n",
       "3      1 2003-12-31  1.945822e+09      0.0  2003                  0.0\n",
       "4      1 2004-03-31  1.945822e+09      0.0  2004                  0.0"
      ],
      "text/html": [
       "<div>\n",
       "<style scoped>\n",
       "    .dataframe tbody tr th:only-of-type {\n",
       "        vertical-align: middle;\n",
       "    }\n",
       "\n",
       "    .dataframe tbody tr th {\n",
       "        vertical-align: top;\n",
       "    }\n",
       "\n",
       "    .dataframe thead th {\n",
       "        text-align: right;\n",
       "    }\n",
       "</style>\n",
       "<table border=\"1\" class=\"dataframe\">\n",
       "  <thead>\n",
       "    <tr style=\"text-align: right;\">\n",
       "      <th></th>\n",
       "      <th>Stkcd</th>\n",
       "      <th>Reptdt</th>\n",
       "      <th>Nshrttl</th>\n",
       "      <th>Nshrlpf</th>\n",
       "      <th>year</th>\n",
       "      <th>ForeignInvestorProp</th>\n",
       "    </tr>\n",
       "  </thead>\n",
       "  <tbody>\n",
       "    <tr>\n",
       "      <th>0</th>\n",
       "      <td>1</td>\n",
       "      <td>2003-03-31</td>\n",
       "      <td>1.945822e+09</td>\n",
       "      <td>0.0</td>\n",
       "      <td>2003</td>\n",
       "      <td>0.0</td>\n",
       "    </tr>\n",
       "    <tr>\n",
       "      <th>1</th>\n",
       "      <td>1</td>\n",
       "      <td>2003-06-30</td>\n",
       "      <td>1.945822e+09</td>\n",
       "      <td>0.0</td>\n",
       "      <td>2003</td>\n",
       "      <td>0.0</td>\n",
       "    </tr>\n",
       "    <tr>\n",
       "      <th>2</th>\n",
       "      <td>1</td>\n",
       "      <td>2003-09-30</td>\n",
       "      <td>1.945822e+09</td>\n",
       "      <td>0.0</td>\n",
       "      <td>2003</td>\n",
       "      <td>0.0</td>\n",
       "    </tr>\n",
       "    <tr>\n",
       "      <th>3</th>\n",
       "      <td>1</td>\n",
       "      <td>2003-12-31</td>\n",
       "      <td>1.945822e+09</td>\n",
       "      <td>0.0</td>\n",
       "      <td>2003</td>\n",
       "      <td>0.0</td>\n",
       "    </tr>\n",
       "    <tr>\n",
       "      <th>4</th>\n",
       "      <td>1</td>\n",
       "      <td>2004-03-31</td>\n",
       "      <td>1.945822e+09</td>\n",
       "      <td>0.0</td>\n",
       "      <td>2004</td>\n",
       "      <td>0.0</td>\n",
       "    </tr>\n",
       "  </tbody>\n",
       "</table>\n",
       "</div>"
      ]
     },
     "execution_count": 45,
     "metadata": {},
     "output_type": "execute_result"
    }
   ],
   "execution_count": 45
  },
  {
   "metadata": {
    "ExecuteTime": {
     "end_time": "2024-11-03T11:50:13.106904Z",
     "start_time": "2024-11-03T11:50:13.098995Z"
    }
   },
   "cell_type": "code",
   "source": [
    "hld_valid = hld_df.loc[hld_df['ForeignInvestorProp'] > 0].rename(columns={'Stkcd': const.TICKER})[[\n",
    "    const.TICKER, const.YEAR, 'ForeignInvestorProp']].drop_duplicates(subset=[const.TICKER, const.YEAR], keep='last')"
   ],
   "id": "e0316057147aaeff",
   "outputs": [],
   "execution_count": 49
  },
  {
   "metadata": {
    "ExecuteTime": {
     "end_time": "2024-11-03T11:47:43.172087Z",
     "start_time": "2024-11-03T11:47:43.168566Z"
    }
   },
   "cell_type": "code",
   "source": "reg_drop_keys = 'ForeignInvestorProp_01 StatesharesProp_01 ForeignInvestorProp_1 StatesharesProp_1 ForeignInvestorProp StatesharesProp'.split(' ')",
   "id": "79cdbf8552ccc7ae",
   "outputs": [],
   "execution_count": 46
  },
  {
   "metadata": {
    "ExecuteTime": {
     "end_time": "2024-11-03T11:50:49.172915Z",
     "start_time": "2024-11-03T11:50:49.035848Z"
    }
   },
   "cell_type": "code",
   "source": [
    "reg_df3.drop(reg_drop_keys, axis=1, inplace=True)\n",
    "tmp_hld = hld_valid.copy()\n",
    "tmp_hld[const.YEAR] -= 1\n",
    "\n",
    "reg_df4: DataFrame = reg_df3.merge(hld_valid, on=[const.TICKER, const.YEAR], how='left').merge(\n",
    "    tmp_hld, on=[const.TICKER, const.YEAR], how='left', suffixes=('', '_1'))\n",
    "reg_df4['ForeignInvestorProp'] = reg_df4['ForeignInvestorProp'].fillna(0)\n",
    "reg_df4['ForeignInvestorProp_1'] = reg_df4['ForeignInvestorProp_1'].fillna(0)"
   ],
   "id": "c9289fb5b4e977dd",
   "outputs": [],
   "execution_count": 50
  },
  {
   "metadata": {
    "ExecuteTime": {
     "end_time": "2024-11-03T11:55:09.806964Z",
     "start_time": "2024-11-03T11:55:08.938410Z"
    }
   },
   "cell_type": "code",
   "source": "reg_df4.to_stata(os.path.join(const.OUTPUT_PATH, '20241103_cc_reg_data.dta'), version=119, write_index=False)",
   "id": "42a875f958e05db9",
   "outputs": [],
   "execution_count": 56
  },
  {
   "metadata": {
    "ExecuteTime": {
     "end_time": "2024-11-03T11:54:25.354301Z",
     "start_time": "2024-11-03T11:54:25.349458Z"
    }
   },
   "cell_type": "code",
   "source": [
    "log_Keys = 'SubFirmAmount_1 SubFirmAT_1 SubFirmOE_1 SubFirmProfit_1 SubFirmInvest_1 ForeignEarnings_1 ForeignCosts_1'.split(' ')\n",
    "log_Keys"
   ],
   "id": "f9f9b728a61bca36",
   "outputs": [
    {
     "data": {
      "text/plain": [
       "['SubFirmAmount_1',\n",
       " 'SubFirmAT_1',\n",
       " 'SubFirmOE_1',\n",
       " 'SubFirmProfit_1',\n",
       " 'SubFirmInvest_1',\n",
       " 'ForeignEarnings_1',\n",
       " 'ForeignCosts_1']"
      ]
     },
     "execution_count": 54,
     "metadata": {},
     "output_type": "execute_result"
    }
   ],
   "execution_count": 54
  },
  {
   "metadata": {
    "ExecuteTime": {
     "end_time": "2024-11-03T11:55:03.403056Z",
     "start_time": "2024-11-03T11:55:03.294658Z"
    }
   },
   "cell_type": "code",
   "source": [
    "for key in log_Keys:\n",
    "    reg_df4.loc[:, f'ln_{key}'] = reg_df4[key].apply(lambda x: np.log(x + 1))"
   ],
   "id": "50a9a21ac383bca2",
   "outputs": [
    {
     "name": "stderr",
     "output_type": "stream",
     "text": [
      "C:\\Users\\wangy\\AppData\\Local\\Temp\\ipykernel_30216\\2843661264.py:2: RuntimeWarning: invalid value encountered in log\n",
      "  reg_df4.loc[:, f'ln_{key}'] = reg_df4[key].apply(lambda x: np.log(x + 1))\n"
     ]
    }
   ],
   "execution_count": 55
  }
 ],
 "metadata": {
  "kernelspec": {
   "display_name": "Python 3 (ipykernel)",
   "language": "python",
   "name": "python3"
  },
  "language_info": {
   "codemirror_mode": {
    "name": "ipython",
    "version": 3
   },
   "file_extension": ".py",
   "mimetype": "text/x-python",
   "name": "python",
   "nbconvert_exporter": "python",
   "pygments_lexer": "ipython3",
   "version": "3.12.7"
  }
 },
 "nbformat": 4,
 "nbformat_minor": 5
}
