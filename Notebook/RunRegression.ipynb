{
 "cells": [
  {
   "cell_type": "code",
   "id": "initial_id",
   "metadata": {
    "collapsed": true,
    "ExecuteTime": {
     "end_time": "2024-10-20T02:28:09.252568Z",
     "start_time": "2024-10-20T02:28:08.035219Z"
    }
   },
   "source": [
    "import os\n",
    "\n",
    "\n",
    "import numpy as np\n",
    "import pandas as pd\n",
    "from pandas import DataFrame\n",
    "import openpyxl\n",
    "from openpyxl import Workbook\n",
    "import statsmodels.formula.api as smf\n",
    "\n",
    "from Constant import Constants as const\n"
   ],
   "outputs": [],
   "execution_count": 1
  },
  {
   "metadata": {
    "ExecuteTime": {
     "end_time": "2024-10-20T02:28:18.815633Z",
     "start_time": "2024-10-20T02:28:18.481737Z"
    }
   },
   "cell_type": "code",
   "source": [
    "# Load data\n",
    "file_path = os.path.join(const.OUTPUT_PATH, '20241020_cc_reg_data.dta')\n",
    "data = pd.read_stata(file_path)\n",
    "\n",
    "# Define dependent variables and control variables\n",
    "dependent_vars = ['CAPEX_lat_1', 'CAPEX_RDEs_lat_1', 'CAPEX_RDS_lat_1', 'CAPEX_RDI_lat_1']\n",
    "controls = ['size', 'TobinQ', 'OCF_lat', 'soe', 'lev', 'top1', 'sale_growth']\n",
    "\n",
    "# Create interaction terms\n",
    "data['Post2014_has_guarantee'] = data['Post2014'] * data['has_guarantee']\n",
    "data['Post2017_has_guarantee'] = data['Post2017'] * data['has_guarantee']\n"
   ],
   "id": "9f70e3b4ad379f85",
   "outputs": [
    {
     "name": "stderr",
     "output_type": "stream",
     "text": [
      "C:\\Users\\wangy\\AppData\\Local\\Temp\\ipykernel_13752\\971135380.py:10: PerformanceWarning: DataFrame is highly fragmented.  This is usually the result of calling `frame.insert` many times, which has poor performance.  Consider joining all columns at once using pd.concat(axis=1) instead. To get a de-fragmented frame, use `newframe = frame.copy()`\n",
      "  data['Post2014_has_guarantee'] = data['Post2014'] * data['has_guarantee']\n",
      "C:\\Users\\wangy\\AppData\\Local\\Temp\\ipykernel_13752\\971135380.py:11: PerformanceWarning: DataFrame is highly fragmented.  This is usually the result of calling `frame.insert` many times, which has poor performance.  Consider joining all columns at once using pd.concat(axis=1) instead. To get a de-fragmented frame, use `newframe = frame.copy()`\n",
      "  data['Post2017_has_guarantee'] = data['Post2017'] * data['has_guarantee']\n"
     ]
    }
   ],
   "execution_count": 2
  },
  {
   "metadata": {
    "ExecuteTime": {
     "end_time": "2024-10-20T02:29:30.687130Z",
     "start_time": "2024-10-20T02:28:39.262671Z"
    }
   },
   "cell_type": "code",
   "source": [
    "# Create an Excel workbook to save the results\n",
    "output_path = os.path.join(const.OUTPUT_PATH, 'Table3_Baseline_Regression.xlsx')\n",
    "wb = Workbook()\n",
    "ws = wb.active\n",
    "ws.title = \"Baseline Regression Results\"\n",
    "\n",
    "# Write headers to the Excel file\n",
    "headers = [\n",
    "    \"Dependent Variable\", \"Coefficient\", \"Std. Error\", \"t-Statistic\", \"P-value\"\n",
    "]\n",
    "ws.append(headers)\n",
    "\n",
    "# Run regressions and save results to Excel\n",
    "for dep_var in dependent_vars:\n",
    "    formula = (\n",
    "        f\"{dep_var} ~ has_guarantee + Post2014 + Post2017 + Post2014_has_guarantee + \"\n",
    "        f\"Post2017_has_guarantee + NumGuarantee + TotalLoan + {' + '.join(controls)} + C(tic) + C(year)\"\n",
    "    )\n",
    "    model = smf.ols(formula=formula, data=data).fit(cov_type='cluster', cov_kwds={'groups': data['tic']})\n",
    "    print(f\"Regression results for {dep_var}:\")\n",
    "    print(model.summary())\n",
    "    print(\"\\n\" + \"=\"*80 + \"\\n\")\n",
    "\n",
    "    # Write regression results to Excel\n",
    "    for param in model.params.index:\n",
    "        ws.append([\n",
    "            dep_var, param, model.params[param], model.bse[param], model.tvalues[param], model.pvalues[param]\n",
    "        ])\n",
    "\n",
    "# Save the Excel workbook\n",
    "wb.save(output_path)"
   ],
   "id": "719b0068f95e8eea",
   "outputs": [
    {
     "ename": "ValueError",
     "evalue": "The weights and list don't have the same length.",
     "output_type": "error",
     "traceback": [
      "\u001B[1;31m---------------------------------------------------------------------------\u001B[0m",
      "\u001B[1;31mValueError\u001B[0m                                Traceback (most recent call last)",
      "Cell \u001B[1;32mIn[3], line 19\u001B[0m\n\u001B[0;32m     14\u001B[0m \u001B[38;5;28;01mfor\u001B[39;00m dep_var \u001B[38;5;129;01min\u001B[39;00m dependent_vars:\n\u001B[0;32m     15\u001B[0m     formula \u001B[38;5;241m=\u001B[39m (\n\u001B[0;32m     16\u001B[0m         \u001B[38;5;124mf\u001B[39m\u001B[38;5;124m\"\u001B[39m\u001B[38;5;132;01m{\u001B[39;00mdep_var\u001B[38;5;132;01m}\u001B[39;00m\u001B[38;5;124m ~ has_guarantee + Post2014 + Post2017 + Post2014_has_guarantee + \u001B[39m\u001B[38;5;124m\"\u001B[39m\n\u001B[0;32m     17\u001B[0m         \u001B[38;5;124mf\u001B[39m\u001B[38;5;124m\"\u001B[39m\u001B[38;5;124mPost2017_has_guarantee + NumGuarantee + TotalLoan + \u001B[39m\u001B[38;5;132;01m{\u001B[39;00m\u001B[38;5;124m'\u001B[39m\u001B[38;5;124m + \u001B[39m\u001B[38;5;124m'\u001B[39m\u001B[38;5;241m.\u001B[39mjoin(controls)\u001B[38;5;132;01m}\u001B[39;00m\u001B[38;5;124m + C(tic) + C(year)\u001B[39m\u001B[38;5;124m\"\u001B[39m\n\u001B[0;32m     18\u001B[0m     )\n\u001B[1;32m---> 19\u001B[0m     model \u001B[38;5;241m=\u001B[39m smf\u001B[38;5;241m.\u001B[39mols(formula\u001B[38;5;241m=\u001B[39mformula, data\u001B[38;5;241m=\u001B[39mdata)\u001B[38;5;241m.\u001B[39mfit(cov_type\u001B[38;5;241m=\u001B[39m\u001B[38;5;124m'\u001B[39m\u001B[38;5;124mcluster\u001B[39m\u001B[38;5;124m'\u001B[39m, cov_kwds\u001B[38;5;241m=\u001B[39m{\u001B[38;5;124m'\u001B[39m\u001B[38;5;124mgroups\u001B[39m\u001B[38;5;124m'\u001B[39m: data[\u001B[38;5;124m'\u001B[39m\u001B[38;5;124mtic\u001B[39m\u001B[38;5;124m'\u001B[39m]})\n\u001B[0;32m     20\u001B[0m     \u001B[38;5;28mprint\u001B[39m(\u001B[38;5;124mf\u001B[39m\u001B[38;5;124m\"\u001B[39m\u001B[38;5;124mRegression results for \u001B[39m\u001B[38;5;132;01m{\u001B[39;00mdep_var\u001B[38;5;132;01m}\u001B[39;00m\u001B[38;5;124m:\u001B[39m\u001B[38;5;124m\"\u001B[39m)\n\u001B[0;32m     21\u001B[0m     \u001B[38;5;28mprint\u001B[39m(model\u001B[38;5;241m.\u001B[39msummary())\n",
      "File \u001B[1;32mD:\\Users\\wangy\\anaconda3\\Lib\\site-packages\\statsmodels\\regression\\linear_model.py:374\u001B[0m, in \u001B[0;36mRegressionModel.fit\u001B[1;34m(self, method, cov_type, cov_kwds, use_t, **kwargs)\u001B[0m\n\u001B[0;32m    371\u001B[0m     \u001B[38;5;28mself\u001B[39m\u001B[38;5;241m.\u001B[39mdf_resid \u001B[38;5;241m=\u001B[39m \u001B[38;5;28mself\u001B[39m\u001B[38;5;241m.\u001B[39mnobs \u001B[38;5;241m-\u001B[39m \u001B[38;5;28mself\u001B[39m\u001B[38;5;241m.\u001B[39mrank\n\u001B[0;32m    373\u001B[0m \u001B[38;5;28;01mif\u001B[39;00m \u001B[38;5;28misinstance\u001B[39m(\u001B[38;5;28mself\u001B[39m, OLS):\n\u001B[1;32m--> 374\u001B[0m     lfit \u001B[38;5;241m=\u001B[39m OLSResults(\n\u001B[0;32m    375\u001B[0m         \u001B[38;5;28mself\u001B[39m, beta,\n\u001B[0;32m    376\u001B[0m         normalized_cov_params\u001B[38;5;241m=\u001B[39m\u001B[38;5;28mself\u001B[39m\u001B[38;5;241m.\u001B[39mnormalized_cov_params,\n\u001B[0;32m    377\u001B[0m         cov_type\u001B[38;5;241m=\u001B[39mcov_type, cov_kwds\u001B[38;5;241m=\u001B[39mcov_kwds, use_t\u001B[38;5;241m=\u001B[39muse_t)\n\u001B[0;32m    378\u001B[0m \u001B[38;5;28;01melse\u001B[39;00m:\n\u001B[0;32m    379\u001B[0m     lfit \u001B[38;5;241m=\u001B[39m RegressionResults(\n\u001B[0;32m    380\u001B[0m         \u001B[38;5;28mself\u001B[39m, beta,\n\u001B[0;32m    381\u001B[0m         normalized_cov_params\u001B[38;5;241m=\u001B[39m\u001B[38;5;28mself\u001B[39m\u001B[38;5;241m.\u001B[39mnormalized_cov_params,\n\u001B[0;32m    382\u001B[0m         cov_type\u001B[38;5;241m=\u001B[39mcov_type, cov_kwds\u001B[38;5;241m=\u001B[39mcov_kwds, use_t\u001B[38;5;241m=\u001B[39muse_t,\n\u001B[0;32m    383\u001B[0m         \u001B[38;5;241m*\u001B[39m\u001B[38;5;241m*\u001B[39mkwargs)\n",
      "File \u001B[1;32mD:\\Users\\wangy\\anaconda3\\Lib\\site-packages\\statsmodels\\regression\\linear_model.py:1654\u001B[0m, in \u001B[0;36mRegressionResults.__init__\u001B[1;34m(self, model, params, normalized_cov_params, scale, cov_type, cov_kwds, use_t, **kwargs)\u001B[0m\n\u001B[0;32m   1652\u001B[0m             use_t \u001B[38;5;241m=\u001B[39m use_t_2\n\u001B[0;32m   1653\u001B[0m         \u001B[38;5;66;03m# TODO: warn or not?\u001B[39;00m\n\u001B[1;32m-> 1654\u001B[0m     \u001B[38;5;28mself\u001B[39m\u001B[38;5;241m.\u001B[39mget_robustcov_results(cov_type\u001B[38;5;241m=\u001B[39mcov_type, use_self\u001B[38;5;241m=\u001B[39m\u001B[38;5;28;01mTrue\u001B[39;00m,\n\u001B[0;32m   1655\u001B[0m                                use_t\u001B[38;5;241m=\u001B[39muse_t, \u001B[38;5;241m*\u001B[39m\u001B[38;5;241m*\u001B[39mcov_kwds)\n\u001B[0;32m   1656\u001B[0m \u001B[38;5;28;01mfor\u001B[39;00m key \u001B[38;5;129;01min\u001B[39;00m kwargs:\n\u001B[0;32m   1657\u001B[0m     \u001B[38;5;28msetattr\u001B[39m(\u001B[38;5;28mself\u001B[39m, key, kwargs[key])\n",
      "File \u001B[1;32mD:\\Users\\wangy\\anaconda3\\Lib\\site-packages\\statsmodels\\regression\\linear_model.py:2602\u001B[0m, in \u001B[0;36mRegressionResults.get_robustcov_results\u001B[1;34m(self, cov_type, use_t, **kwargs)\u001B[0m\n\u001B[0;32m   2598\u001B[0m     \u001B[38;5;28;01mif\u001B[39;00m adjust_df:\n\u001B[0;32m   2599\u001B[0m         \u001B[38;5;66;03m# need to find number of groups\u001B[39;00m\n\u001B[0;32m   2600\u001B[0m         \u001B[38;5;66;03m# duplicate work\u001B[39;00m\n\u001B[0;32m   2601\u001B[0m         \u001B[38;5;28mself\u001B[39m\u001B[38;5;241m.\u001B[39mn_groups \u001B[38;5;241m=\u001B[39m n_groups \u001B[38;5;241m=\u001B[39m \u001B[38;5;28mlen\u001B[39m(np\u001B[38;5;241m.\u001B[39munique(groups))\n\u001B[1;32m-> 2602\u001B[0m     res\u001B[38;5;241m.\u001B[39mcov_params_default \u001B[38;5;241m=\u001B[39m sw\u001B[38;5;241m.\u001B[39mcov_cluster(\n\u001B[0;32m   2603\u001B[0m         \u001B[38;5;28mself\u001B[39m, groups, use_correction\u001B[38;5;241m=\u001B[39muse_correction)\n\u001B[0;32m   2605\u001B[0m \u001B[38;5;28;01melif\u001B[39;00m groups\u001B[38;5;241m.\u001B[39mndim \u001B[38;5;241m==\u001B[39m \u001B[38;5;241m2\u001B[39m:\n\u001B[0;32m   2606\u001B[0m     \u001B[38;5;28;01mif\u001B[39;00m \u001B[38;5;28mhasattr\u001B[39m(groups, \u001B[38;5;124m'\u001B[39m\u001B[38;5;124mvalues\u001B[39m\u001B[38;5;124m'\u001B[39m):\n",
      "File \u001B[1;32mD:\\Users\\wangy\\anaconda3\\Lib\\site-packages\\statsmodels\\stats\\sandwich_covariance.py:530\u001B[0m, in \u001B[0;36mcov_cluster\u001B[1;34m(results, group, use_correction)\u001B[0m\n\u001B[0;32m    527\u001B[0m \u001B[38;5;28;01melse\u001B[39;00m:\n\u001B[0;32m    528\u001B[0m     clusters \u001B[38;5;241m=\u001B[39m np\u001B[38;5;241m.\u001B[39munique(group)\n\u001B[1;32m--> 530\u001B[0m scale \u001B[38;5;241m=\u001B[39m S_crosssection(xu, group)\n\u001B[0;32m    532\u001B[0m nobs, k_params \u001B[38;5;241m=\u001B[39m xu\u001B[38;5;241m.\u001B[39mshape\n\u001B[0;32m    533\u001B[0m n_groups \u001B[38;5;241m=\u001B[39m \u001B[38;5;28mlen\u001B[39m(clusters) \u001B[38;5;66;03m#replace with stored group attributes if available\u001B[39;00m\n",
      "File \u001B[1;32mD:\\Users\\wangy\\anaconda3\\Lib\\site-packages\\statsmodels\\stats\\sandwich_covariance.py:484\u001B[0m, in \u001B[0;36mS_crosssection\u001B[1;34m(x, group)\u001B[0m\n\u001B[0;32m    475\u001B[0m \u001B[38;5;28;01mdef\u001B[39;00m \u001B[38;5;21mS_crosssection\u001B[39m(x, group):\n\u001B[0;32m    476\u001B[0m \u001B[38;5;250m    \u001B[39m\u001B[38;5;124;03m'''inner covariance matrix for White on group sums sandwich\u001B[39;00m\n\u001B[0;32m    477\u001B[0m \n\u001B[0;32m    478\u001B[0m \u001B[38;5;124;03m    I guess for a single categorical group only,\u001B[39;00m\n\u001B[1;32m   (...)\u001B[0m\n\u001B[0;32m    482\u001B[0m \n\u001B[0;32m    483\u001B[0m \u001B[38;5;124;03m    '''\u001B[39;00m\n\u001B[1;32m--> 484\u001B[0m     x_group_sums \u001B[38;5;241m=\u001B[39m group_sums(x, group)\u001B[38;5;241m.\u001B[39mT  \u001B[38;5;66;03m#TODO: why transposed\u001B[39;00m\n\u001B[0;32m    486\u001B[0m     \u001B[38;5;28;01mreturn\u001B[39;00m S_white_simple(x_group_sums)\n",
      "File \u001B[1;32mD:\\Users\\wangy\\anaconda3\\Lib\\site-packages\\statsmodels\\tools\\grouputils.py:106\u001B[0m, in \u001B[0;36mgroup_sums\u001B[1;34m(x, group, use_bincount)\u001B[0m\n\u001B[0;32m    102\u001B[0m     \u001B[38;5;28;01mif\u001B[39;00m np\u001B[38;5;241m.\u001B[39mmax(group) \u001B[38;5;241m>\u001B[39m \u001B[38;5;241m2\u001B[39m \u001B[38;5;241m*\u001B[39m x\u001B[38;5;241m.\u001B[39mshape[\u001B[38;5;241m0\u001B[39m]:\n\u001B[0;32m    103\u001B[0m         group \u001B[38;5;241m=\u001B[39m pd\u001B[38;5;241m.\u001B[39mfactorize(group)[\u001B[38;5;241m0\u001B[39m]\n\u001B[0;32m    105\u001B[0m     \u001B[38;5;28;01mreturn\u001B[39;00m np\u001B[38;5;241m.\u001B[39marray(\n\u001B[1;32m--> 106\u001B[0m         [\n\u001B[0;32m    107\u001B[0m             np\u001B[38;5;241m.\u001B[39mbincount(group, weights\u001B[38;5;241m=\u001B[39mx[:, col])\n\u001B[0;32m    108\u001B[0m             \u001B[38;5;28;01mfor\u001B[39;00m col \u001B[38;5;129;01min\u001B[39;00m \u001B[38;5;28mrange\u001B[39m(x\u001B[38;5;241m.\u001B[39mshape[\u001B[38;5;241m1\u001B[39m])\n\u001B[0;32m    109\u001B[0m         ]\n\u001B[0;32m    110\u001B[0m     )\n\u001B[0;32m    111\u001B[0m \u001B[38;5;28;01melse\u001B[39;00m:\n\u001B[0;32m    112\u001B[0m     uniques \u001B[38;5;241m=\u001B[39m np\u001B[38;5;241m.\u001B[39munique(group)\n",
      "File \u001B[1;32mD:\\Users\\wangy\\anaconda3\\Lib\\site-packages\\statsmodels\\tools\\grouputils.py:107\u001B[0m, in \u001B[0;36m<listcomp>\u001B[1;34m(.0)\u001B[0m\n\u001B[0;32m    102\u001B[0m     \u001B[38;5;28;01mif\u001B[39;00m np\u001B[38;5;241m.\u001B[39mmax(group) \u001B[38;5;241m>\u001B[39m \u001B[38;5;241m2\u001B[39m \u001B[38;5;241m*\u001B[39m x\u001B[38;5;241m.\u001B[39mshape[\u001B[38;5;241m0\u001B[39m]:\n\u001B[0;32m    103\u001B[0m         group \u001B[38;5;241m=\u001B[39m pd\u001B[38;5;241m.\u001B[39mfactorize(group)[\u001B[38;5;241m0\u001B[39m]\n\u001B[0;32m    105\u001B[0m     \u001B[38;5;28;01mreturn\u001B[39;00m np\u001B[38;5;241m.\u001B[39marray(\n\u001B[0;32m    106\u001B[0m         [\n\u001B[1;32m--> 107\u001B[0m             np\u001B[38;5;241m.\u001B[39mbincount(group, weights\u001B[38;5;241m=\u001B[39mx[:, col])\n\u001B[0;32m    108\u001B[0m             \u001B[38;5;28;01mfor\u001B[39;00m col \u001B[38;5;129;01min\u001B[39;00m \u001B[38;5;28mrange\u001B[39m(x\u001B[38;5;241m.\u001B[39mshape[\u001B[38;5;241m1\u001B[39m])\n\u001B[0;32m    109\u001B[0m         ]\n\u001B[0;32m    110\u001B[0m     )\n\u001B[0;32m    111\u001B[0m \u001B[38;5;28;01melse\u001B[39;00m:\n\u001B[0;32m    112\u001B[0m     uniques \u001B[38;5;241m=\u001B[39m np\u001B[38;5;241m.\u001B[39munique(group)\n",
      "\u001B[1;31mValueError\u001B[0m: The weights and list don't have the same length."
     ]
    }
   ],
   "execution_count": 3
  }
 ],
 "metadata": {
  "kernelspec": {
   "display_name": "Python 3",
   "language": "python",
   "name": "python3"
  },
  "language_info": {
   "codemirror_mode": {
    "name": "ipython",
    "version": 2
   },
   "file_extension": ".py",
   "mimetype": "text/x-python",
   "name": "python",
   "nbconvert_exporter": "python",
   "pygments_lexer": "ipython2",
   "version": "2.7.6"
  }
 },
 "nbformat": 4,
 "nbformat_minor": 5
}
