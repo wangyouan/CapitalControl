{
 "cells": [
  {
   "cell_type": "code",
   "id": "initial_id",
   "metadata": {
    "collapsed": true,
    "ExecuteTime": {
     "end_time": "2024-09-05T06:07:43.279138Z",
     "start_time": "2024-09-05T06:07:38.946553Z"
    }
   },
   "source": [
    "import os\n",
    "\n",
    "import numpy as np\n",
    "import pandas as pd\n",
    "from pandas import DataFrame\n",
    "\n",
    "from Constant import Constants as const"
   ],
   "outputs": [],
   "execution_count": 1
  },
  {
   "metadata": {},
   "cell_type": "markdown",
   "source": "# Load capital control data and add data from LDX's data file.",
   "id": "2098c91484b5976b"
  },
  {
   "metadata": {
    "ExecuteTime": {
     "end_time": "2024-09-05T07:50:00.211668Z",
     "start_time": "2024-09-05T07:50:00.189117Z"
    }
   },
   "cell_type": "code",
   "source": [
    "ldy_use_columns = list()\n",
    "dep_vars = ['roa', 'seo', 'csr总得分', 'csr盈利得分', 'csr股东责任', 'emp_respon', 'csr供应商、客户和消费者权益责任', 'csr环境责任', 'csr社会责任', 'companyopacity']\n",
    "control_vars = ['roa', 'ppe1', 'ppe2', 'loss', 'duality', 'size', 'lev', 'longdetlev', 'intanr', 'fcf', 'mb', 'indep', 'bsize', 'soe', 'soe1', 'audbig', 'listage', 'firmage', 'growth', 'growth1', 'top1', 'tbq1', 'tbq2', 'tbq3', 'tbq4', 'b001100000', 'b001200000', 'b001000000', 'insinvestorprop', 'concurrentposition', 'incometaxtate', 'zscore', 'kz', 'a001000000', 'bm', 'fixedassets']\n",
    "identifier_vars = ['indcodea', 'indcodeb', 'code', 'year', 'indcd', 'prci', 'city', 'city4']\n",
    "rename_dict = {'b001100000': 'sales', 'b001200000': 'cost', 'b001000000': 'revenue', 'a001000000': 'totalassets', 'csr总得分': 'csr_score', 'csr盈利得分': 'csr_rev_score', 'csr股东责任': 'csr_shareholder', 'emp_respon': 'csr_emp', 'csr供应商、客户和消费者权益责任': 'csr_supplier_customer', 'csr环境责任': 'csr_env_score', 'csr社会责任': 'csr_social'}\n",
    "ldy_use_columns.extend(dep_vars)\n",
    "ldy_use_columns.extend(control_vars)\n",
    "ldy_use_columns.extend(identifier_vars)\n",
    "\n",
    "ldy_use_columns = list(set(ldy_use_columns))"
   ],
   "id": "a6486bd209655b99",
   "outputs": [],
   "execution_count": 8
  },
  {
   "metadata": {
    "ExecuteTime": {
     "end_time": "2024-09-05T07:50:31.009458Z",
     "start_time": "2024-09-05T07:50:28.971103Z"
    }
   },
   "cell_type": "code",
   "source": [
    "file_path = r'D:\\Users\\Dell\\Downloads'\n",
    "ldy_path = os.path.join(file_path, 'CSMAR_06-20.dta')\n",
    "ldy_df: DataFrame = pd.read_stata(ldy_path, columns=ldy_use_columns).rename(columns=rename_dict)"
   ],
   "id": "3cc11819e53afade",
   "outputs": [],
   "execution_count": 9
  },
  {
   "metadata": {
    "ExecuteTime": {
     "end_time": "2024-09-05T07:50:32.586084Z",
     "start_time": "2024-09-05T07:50:32.505733Z"
    }
   },
   "cell_type": "code",
   "source": "ldy_df.to_pickle(os.path.join(const.TEMP_PATH, '20240905_ldy_china_data.pkl'))",
   "id": "d7b51d39d4961f08",
   "outputs": [],
   "execution_count": 10
  }
 ],
 "metadata": {
  "kernelspec": {
   "display_name": "Python 3",
   "language": "python",
   "name": "python3"
  },
  "language_info": {
   "codemirror_mode": {
    "name": "ipython",
    "version": 2
   },
   "file_extension": ".py",
   "mimetype": "text/x-python",
   "name": "python",
   "nbconvert_exporter": "python",
   "pygments_lexer": "ipython2",
   "version": "2.7.6"
  }
 },
 "nbformat": 4,
 "nbformat_minor": 5
}
